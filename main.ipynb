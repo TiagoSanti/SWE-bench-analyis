{
 "cells": [
  {
   "cell_type": "code",
   "execution_count": 57,
   "metadata": {},
   "outputs": [],
   "source": [
    "import polars as pl"
   ]
  },
  {
   "cell_type": "code",
   "execution_count": 153,
   "metadata": {},
   "outputs": [],
   "source": [
    "swe_df = pl.read_parquet('hf://datasets/princeton-nlp/SWE-bench/data/test-00000-of-00001.parquet')"
   ]
  },
  {
   "cell_type": "code",
   "execution_count": 154,
   "metadata": {},
   "outputs": [
    {
     "data": {
      "text/html": [
       "<div><style>\n",
       ".dataframe > thead > tr,\n",
       ".dataframe > tbody > tr {\n",
       "  text-align: right;\n",
       "  white-space: pre-wrap;\n",
       "}\n",
       "</style>\n",
       "<small>shape: (2_294, 12)</small><table border=\"1\" class=\"dataframe\"><thead><tr><th>repo</th><th>instance_id</th><th>base_commit</th><th>patch</th><th>test_patch</th><th>problem_statement</th><th>hints_text</th><th>created_at</th><th>version</th><th>FAIL_TO_PASS</th><th>PASS_TO_PASS</th><th>environment_setup_commit</th></tr><tr><td>str</td><td>str</td><td>str</td><td>str</td><td>str</td><td>str</td><td>str</td><td>str</td><td>str</td><td>str</td><td>str</td><td>str</td></tr></thead><tbody><tr><td>&quot;astropy/astropy&quot;</td><td>&quot;astropy__astropy-11693&quot;</td><td>&quot;3832210580d516365ddae1a6207100…</td><td>&quot;diff --git a/astropy/wcs/wcsap…</td><td>&quot;diff --git a/astropy/wcs/wcsap…</td><td>&quot;&#x27;WCS.all_world2pix&#x27; failed to …</td><td>&quot;Welcome to Astropy 👋 and thank…</td><td>&quot;2021-05-04T10:05:33Z&quot;</td><td>&quot;4.2&quot;</td><td>&quot;[&quot;astropy/wcs/wcsapi/tests/tes…</td><td>&quot;[&quot;astropy/wcs/wcsapi/tests/tes…</td><td>&quot;3832210580d516365ddae1a6207100…</td></tr><tr><td>&quot;astropy/astropy&quot;</td><td>&quot;astropy__astropy-12057&quot;</td><td>&quot;b6769c18c0881b6d290e543e9334c2…</td><td>&quot;diff --git a/astropy/nddata/nd…</td><td>&quot;diff --git a/astropy/nddata/te…</td><td>&quot;Add helpers to convert between…</td><td>&quot;See also #10128 which is maybe…</td><td>&quot;2021-08-14T10:06:53Z&quot;</td><td>&quot;4.3&quot;</td><td>&quot;[&quot;astropy/nddata/tests/test_nd…</td><td>&quot;[&quot;astropy/nddata/tests/test_nd…</td><td>&quot;298ccb478e6bf092953bca67a3d29d…</td></tr><tr><td>&quot;astropy/astropy&quot;</td><td>&quot;astropy__astropy-12318&quot;</td><td>&quot;43ce7895bb5b61d4fab2f9cc7d0701…</td><td>&quot;diff --git a/astropy/modeling/…</td><td>&quot;diff --git a/astropy/modeling/…</td><td>&quot;BlackBody bolometric flux is w…</td><td>&quot;I forgot who added that part o…</td><td>&quot;2021-10-28T15:32:17Z&quot;</td><td>&quot;4.3&quot;</td><td>&quot;[&quot;astropy/modeling/tests/test_…</td><td>&quot;[&quot;astropy/modeling/tests/test_…</td><td>&quot;298ccb478e6bf092953bca67a3d29d…</td></tr><tr><td>&quot;astropy/astropy&quot;</td><td>&quot;astropy__astropy-12544&quot;</td><td>&quot;3a0cd2d8cd7b459cdc1e1b97a14f30…</td><td>&quot;diff --git a/astropy/io/fits/c…</td><td>&quot;diff --git a/astropy/io/fits/t…</td><td>&quot;Can Table masking be turned of…</td><td>&quot;&quot;</td><td>&quot;2021-11-30T16:14:01Z&quot;</td><td>&quot;4.3&quot;</td><td>&quot;[&quot;astropy/io/fits/tests/test_c…</td><td>&quot;[&quot;astropy/io/fits/tests/test_c…</td><td>&quot;298ccb478e6bf092953bca67a3d29d…</td></tr><tr><td>&quot;astropy/astropy&quot;</td><td>&quot;astropy__astropy-12825&quot;</td><td>&quot;43ee5806e9c6f7d58c12c1cb9287b3…</td><td>&quot;diff --git a/astropy/table/col…</td><td>&quot;diff --git a/astropy/table/tes…</td><td>&quot;SkyCoord in Table breaks aggre…</td><td>&quot;Hmm. Maybe the logic here need…</td><td>&quot;2022-02-05T12:13:44Z&quot;</td><td>&quot;4.3&quot;</td><td>&quot;[&quot;astropy/table/tests/test_gro…</td><td>&quot;[&quot;astropy/table/tests/test_gro…</td><td>&quot;298ccb478e6bf092953bca67a3d29d…</td></tr><tr><td>&hellip;</td><td>&hellip;</td><td>&hellip;</td><td>&hellip;</td><td>&hellip;</td><td>&hellip;</td><td>&hellip;</td><td>&hellip;</td><td>&hellip;</td><td>&hellip;</td><td>&hellip;</td><td>&hellip;</td></tr><tr><td>&quot;sympy/sympy&quot;</td><td>&quot;sympy__sympy-24562&quot;</td><td>&quot;b1cb676cf92dd1a48365b731979833…</td><td>&quot;diff --git a/sympy/core/number…</td><td>&quot;diff --git a/sympy/core/tests/…</td><td>&quot;Rational calc value error\n",
       "pyth…</td><td>&quot;This should probably raise an …</td><td>&quot;2023-01-21T12:06:36Z&quot;</td><td>&quot;1.12&quot;</td><td>&quot;[&quot;test_issue_24543&quot;]&quot;</td><td>&quot;[&quot;test_seterr&quot;, &quot;test_mod&quot;, &quot;t…</td><td>&quot;c6cb7c5602fa48034ab1bd43c2347a…</td></tr><tr><td>&quot;sympy/sympy&quot;</td><td>&quot;sympy__sympy-24638&quot;</td><td>&quot;c4d6b3eb1c7b39832116f7b02baf52…</td><td>&quot;diff --git a/sympy/tensor/arra…</td><td>&quot;diff --git a/sympy/matrices/ex…</td><td>&quot;MatMul(x.T, OneMatrix(k, 1)).d…</td><td>&quot;&quot;</td><td>&quot;2023-01-31T18:25:33Z&quot;</td><td>&quot;1.12&quot;</td><td>&quot;[&quot;test_one_matrix&quot;]&quot;</td><td>&quot;[&quot;test_matrix_derivative_by_sc…</td><td>&quot;c6cb7c5602fa48034ab1bd43c2347a…</td></tr><tr><td>&quot;sympy/sympy&quot;</td><td>&quot;sympy__sympy-24661&quot;</td><td>&quot;a36caf5c74fe654cedc488e8a8a05f…</td><td>&quot;diff --git a/sympy/parsing/sym…</td><td>&quot;diff --git a/sympy/parsing/tes…</td><td>&quot;The evaluate=False parameter t…</td><td>&quot;Actually this problem is not o…</td><td>&quot;2023-02-05T19:15:22Z&quot;</td><td>&quot;1.12&quot;</td><td>&quot;[&quot;test_issue_24288&quot;]&quot;</td><td>&quot;[&quot;test_sympy_parser&quot;, &quot;test_ra…</td><td>&quot;c6cb7c5602fa48034ab1bd43c2347a…</td></tr><tr><td>&quot;sympy/sympy&quot;</td><td>&quot;sympy__sympy-24723&quot;</td><td>&quot;671d41cb624388df6a5ae0f3e0ff24…</td><td>&quot;diff --git a/sympy/stats/matri…</td><td>&quot;diff --git a/sympy/stats/tests…</td><td>&quot;Stats: Matrix Normal Distribut…</td><td>&quot;&quot;</td><td>&quot;2023-02-15T10:48:06Z&quot;</td><td>&quot;1.12&quot;</td><td>&quot;[&quot;test_MatrixNormal&quot;]&quot;</td><td>&quot;[&quot;test_MatrixPSpace&quot;, &quot;test_Ma…</td><td>&quot;c6cb7c5602fa48034ab1bd43c2347a…</td></tr><tr><td>&quot;sympy/sympy&quot;</td><td>&quot;sympy__sympy-24909&quot;</td><td>&quot;d3b4158dea271485e3daa11bf82e69…</td><td>&quot;diff --git a/sympy/physics/uni…</td><td>&quot;diff --git a/sympy/physics/uni…</td><td>&quot;Bug with milli prefix\n",
       "What hap…</td><td>&quot;I get a 1 for all of the follo…</td><td>&quot;2023-03-13T14:24:25Z&quot;</td><td>&quot;1.13&quot;</td><td>&quot;[&quot;test_prefix_operations&quot;]&quot;</td><td>&quot;[&quot;test_prefix_unit&quot;, &quot;test_bas…</td><td>&quot;be161798ecc7278ccf3ffa47259e3b…</td></tr></tbody></table></div>"
      ],
      "text/plain": [
       "shape: (2_294, 12)\n",
       "┌────────────┬───────────┬───────────┬───────────┬───┬─────────┬───────────┬───────────┬───────────┐\n",
       "│ repo       ┆ instance_ ┆ base_comm ┆ patch     ┆ … ┆ version ┆ FAIL_TO_P ┆ PASS_TO_P ┆ environme │\n",
       "│ ---        ┆ id        ┆ it        ┆ ---       ┆   ┆ ---     ┆ ASS       ┆ ASS       ┆ nt_setup_ │\n",
       "│ str        ┆ ---       ┆ ---       ┆ str       ┆   ┆ str     ┆ ---       ┆ ---       ┆ commit    │\n",
       "│            ┆ str       ┆ str       ┆           ┆   ┆         ┆ str       ┆ str       ┆ ---       │\n",
       "│            ┆           ┆           ┆           ┆   ┆         ┆           ┆           ┆ str       │\n",
       "╞════════════╪═══════════╪═══════════╪═══════════╪═══╪═════════╪═══════════╪═══════════╪═══════════╡\n",
       "│ astropy/as ┆ astropy__ ┆ 383221058 ┆ diff      ┆ … ┆ 4.2     ┆ [\"astropy ┆ [\"astropy ┆ 383221058 │\n",
       "│ tropy      ┆ astropy-1 ┆ 0d516365d ┆ --git a/a ┆   ┆         ┆ /wcs/wcsa ┆ /wcs/wcsa ┆ 0d516365d │\n",
       "│            ┆ 1693      ┆ dae1a6207 ┆ stropy/wc ┆   ┆         ┆ pi/tests/ ┆ pi/tests/ ┆ dae1a6207 │\n",
       "│            ┆           ┆ 100…      ┆ s/wcsap…  ┆   ┆         ┆ tes…      ┆ tes…      ┆ 100…      │\n",
       "│ astropy/as ┆ astropy__ ┆ b6769c18c ┆ diff      ┆ … ┆ 4.3     ┆ [\"astropy ┆ [\"astropy ┆ 298ccb478 │\n",
       "│ tropy      ┆ astropy-1 ┆ 0881b6d29 ┆ --git a/a ┆   ┆         ┆ /nddata/t ┆ /nddata/t ┆ e6bf09295 │\n",
       "│            ┆ 2057      ┆ 0e543e933 ┆ stropy/nd ┆   ┆         ┆ ests/test ┆ ests/test ┆ 3bca67a3d │\n",
       "│            ┆           ┆ 4c2…      ┆ data/nd…  ┆   ┆         ┆ _nd…      ┆ _nd…      ┆ 29d…      │\n",
       "│ astropy/as ┆ astropy__ ┆ 43ce7895b ┆ diff      ┆ … ┆ 4.3     ┆ [\"astropy ┆ [\"astropy ┆ 298ccb478 │\n",
       "│ tropy      ┆ astropy-1 ┆ b5b61d4fa ┆ --git a/a ┆   ┆         ┆ /modeling ┆ /modeling ┆ e6bf09295 │\n",
       "│            ┆ 2318      ┆ b2f9cc7d0 ┆ stropy/mo ┆   ┆         ┆ /tests/te ┆ /tests/te ┆ 3bca67a3d │\n",
       "│            ┆           ┆ 701…      ┆ deling/…  ┆   ┆         ┆ st_…      ┆ st_…      ┆ 29d…      │\n",
       "│ astropy/as ┆ astropy__ ┆ 3a0cd2d8c ┆ diff      ┆ … ┆ 4.3     ┆ [\"astropy ┆ [\"astropy ┆ 298ccb478 │\n",
       "│ tropy      ┆ astropy-1 ┆ d7b459cdc ┆ --git a/a ┆   ┆         ┆ /io/fits/ ┆ /io/fits/ ┆ e6bf09295 │\n",
       "│            ┆ 2544      ┆ 1e1b97a14 ┆ stropy/io ┆   ┆         ┆ tests/tes ┆ tests/tes ┆ 3bca67a3d │\n",
       "│            ┆           ┆ f30…      ┆ /fits/c…  ┆   ┆         ┆ t_c…      ┆ t_c…      ┆ 29d…      │\n",
       "│ astropy/as ┆ astropy__ ┆ 43ee5806e ┆ diff      ┆ … ┆ 4.3     ┆ [\"astropy ┆ [\"astropy ┆ 298ccb478 │\n",
       "│ tropy      ┆ astropy-1 ┆ 9c6f7d58c ┆ --git a/a ┆   ┆         ┆ /table/te ┆ /table/te ┆ e6bf09295 │\n",
       "│            ┆ 2825      ┆ 12c1cb928 ┆ stropy/ta ┆   ┆         ┆ sts/test_ ┆ sts/test_ ┆ 3bca67a3d │\n",
       "│            ┆           ┆ 7b3…      ┆ ble/col…  ┆   ┆         ┆ gro…      ┆ gro…      ┆ 29d…      │\n",
       "│ …          ┆ …         ┆ …         ┆ …         ┆ … ┆ …       ┆ …         ┆ …         ┆ …         │\n",
       "│ sympy/symp ┆ sympy__sy ┆ b1cb676cf ┆ diff      ┆ … ┆ 1.12    ┆ [\"test_is ┆ [\"test_se ┆ c6cb7c560 │\n",
       "│ y          ┆ mpy-24562 ┆ 92dd1a483 ┆ --git a/s ┆   ┆         ┆ sue_24543 ┆ terr\",    ┆ 2fa48034a │\n",
       "│            ┆           ┆ 65b731979 ┆ ympy/core ┆   ┆         ┆ \"]        ┆ \"test_mod ┆ b1bd43c23 │\n",
       "│            ┆           ┆ 833…      ┆ /number…  ┆   ┆         ┆           ┆ \", \"t…    ┆ 47a…      │\n",
       "│ sympy/symp ┆ sympy__sy ┆ c4d6b3eb1 ┆ diff      ┆ … ┆ 1.12    ┆ [\"test_on ┆ [\"test_ma ┆ c6cb7c560 │\n",
       "│ y          ┆ mpy-24638 ┆ c7b398321 ┆ --git a/s ┆   ┆         ┆ e_matrix\" ┆ trix_deri ┆ 2fa48034a │\n",
       "│            ┆           ┆ 16f7b02ba ┆ ympy/tens ┆   ┆         ┆ ]         ┆ vative_by ┆ b1bd43c23 │\n",
       "│            ┆           ┆ f52…      ┆ or/arra…  ┆   ┆         ┆           ┆ _sc…      ┆ 47a…      │\n",
       "│ sympy/symp ┆ sympy__sy ┆ a36caf5c7 ┆ diff      ┆ … ┆ 1.12    ┆ [\"test_is ┆ [\"test_sy ┆ c6cb7c560 │\n",
       "│ y          ┆ mpy-24661 ┆ 4fe654ced ┆ --git a/s ┆   ┆         ┆ sue_24288 ┆ mpy_parse ┆ 2fa48034a │\n",
       "│            ┆           ┆ c488e8a8a ┆ ympy/pars ┆   ┆         ┆ \"]        ┆ r\",       ┆ b1bd43c23 │\n",
       "│            ┆           ┆ 05f…      ┆ ing/sym…  ┆   ┆         ┆           ┆ \"test_ra… ┆ 47a…      │\n",
       "│ sympy/symp ┆ sympy__sy ┆ 671d41cb6 ┆ diff      ┆ … ┆ 1.12    ┆ [\"test_Ma ┆ [\"test_Ma ┆ c6cb7c560 │\n",
       "│ y          ┆ mpy-24723 ┆ 24388df6a ┆ --git a/s ┆   ┆         ┆ trixNorma ┆ trixPSpac ┆ 2fa48034a │\n",
       "│            ┆           ┆ 5ae0f3e0f ┆ ympy/stat ┆   ┆         ┆ l\"]       ┆ e\",       ┆ b1bd43c23 │\n",
       "│            ┆           ┆ f24…      ┆ s/matri…  ┆   ┆         ┆           ┆ \"test_Ma… ┆ 47a…      │\n",
       "│ sympy/symp ┆ sympy__sy ┆ d3b4158de ┆ diff      ┆ … ┆ 1.13    ┆ [\"test_pr ┆ [\"test_pr ┆ be161798e │\n",
       "│ y          ┆ mpy-24909 ┆ a271485e3 ┆ --git a/s ┆   ┆         ┆ efix_oper ┆ efix_unit ┆ cc7278ccf │\n",
       "│            ┆           ┆ daa11bf82 ┆ ympy/phys ┆   ┆         ┆ ations\"]  ┆ \", \"test_ ┆ 3ffa47259 │\n",
       "│            ┆           ┆ e69…      ┆ ics/uni…  ┆   ┆         ┆           ┆ bas…      ┆ e3b…      │\n",
       "└────────────┴───────────┴───────────┴───────────┴───┴─────────┴───────────┴───────────┴───────────┘"
      ]
     },
     "execution_count": 154,
     "metadata": {},
     "output_type": "execute_result"
    }
   ],
   "source": [
    "swe_df"
   ]
  },
  {
   "cell_type": "markdown",
   "metadata": {},
   "source": [
    "# Lite bench\n",
    "\n",
    "## Experiments (6 best)\n",
    "\n",
    "- 20240702_codestory_aide_mixed\n",
    "- 20240820_honeycomb\n",
    "- 20240627_abanteai_mentatbot_gpt4o\n",
    "- 20240811_gru\n",
    "- 20240829_Isoform\n",
    "- 20240806_SuperCoder2"
   ]
  },
  {
   "cell_type": "code",
   "execution_count": 138,
   "metadata": {},
   "outputs": [],
   "source": [
    "swe_bench_lite_df = pl.read_parquet('hf://datasets/princeton-nlp/SWE-bench_Lite/data/test-00000-of-00001.parquet')"
   ]
  },
  {
   "cell_type": "code",
   "execution_count": 139,
   "metadata": {},
   "outputs": [],
   "source": [
    "lite_dir = './experiments/evaluation/lite/'\n",
    "\n",
    "experiments = [\n",
    "    '20240702_codestory_aide_mixed',\n",
    "    '20240820_honeycomb',\n",
    "    '20240627_abanteai_mentatbot_gpt4o',\n",
    "    '20240811_gru',\n",
    "    '20240829_Isoform',\n",
    "    '20240806_SuperCoder2.0',\n",
    "]"
   ]
  },
  {
   "cell_type": "code",
   "execution_count": 140,
   "metadata": {},
   "outputs": [],
   "source": [
    "import json\n",
    "import os\n",
    "import re\n",
    "\n",
    "def read_jsonl_file_line_by_line(file_path):\n",
    "    data = []\n",
    "    try:\n",
    "        with open(file_path, 'r', encoding='utf-8') as f:\n",
    "            for line in f:\n",
    "                try:\n",
    "                    data.append(json.loads(line))\n",
    "                except json.JSONDecodeError as e:\n",
    "                    print(f\"JSON decode error in {file_path}: {e}\")\n",
    "        return data\n",
    "    except Exception as e:\n",
    "        print(f\"Error opening {file_path}: {e}\")\n",
    "        return None\n",
    "\n",
    "pattern = r'diff --git a/.+? b/(.+)'"
   ]
  },
  {
   "cell_type": "code",
   "execution_count": 141,
   "metadata": {},
   "outputs": [],
   "source": [
    "all_preds = {}\n",
    "\n",
    "for exp in experiments:\n",
    "    file_path = os.path.join(lite_dir, exp, 'all_preds.jsonl')\n",
    "    df_data = read_jsonl_file_line_by_line(file_path)\n",
    "    \n",
    "    if df_data is not None:\n",
    "        df = pl.DataFrame(df_data)\n",
    "        \n",
    "        if 'model_patch' in df.columns:\n",
    "            df = df.with_columns(\n",
    "                pl.col('model_patch').str.extract(pattern, 1).alias('file_changed')\n",
    "            )\n",
    "        \n",
    "        all_preds[exp] = df"
   ]
  },
  {
   "cell_type": "code",
   "execution_count": 142,
   "metadata": {},
   "outputs": [
    {
     "name": "stdout",
     "output_type": "stream",
     "text": [
      "shape: (5, 4)\n",
      "┌────────────────────┬───────────────────────────┬──────────────────────────┬──────────────────────┐\n",
      "│ model_name_or_path ┆ instance_id               ┆ file_changed             ┆ model_patch          │\n",
      "│ ---                ┆ ---                       ┆ ---                      ┆ ---                  │\n",
      "│ str                ┆ str                       ┆ str                      ┆ str                  │\n",
      "╞════════════════════╪═══════════════════════════╪══════════════════════════╪══════════════════════╡\n",
      "│ codestory-mixed    ┆ matplotlib__matplotlib-25 ┆ lib/matplotlib/widgets.p ┆ diff --git           │\n",
      "│                    ┆ 433                       ┆ y                        ┆ a/lib/matplotlib/wi… │\n",
      "│ codestory-mixed    ┆ django__django-16820      ┆ django/db/migrations/aut ┆ diff --git           │\n",
      "│                    ┆                           ┆ odetec…                  ┆ a/django/db/migrati… │\n",
      "│ codestory-mixed    ┆ django__django-15781      ┆ django/core/management/b ┆ diff --git           │\n",
      "│                    ┆                           ┆ ase.py                   ┆ a/django/core/manag… │\n",
      "│ codestory-mixed    ┆ sympy__sympy-18087        ┆ sympy/simplify/trigsimp. ┆ diff --git           │\n",
      "│                    ┆                           ┆ py                       ┆ a/sympy/simplify/tr… │\n",
      "│ codestory-mixed    ┆ pytest-dev__pytest-5495   ┆ src/_pytest/_code/code.p ┆ diff --git           │\n",
      "│                    ┆                           ┆ y                        ┆ a/src/_pytest/_code… │\n",
      "└────────────────────┴───────────────────────────┴──────────────────────────┴──────────────────────┘\n",
      "shape: (5, 4)\n",
      "┌────────────────────┬──────────────────────┬───────────────────────────┬──────────────────────────┐\n",
      "│ model_name_or_path ┆ instance_id          ┆ file_changed              ┆ model_patch              │\n",
      "│ ---                ┆ ---                  ┆ ---                       ┆ ---                      │\n",
      "│ str                ┆ str                  ┆ str                       ┆ str                      │\n",
      "╞════════════════════╪══════════════════════╪═══════════════════════════╪══════════════════════════╡\n",
      "│ honeycomb          ┆ django__django-11179 ┆ __init__.py               ┆ diff --git a/__init__.py │\n",
      "│                    ┆                      ┆                           ┆ b/__i…                   │\n",
      "│ honeycomb          ┆ django__django-11405 ┆ django/db/models/query.py ┆ diff --git               │\n",
      "│                    ┆                      ┆                           ┆ a/django/db/models/…     │\n",
      "│ honeycomb          ┆ django__django-11880 ┆ django/forms/fields.py    ┆ diff --git               │\n",
      "│                    ┆                      ┆                           ┆ a/django/forms/fiel…     │\n",
      "│ honeycomb          ┆ django__django-12209 ┆ django/db/models/base.py  ┆ diff --git               │\n",
      "│                    ┆                      ┆                           ┆ a/django/db/models/…     │\n",
      "│ honeycomb          ┆ django__django-13230 ┆ django/conf/global_settin ┆ diff --git               │\n",
      "│                    ┆                      ┆ gs.py                     ┆ a/django/conf/globa…     │\n",
      "└────────────────────┴──────────────────────┴───────────────────────────┴──────────────────────────┘\n",
      "shape: (5, 4)\n",
      "┌────────────────────┬─────────────────────────┬────────────────────────────┬──────────────────────┐\n",
      "│ model_name_or_path ┆ instance_id             ┆ file_changed               ┆ model_patch          │\n",
      "│ ---                ┆ ---                     ┆ ---                        ┆ ---                  │\n",
      "│ str                ┆ str                     ┆ str                        ┆ str                  │\n",
      "╞════════════════════╪═════════════════════════╪════════════════════════════╪══════════════════════╡\n",
      "│ Demo               ┆ django__django-15814    ┆ django/db/models/sql/query ┆ diff --git           │\n",
      "│                    ┆                         ┆ .py                        ┆ a/django/db/models/… │\n",
      "│ Demo               ┆ django__django-13401    ┆ django/db/models/fields/__ ┆ diff --git           │\n",
      "│                    ┆                         ┆ init…                      ┆ a/django/db/models/… │\n",
      "│ Demo               ┆ astropy__astropy-14995  ┆ astropy/nddata/mixins/ndar ┆ diff --git           │\n",
      "│                    ┆                         ┆ ithm…                      ┆ a/astropy/nddata/mi… │\n",
      "│ Demo               ┆ django__django-12308    ┆ django/contrib/admin/utils ┆ diff --git           │\n",
      "│                    ┆                         ┆ .py                        ┆ a/django/contrib/ad… │\n",
      "│ Demo               ┆ sphinx-doc__sphinx-7738 ┆ sphinx/ext/napoleon/docstr ┆ diff --git           │\n",
      "│                    ┆                         ┆ ing.…                      ┆ a/sphinx/ext/napole… │\n",
      "└────────────────────┴─────────────────────────┴────────────────────────────┴──────────────────────┘\n",
      "shape: (5, 4)\n",
      "┌─────────────────────────┬──────────────────────┬────────────────────────┬────────────────────────┐\n",
      "│ model_name_or_path      ┆ instance_id          ┆ file_changed           ┆ model_patch            │\n",
      "│ ---                     ┆ ---                  ┆ ---                    ┆ ---                    │\n",
      "│ str                     ┆ str                  ┆ str                    ┆ str                    │\n",
      "╞═════════════════════════╪══════════════════════╪════════════════════════╪════════════════════════╡\n",
      "│ 20240811_babelcloud_gru ┆ django__django-11283 ┆ django/contrib/auth/mi ┆ diff --git             │\n",
      "│                         ┆                      ┆ grations…              ┆ a/django/contrib/au…   │\n",
      "│ 20240811_babelcloud_gru ┆ django__django-13321 ┆ django/contrib/session ┆ diff --git             │\n",
      "│                         ┆                      ┆ s/backen…              ┆ a/django/contrib/se…   │\n",
      "│ 20240811_babelcloud_gru ┆ django__django-11620 ┆ django/urls/converters ┆ diff --git             │\n",
      "│                         ┆                      ┆ .py                    ┆ a/django/urls/conve…   │\n",
      "│ 20240811_babelcloud_gru ┆ django__django-12184 ┆ django/core/handlers/b ┆ diff --git             │\n",
      "│                         ┆                      ┆ ase.py                 ┆ a/django/core/handl…   │\n",
      "│ 20240811_babelcloud_gru ┆ django__django-11797 ┆ django/db/models/query ┆ diff --git             │\n",
      "│                         ┆                      ┆ .py                    ┆ a/django/db/models/…   │\n",
      "└─────────────────────────┴──────────────────────┴────────────────────────┴────────────────────────┘\n",
      "shape: (5, 4)\n",
      "┌────────────────────┬────────────────────────┬─────────────────────────────┬──────────────────────┐\n",
      "│ model_name_or_path ┆ instance_id            ┆ file_changed                ┆ model_patch          │\n",
      "│ ---                ┆ ---                    ┆ ---                         ┆ ---                  │\n",
      "│ str                ┆ str                    ┆ str                         ┆ str                  │\n",
      "╞════════════════════╪════════════════════════╪═════════════════════════════╪══════════════════════╡\n",
      "│ isoform            ┆ astropy__astropy-12907 ┆ astropy/modeling/separable. ┆ diff --git           │\n",
      "│                    ┆                        ┆ py                          ┆ a/astropy/modeling/… │\n",
      "│ isoform            ┆ astropy__astropy-14182 ┆ astropy/io/ascii/fixedwidth ┆ diff --git           │\n",
      "│                    ┆                        ┆ .py                         ┆ a/astropy/io/ascii/… │\n",
      "│ isoform            ┆ astropy__astropy-14365 ┆ astropy/io/ascii/qdp.py     ┆ diff --git           │\n",
      "│                    ┆                        ┆                             ┆ a/astropy/io/ascii/… │\n",
      "│ isoform            ┆ astropy__astropy-14995 ┆ astropy/nddata/mixins/ndari ┆ diff --git           │\n",
      "│                    ┆                        ┆ thm…                        ┆ a/astropy/nddata/mi… │\n",
      "│ isoform            ┆ astropy__astropy-6938  ┆ astropy/io/fits/fitsrec.py  ┆ diff --git           │\n",
      "│                    ┆                        ┆                             ┆ a/astropy/io/fits/f… │\n",
      "└────────────────────┴────────────────────────┴─────────────────────────────┴──────────────────────┘\n",
      "shape: (5, 4)\n",
      "┌────────────────────┬─────────────────────────┬────────────────────────────┬──────────────────────┐\n",
      "│ model_name_or_path ┆ instance_id             ┆ file_changed               ┆ model_patch          │\n",
      "│ ---                ┆ ---                     ┆ ---                        ┆ ---                  │\n",
      "│ str                ┆ str                     ┆ str                        ┆ str                  │\n",
      "╞════════════════════╪═════════════════════════╪════════════════════════════╪══════════════════════╡\n",
      "│ SuperCoder2.0      ┆ psf__requests-1963      ┆ requests/sessions.py       ┆ diff --git           │\n",
      "│                    ┆                         ┆                            ┆ a/requests/sessions… │\n",
      "│ SuperCoder2.0      ┆ django__django-17087    ┆ django/db/migrations/opera ┆ diff --git           │\n",
      "│                    ┆                         ┆ tion…                      ┆ a/django/db/migrati… │\n",
      "│ SuperCoder2.0      ┆ django__django-15347    ┆ django/contrib/messages/st ┆ diff --git           │\n",
      "│                    ┆                         ┆ orag…                      ┆ a/django/contrib/me… │\n",
      "│ SuperCoder2.0      ┆ pytest-dev__pytest-7490 ┆ src/_pytest/nodes.py       ┆ diff --git           │\n",
      "│                    ┆                         ┆                            ┆ a/src/_pytest/nodes… │\n",
      "│ SuperCoder2.0      ┆ sphinx-doc__sphinx-8273 ┆ sphinx/builders/manpage.py ┆ diff --git           │\n",
      "│                    ┆                         ┆                            ┆ a/sphinx/builders/m… │\n",
      "└────────────────────┴─────────────────────────┴────────────────────────────┴──────────────────────┘\n"
     ]
    }
   ],
   "source": [
    "for key in all_preds.keys():\n",
    "    all_preds[key] = all_preds[key].select(['model_name_or_path', 'instance_id', 'file_changed', 'model_patch'])\n",
    "    print(all_preds[key].head())"
   ]
  },
  {
   "cell_type": "code",
   "execution_count": 143,
   "metadata": {},
   "outputs": [
    {
     "data": {
      "text/html": [
       "<div><style>\n",
       ".dataframe > thead > tr,\n",
       ".dataframe > tbody > tr {\n",
       "  text-align: right;\n",
       "  white-space: pre-wrap;\n",
       "}\n",
       "</style>\n",
       "<small>shape: (3_736, 4)</small><table border=\"1\" class=\"dataframe\"><thead><tr><th>model_name_or_path</th><th>instance_id</th><th>file_changed</th><th>model_patch</th></tr><tr><td>str</td><td>str</td><td>str</td><td>str</td></tr></thead><tbody><tr><td>&quot;codestory-mixed&quot;</td><td>&quot;matplotlib__matplotlib-25433&quot;</td><td>&quot;lib/matplotlib/widgets.py&quot;</td><td>&quot;diff --git a/lib/matplotlib/wi…</td></tr><tr><td>&quot;codestory-mixed&quot;</td><td>&quot;django__django-16820&quot;</td><td>&quot;django/db/migrations/autodetec…</td><td>&quot;diff --git a/django/db/migrati…</td></tr><tr><td>&quot;codestory-mixed&quot;</td><td>&quot;django__django-15781&quot;</td><td>&quot;django/core/management/base.py&quot;</td><td>&quot;diff --git a/django/core/manag…</td></tr><tr><td>&quot;codestory-mixed&quot;</td><td>&quot;sympy__sympy-18087&quot;</td><td>&quot;sympy/simplify/trigsimp.py&quot;</td><td>&quot;diff --git a/sympy/simplify/tr…</td></tr><tr><td>&quot;codestory-mixed&quot;</td><td>&quot;pytest-dev__pytest-5495&quot;</td><td>&quot;src/_pytest/_code/code.py&quot;</td><td>&quot;diff --git a/src/_pytest/_code…</td></tr><tr><td>&hellip;</td><td>&hellip;</td><td>&hellip;</td><td>&hellip;</td></tr><tr><td>&quot;SuperCoder2.0&quot;</td><td>&quot;scikit-learn__scikit-learn-255…</td><td>&quot;sklearn/compose/_column_transf…</td><td>&quot;diff --git a/sklearn/compose/_…</td></tr><tr><td>&quot;SuperCoder2.0&quot;</td><td>&quot;sphinx-doc__sphinx-8801&quot;</td><td>&quot;sphinx/ext/autodoc/__init__.py&quot;</td><td>&quot;diff --git a/sphinx/ext/autodo…</td></tr><tr><td>&quot;SuperCoder2.0&quot;</td><td>&quot;sympy__sympy-14396&quot;</td><td>&quot;sympy/polys/polyoptions.py&quot;</td><td>&quot;diff --git a/sympy/polys/polyo…</td></tr><tr><td>&quot;SuperCoder2.0&quot;</td><td>&quot;django__django-11905&quot;</td><td>&quot;django/db/models/lookups.py&quot;</td><td>&quot;diff --git a/django/db/models/…</td></tr><tr><td>&quot;SuperCoder2.0&quot;</td><td>&quot;sympy__sympy-21627&quot;</td><td>&quot;sympy/functions/elementary/hyp…</td><td>&quot;diff --git a/sympy/functions/e…</td></tr></tbody></table></div>"
      ],
      "text/plain": [
       "shape: (3_736, 4)\n",
       "┌────────────────────┬───────────────────────────┬──────────────────────────┬──────────────────────┐\n",
       "│ model_name_or_path ┆ instance_id               ┆ file_changed             ┆ model_patch          │\n",
       "│ ---                ┆ ---                       ┆ ---                      ┆ ---                  │\n",
       "│ str                ┆ str                       ┆ str                      ┆ str                  │\n",
       "╞════════════════════╪═══════════════════════════╪══════════════════════════╪══════════════════════╡\n",
       "│ codestory-mixed    ┆ matplotlib__matplotlib-25 ┆ lib/matplotlib/widgets.p ┆ diff --git           │\n",
       "│                    ┆ 433                       ┆ y                        ┆ a/lib/matplotlib/wi… │\n",
       "│ codestory-mixed    ┆ django__django-16820      ┆ django/db/migrations/aut ┆ diff --git           │\n",
       "│                    ┆                           ┆ odetec…                  ┆ a/django/db/migrati… │\n",
       "│ codestory-mixed    ┆ django__django-15781      ┆ django/core/management/b ┆ diff --git           │\n",
       "│                    ┆                           ┆ ase.py                   ┆ a/django/core/manag… │\n",
       "│ codestory-mixed    ┆ sympy__sympy-18087        ┆ sympy/simplify/trigsimp. ┆ diff --git           │\n",
       "│                    ┆                           ┆ py                       ┆ a/sympy/simplify/tr… │\n",
       "│ codestory-mixed    ┆ pytest-dev__pytest-5495   ┆ src/_pytest/_code/code.p ┆ diff --git           │\n",
       "│                    ┆                           ┆ y                        ┆ a/src/_pytest/_code… │\n",
       "│ …                  ┆ …                         ┆ …                        ┆ …                    │\n",
       "│ SuperCoder2.0      ┆ scikit-learn__scikit-lear ┆ sklearn/compose/_column_ ┆ diff --git           │\n",
       "│                    ┆ n-255…                    ┆ transf…                  ┆ a/sklearn/compose/_… │\n",
       "│ SuperCoder2.0      ┆ sphinx-doc__sphinx-8801   ┆ sphinx/ext/autodoc/__ini ┆ diff --git           │\n",
       "│                    ┆                           ┆ t__.py                   ┆ a/sphinx/ext/autodo… │\n",
       "│ SuperCoder2.0      ┆ sympy__sympy-14396        ┆ sympy/polys/polyoptions. ┆ diff --git           │\n",
       "│                    ┆                           ┆ py                       ┆ a/sympy/polys/polyo… │\n",
       "│ SuperCoder2.0      ┆ django__django-11905      ┆ django/db/models/lookups ┆ diff --git           │\n",
       "│                    ┆                           ┆ .py                      ┆ a/django/db/models/… │\n",
       "│ SuperCoder2.0      ┆ sympy__sympy-21627        ┆ sympy/functions/elementa ┆ diff --git           │\n",
       "│                    ┆                           ┆ ry/hyp…                  ┆ a/sympy/functions/e… │\n",
       "└────────────────────┴───────────────────────────┴──────────────────────────┴──────────────────────┘"
      ]
     },
     "execution_count": 143,
     "metadata": {},
     "output_type": "execute_result"
    }
   ],
   "source": [
    "lite_bench_df = pl.concat(list(all_preds.values()))\n",
    "lite_bench_df"
   ]
  },
  {
   "cell_type": "code",
   "execution_count": 144,
   "metadata": {},
   "outputs": [
    {
     "data": {
      "text/html": [
       "<div><style>\n",
       ".dataframe > thead > tr,\n",
       ".dataframe > tbody > tr {\n",
       "  text-align: right;\n",
       "  white-space: pre-wrap;\n",
       "}\n",
       "</style>\n",
       "<small>shape: (3_410, 4)</small><table border=\"1\" class=\"dataframe\"><thead><tr><th>model_name_or_path</th><th>instance_id</th><th>file_changed</th><th>model_patch</th></tr><tr><td>str</td><td>str</td><td>str</td><td>str</td></tr></thead><tbody><tr><td>&quot;codestory-mixed&quot;</td><td>&quot;matplotlib__matplotlib-25433&quot;</td><td>&quot;lib/matplotlib/widgets.py&quot;</td><td>&quot;diff --git a/lib/matplotlib/wi…</td></tr><tr><td>&quot;codestory-mixed&quot;</td><td>&quot;django__django-16820&quot;</td><td>&quot;django/db/migrations/autodetec…</td><td>&quot;diff --git a/django/db/migrati…</td></tr><tr><td>&quot;codestory-mixed&quot;</td><td>&quot;django__django-15781&quot;</td><td>&quot;django/core/management/base.py&quot;</td><td>&quot;diff --git a/django/core/manag…</td></tr><tr><td>&quot;codestory-mixed&quot;</td><td>&quot;sympy__sympy-18087&quot;</td><td>&quot;sympy/simplify/trigsimp.py&quot;</td><td>&quot;diff --git a/sympy/simplify/tr…</td></tr><tr><td>&quot;codestory-mixed&quot;</td><td>&quot;pytest-dev__pytest-5495&quot;</td><td>&quot;src/_pytest/_code/code.py&quot;</td><td>&quot;diff --git a/src/_pytest/_code…</td></tr><tr><td>&hellip;</td><td>&hellip;</td><td>&hellip;</td><td>&hellip;</td></tr><tr><td>&quot;SuperCoder2.0&quot;</td><td>&quot;scikit-learn__scikit-learn-255…</td><td>&quot;sklearn/compose/_column_transf…</td><td>&quot;diff --git a/sklearn/compose/_…</td></tr><tr><td>&quot;SuperCoder2.0&quot;</td><td>&quot;sphinx-doc__sphinx-8801&quot;</td><td>&quot;sphinx/ext/autodoc/__init__.py&quot;</td><td>&quot;diff --git a/sphinx/ext/autodo…</td></tr><tr><td>&quot;SuperCoder2.0&quot;</td><td>&quot;sympy__sympy-14396&quot;</td><td>&quot;sympy/polys/polyoptions.py&quot;</td><td>&quot;diff --git a/sympy/polys/polyo…</td></tr><tr><td>&quot;SuperCoder2.0&quot;</td><td>&quot;django__django-11905&quot;</td><td>&quot;django/db/models/lookups.py&quot;</td><td>&quot;diff --git a/django/db/models/…</td></tr><tr><td>&quot;SuperCoder2.0&quot;</td><td>&quot;sympy__sympy-21627&quot;</td><td>&quot;sympy/functions/elementary/hyp…</td><td>&quot;diff --git a/sympy/functions/e…</td></tr></tbody></table></div>"
      ],
      "text/plain": [
       "shape: (3_410, 4)\n",
       "┌────────────────────┬───────────────────────────┬──────────────────────────┬──────────────────────┐\n",
       "│ model_name_or_path ┆ instance_id               ┆ file_changed             ┆ model_patch          │\n",
       "│ ---                ┆ ---                       ┆ ---                      ┆ ---                  │\n",
       "│ str                ┆ str                       ┆ str                      ┆ str                  │\n",
       "╞════════════════════╪═══════════════════════════╪══════════════════════════╪══════════════════════╡\n",
       "│ codestory-mixed    ┆ matplotlib__matplotlib-25 ┆ lib/matplotlib/widgets.p ┆ diff --git           │\n",
       "│                    ┆ 433                       ┆ y                        ┆ a/lib/matplotlib/wi… │\n",
       "│ codestory-mixed    ┆ django__django-16820      ┆ django/db/migrations/aut ┆ diff --git           │\n",
       "│                    ┆                           ┆ odetec…                  ┆ a/django/db/migrati… │\n",
       "│ codestory-mixed    ┆ django__django-15781      ┆ django/core/management/b ┆ diff --git           │\n",
       "│                    ┆                           ┆ ase.py                   ┆ a/django/core/manag… │\n",
       "│ codestory-mixed    ┆ sympy__sympy-18087        ┆ sympy/simplify/trigsimp. ┆ diff --git           │\n",
       "│                    ┆                           ┆ py                       ┆ a/sympy/simplify/tr… │\n",
       "│ codestory-mixed    ┆ pytest-dev__pytest-5495   ┆ src/_pytest/_code/code.p ┆ diff --git           │\n",
       "│                    ┆                           ┆ y                        ┆ a/src/_pytest/_code… │\n",
       "│ …                  ┆ …                         ┆ …                        ┆ …                    │\n",
       "│ SuperCoder2.0      ┆ scikit-learn__scikit-lear ┆ sklearn/compose/_column_ ┆ diff --git           │\n",
       "│                    ┆ n-255…                    ┆ transf…                  ┆ a/sklearn/compose/_… │\n",
       "│ SuperCoder2.0      ┆ sphinx-doc__sphinx-8801   ┆ sphinx/ext/autodoc/__ini ┆ diff --git           │\n",
       "│                    ┆                           ┆ t__.py                   ┆ a/sphinx/ext/autodo… │\n",
       "│ SuperCoder2.0      ┆ sympy__sympy-14396        ┆ sympy/polys/polyoptions. ┆ diff --git           │\n",
       "│                    ┆                           ┆ py                       ┆ a/sympy/polys/polyo… │\n",
       "│ SuperCoder2.0      ┆ django__django-11905      ┆ django/db/models/lookups ┆ diff --git           │\n",
       "│                    ┆                           ┆ .py                      ┆ a/django/db/models/… │\n",
       "│ SuperCoder2.0      ┆ sympy__sympy-21627        ┆ sympy/functions/elementa ┆ diff --git           │\n",
       "│                    ┆                           ┆ ry/hyp…                  ┆ a/sympy/functions/e… │\n",
       "└────────────────────┴───────────────────────────┴──────────────────────────┴──────────────────────┘"
      ]
     },
     "execution_count": 144,
     "metadata": {},
     "output_type": "execute_result"
    }
   ],
   "source": [
    "lite_bench_df = lite_bench_df.filter(pl.col('file_changed').is_not_null())\n",
    "lite_bench_df"
   ]
  },
  {
   "cell_type": "code",
   "execution_count": 145,
   "metadata": {},
   "outputs": [
    {
     "data": {
      "text/html": [
       "<div><style>\n",
       ".dataframe > thead > tr,\n",
       ".dataframe > tbody > tr {\n",
       "  text-align: right;\n",
       "  white-space: pre-wrap;\n",
       "}\n",
       "</style>\n",
       "<small>shape: (300, 13)</small><table border=\"1\" class=\"dataframe\"><thead><tr><th>repo</th><th>instance_id</th><th>base_commit</th><th>patch</th><th>test_patch</th><th>problem_statement</th><th>hints_text</th><th>created_at</th><th>version</th><th>FAIL_TO_PASS</th><th>PASS_TO_PASS</th><th>environment_setup_commit</th><th>true_patch_file</th></tr><tr><td>str</td><td>str</td><td>str</td><td>str</td><td>str</td><td>str</td><td>str</td><td>str</td><td>str</td><td>str</td><td>str</td><td>str</td><td>str</td></tr></thead><tbody><tr><td>&quot;astropy/astropy&quot;</td><td>&quot;astropy__astropy-12907&quot;</td><td>&quot;d16bfe05a744909de4b27f5875fe0d…</td><td>&quot;diff --git a/astropy/modeling/…</td><td>&quot;diff --git a/astropy/modeling/…</td><td>&quot;Modeling&#x27;s `separability_matri…</td><td>&quot;&quot;</td><td>&quot;2022-03-03T15:14:54Z&quot;</td><td>&quot;4.3&quot;</td><td>&quot;[&quot;astropy/modeling/tests/test_…</td><td>&quot;[&quot;astropy/modeling/tests/test_…</td><td>&quot;298ccb478e6bf092953bca67a3d29d…</td><td>&quot;astropy/modeling/separable.py&quot;</td></tr><tr><td>&quot;astropy/astropy&quot;</td><td>&quot;astropy__astropy-14182&quot;</td><td>&quot;a5917978be39d13cd90b517e1de4e7…</td><td>&quot;diff --git a/astropy/io/ascii/…</td><td>&quot;diff --git a/astropy/io/ascii/…</td><td>&quot;Please support header rows in …</td><td>&quot;&quot;</td><td>&quot;2022-12-16T11:13:37Z&quot;</td><td>&quot;5.1&quot;</td><td>&quot;[&quot;astropy/io/ascii/tests/test_…</td><td>&quot;[&quot;astropy/io/ascii/tests/test_…</td><td>&quot;5f74eacbcc7fff707a44d8eb58adaa…</td><td>&quot;astropy/io/ascii/rst.py&quot;</td></tr><tr><td>&quot;astropy/astropy&quot;</td><td>&quot;astropy__astropy-14365&quot;</td><td>&quot;7269fa3e33e8d02485a647da91a5a2…</td><td>&quot;diff --git a/astropy/io/ascii/…</td><td>&quot;diff --git a/astropy/io/ascii/…</td><td>&quot;ascii.qdp Table format assumes…</td><td>&quot;Welcome to Astropy 👋 and thank…</td><td>&quot;2023-02-06T19:20:34Z&quot;</td><td>&quot;5.1&quot;</td><td>&quot;[&quot;astropy/io/ascii/tests/test_…</td><td>&quot;[&quot;astropy/io/ascii/tests/test_…</td><td>&quot;5f74eacbcc7fff707a44d8eb58adaa…</td><td>&quot;astropy/io/ascii/qdp.py&quot;</td></tr><tr><td>&quot;astropy/astropy&quot;</td><td>&quot;astropy__astropy-14995&quot;</td><td>&quot;b16c7d12ccbc7b2d20364b89fb4428…</td><td>&quot;diff --git a/astropy/nddata/mi…</td><td>&quot;diff --git a/astropy/nddata/mi…</td><td>&quot;In v5.3, NDDataRef mask propag…</td><td>&quot;Welcome to Astropy 👋 and thank…</td><td>&quot;2023-06-27T19:48:18Z&quot;</td><td>&quot;5.2&quot;</td><td>&quot;[&quot;astropy/nddata/mixins/tests/…</td><td>&quot;[&quot;astropy/nddata/mixins/tests/…</td><td>&quot;362f6df12abf9bd769d4915fabf955…</td><td>&quot;astropy/nddata/mixins/ndarithm…</td></tr><tr><td>&quot;astropy/astropy&quot;</td><td>&quot;astropy__astropy-6938&quot;</td><td>&quot;c76af9ed6bb89bfba45b9f5bc1e635…</td><td>&quot;diff --git a/astropy/io/fits/f…</td><td>&quot;diff --git a/astropy/io/fits/t…</td><td>&quot;Possible bug in io.fits relate…</td><td>&quot;It is tested with `astropy/io/…</td><td>&quot;2017-12-07T00:01:14Z&quot;</td><td>&quot;1.3&quot;</td><td>&quot;[&quot;astropy/io/fits/tests/test_c…</td><td>&quot;[&quot;astropy/io/fits/tests/test_c…</td><td>&quot;848c8fa21332abd66b44efe3cb48b7…</td><td>&quot;astropy/io/fits/fitsrec.py&quot;</td></tr><tr><td>&hellip;</td><td>&hellip;</td><td>&hellip;</td><td>&hellip;</td><td>&hellip;</td><td>&hellip;</td><td>&hellip;</td><td>&hellip;</td><td>&hellip;</td><td>&hellip;</td><td>&hellip;</td><td>&hellip;</td><td>&hellip;</td></tr><tr><td>&quot;sympy/sympy&quot;</td><td>&quot;sympy__sympy-24066&quot;</td><td>&quot;514579c655bf22e2af14f0743376ae…</td><td>&quot;diff --git a/sympy/physics/uni…</td><td>&quot;diff --git a/sympy/physics/uni…</td><td>&quot;SI._collect_factor_and_dimensi…</td><td>&quot;&quot;</td><td>&quot;2022-09-16T22:58:15Z&quot;</td><td>&quot;1.12&quot;</td><td>&quot;[&quot;test_issue_24062&quot;]&quot;</td><td>&quot;[&quot;test_str_repr&quot;, &quot;test_eq&quot;, &quot;…</td><td>&quot;c6cb7c5602fa48034ab1bd43c2347a…</td><td>&quot;sympy/physics/units/unitsystem…</td></tr><tr><td>&quot;sympy/sympy&quot;</td><td>&quot;sympy__sympy-24102&quot;</td><td>&quot;58598660a3f6ab3d918781c4988c2e…</td><td>&quot;diff --git a/sympy/parsing/mat…</td><td>&quot;diff --git a/sympy/parsing/tes…</td><td>&quot;Cannot parse Greek characters …</td><td>&quot;\n",
       "&quot;</td><td>&quot;2022-10-01T18:41:32Z&quot;</td><td>&quot;1.12&quot;</td><td>&quot;[&quot;test_mathematica&quot;, &quot;test_par…</td><td>&quot;[]&quot;</td><td>&quot;c6cb7c5602fa48034ab1bd43c2347a…</td><td>&quot;sympy/parsing/mathematica.py&quot;</td></tr><tr><td>&quot;sympy/sympy&quot;</td><td>&quot;sympy__sympy-24152&quot;</td><td>&quot;b9af885473ad7e34b5b0826cb424dd…</td><td>&quot;diff --git a/sympy/physics/qua…</td><td>&quot;diff --git a/sympy/physics/qua…</td><td>&quot;Bug in expand of TensorProduct…</td><td>&quot;Can you make a pull request wi…</td><td>&quot;2022-10-21T13:47:03Z&quot;</td><td>&quot;1.12&quot;</td><td>&quot;[&quot;test_tensor_product_expand&quot;]&quot;</td><td>&quot;[&quot;test_sparse_matrices&quot;, &quot;test…</td><td>&quot;c6cb7c5602fa48034ab1bd43c2347a…</td><td>&quot;sympy/physics/quantum/tensorpr…</td></tr><tr><td>&quot;sympy/sympy&quot;</td><td>&quot;sympy__sympy-24213&quot;</td><td>&quot;e8c22f6eac7314be8d92590bfff92c…</td><td>&quot;diff --git a/sympy/physics/uni…</td><td>&quot;diff --git a/sympy/physics/uni…</td><td>&quot;collect_factor_and_dimension d…</td><td>&quot;&quot;</td><td>&quot;2022-11-03T14:00:09Z&quot;</td><td>&quot;1.12&quot;</td><td>&quot;[&quot;test_issue_24211&quot;]&quot;</td><td>&quot;[&quot;test_str_repr&quot;, &quot;test_eq&quot;, &quot;…</td><td>&quot;c6cb7c5602fa48034ab1bd43c2347a…</td><td>&quot;sympy/physics/units/unitsystem…</td></tr><tr><td>&quot;sympy/sympy&quot;</td><td>&quot;sympy__sympy-24909&quot;</td><td>&quot;d3b4158dea271485e3daa11bf82e69…</td><td>&quot;diff --git a/sympy/physics/uni…</td><td>&quot;diff --git a/sympy/physics/uni…</td><td>&quot;Bug with milli prefix\n",
       "What hap…</td><td>&quot;I get a 1 for all of the follo…</td><td>&quot;2023-03-13T14:24:25Z&quot;</td><td>&quot;1.13&quot;</td><td>&quot;[&quot;test_prefix_operations&quot;]&quot;</td><td>&quot;[&quot;test_prefix_unit&quot;, &quot;test_bas…</td><td>&quot;be161798ecc7278ccf3ffa47259e3b…</td><td>&quot;sympy/physics/units/prefixes.p…</td></tr></tbody></table></div>"
      ],
      "text/plain": [
       "shape: (300, 13)\n",
       "┌───────────┬───────────┬───────────┬───────────┬───┬───────────┬───────────┬───────────┬──────────┐\n",
       "│ repo      ┆ instance_ ┆ base_comm ┆ patch     ┆ … ┆ FAIL_TO_P ┆ PASS_TO_P ┆ environme ┆ true_pat │\n",
       "│ ---       ┆ id        ┆ it        ┆ ---       ┆   ┆ ASS       ┆ ASS       ┆ nt_setup_ ┆ ch_file  │\n",
       "│ str       ┆ ---       ┆ ---       ┆ str       ┆   ┆ ---       ┆ ---       ┆ commit    ┆ ---      │\n",
       "│           ┆ str       ┆ str       ┆           ┆   ┆ str       ┆ str       ┆ ---       ┆ str      │\n",
       "│           ┆           ┆           ┆           ┆   ┆           ┆           ┆ str       ┆          │\n",
       "╞═══════════╪═══════════╪═══════════╪═══════════╪═══╪═══════════╪═══════════╪═══════════╪══════════╡\n",
       "│ astropy/a ┆ astropy__ ┆ d16bfe05a ┆ diff      ┆ … ┆ [\"astropy ┆ [\"astropy ┆ 298ccb478 ┆ astropy/ │\n",
       "│ stropy    ┆ astropy-1 ┆ 744909de4 ┆ --git a/a ┆   ┆ /modeling ┆ /modeling ┆ e6bf09295 ┆ modeling │\n",
       "│           ┆ 2907      ┆ b27f5875f ┆ stropy/mo ┆   ┆ /tests/te ┆ /tests/te ┆ 3bca67a3d ┆ /separab │\n",
       "│           ┆           ┆ e0d…      ┆ deling/…  ┆   ┆ st_…      ┆ st_…      ┆ 29d…      ┆ le.py    │\n",
       "│ astropy/a ┆ astropy__ ┆ a5917978b ┆ diff      ┆ … ┆ [\"astropy ┆ [\"astropy ┆ 5f74eacbc ┆ astropy/ │\n",
       "│ stropy    ┆ astropy-1 ┆ e39d13cd9 ┆ --git a/a ┆   ┆ /io/ascii ┆ /io/ascii ┆ c7fff707a ┆ io/ascii │\n",
       "│           ┆ 4182      ┆ 0b517e1de ┆ stropy/io ┆   ┆ /tests/te ┆ /tests/te ┆ 44d8eb58a ┆ /rst.py  │\n",
       "│           ┆           ┆ 4e7…      ┆ /ascii/…  ┆   ┆ st_…      ┆ st_…      ┆ daa…      ┆          │\n",
       "│ astropy/a ┆ astropy__ ┆ 7269fa3e3 ┆ diff      ┆ … ┆ [\"astropy ┆ [\"astropy ┆ 5f74eacbc ┆ astropy/ │\n",
       "│ stropy    ┆ astropy-1 ┆ 3e8d02485 ┆ --git a/a ┆   ┆ /io/ascii ┆ /io/ascii ┆ c7fff707a ┆ io/ascii │\n",
       "│           ┆ 4365      ┆ a647da91a ┆ stropy/io ┆   ┆ /tests/te ┆ /tests/te ┆ 44d8eb58a ┆ /qdp.py  │\n",
       "│           ┆           ┆ 5a2…      ┆ /ascii/…  ┆   ┆ st_…      ┆ st_…      ┆ daa…      ┆          │\n",
       "│ astropy/a ┆ astropy__ ┆ b16c7d12c ┆ diff      ┆ … ┆ [\"astropy ┆ [\"astropy ┆ 362f6df12 ┆ astropy/ │\n",
       "│ stropy    ┆ astropy-1 ┆ cbc7b2d20 ┆ --git a/a ┆   ┆ /nddata/m ┆ /nddata/m ┆ abf9bd769 ┆ nddata/m │\n",
       "│           ┆ 4995      ┆ 364b89fb4 ┆ stropy/nd ┆   ┆ ixins/tes ┆ ixins/tes ┆ d4915fabf ┆ ixins/nd │\n",
       "│           ┆           ┆ 428…      ┆ data/mi…  ┆   ┆ ts/…      ┆ ts/…      ┆ 955…      ┆ arithm…  │\n",
       "│ astropy/a ┆ astropy__ ┆ c76af9ed6 ┆ diff      ┆ … ┆ [\"astropy ┆ [\"astropy ┆ 848c8fa21 ┆ astropy/ │\n",
       "│ stropy    ┆ astropy-6 ┆ bb89bfba4 ┆ --git a/a ┆   ┆ /io/fits/ ┆ /io/fits/ ┆ 332abd66b ┆ io/fits/ │\n",
       "│           ┆ 938       ┆ 5b9f5bc1e ┆ stropy/io ┆   ┆ tests/tes ┆ tests/tes ┆ 44efe3cb4 ┆ fitsrec. │\n",
       "│           ┆           ┆ 635…      ┆ /fits/f…  ┆   ┆ t_c…      ┆ t_c…      ┆ 8b7…      ┆ py       │\n",
       "│ …         ┆ …         ┆ …         ┆ …         ┆ … ┆ …         ┆ …         ┆ …         ┆ …        │\n",
       "│ sympy/sym ┆ sympy__sy ┆ 514579c65 ┆ diff      ┆ … ┆ [\"test_is ┆ [\"test_st ┆ c6cb7c560 ┆ sympy/ph │\n",
       "│ py        ┆ mpy-24066 ┆ 5bf22e2af ┆ --git a/s ┆   ┆ sue_24062 ┆ r_repr\",  ┆ 2fa48034a ┆ ysics/un │\n",
       "│           ┆           ┆ 14f074337 ┆ ympy/phys ┆   ┆ \"]        ┆ \"test_eq\" ┆ b1bd43c23 ┆ its/unit │\n",
       "│           ┆           ┆ 6ae…      ┆ ics/uni…  ┆   ┆           ┆ , \"…      ┆ 47a…      ┆ system…  │\n",
       "│ sympy/sym ┆ sympy__sy ┆ 58598660a ┆ diff      ┆ … ┆ [\"test_ma ┆ []        ┆ c6cb7c560 ┆ sympy/pa │\n",
       "│ py        ┆ mpy-24102 ┆ 3f6ab3d91 ┆ --git a/s ┆   ┆ thematica ┆           ┆ 2fa48034a ┆ rsing/ma │\n",
       "│           ┆           ┆ 8781c4988 ┆ ympy/pars ┆   ┆ \", \"test_ ┆           ┆ b1bd43c23 ┆ thematic │\n",
       "│           ┆           ┆ c2e…      ┆ ing/mat…  ┆   ┆ par…      ┆           ┆ 47a…      ┆ a.py     │\n",
       "│ sympy/sym ┆ sympy__sy ┆ b9af88547 ┆ diff      ┆ … ┆ [\"test_te ┆ [\"test_sp ┆ c6cb7c560 ┆ sympy/ph │\n",
       "│ py        ┆ mpy-24152 ┆ 3ad7e34b5 ┆ --git a/s ┆   ┆ nsor_prod ┆ arse_matr ┆ 2fa48034a ┆ ysics/qu │\n",
       "│           ┆           ┆ b0826cb42 ┆ ympy/phys ┆   ┆ uct_expan ┆ ices\",    ┆ b1bd43c23 ┆ antum/te │\n",
       "│           ┆           ┆ 4dd…      ┆ ics/qua…  ┆   ┆ d\"]       ┆ \"test…    ┆ 47a…      ┆ nsorpr…  │\n",
       "│ sympy/sym ┆ sympy__sy ┆ e8c22f6ea ┆ diff      ┆ … ┆ [\"test_is ┆ [\"test_st ┆ c6cb7c560 ┆ sympy/ph │\n",
       "│ py        ┆ mpy-24213 ┆ c7314be8d ┆ --git a/s ┆   ┆ sue_24211 ┆ r_repr\",  ┆ 2fa48034a ┆ ysics/un │\n",
       "│           ┆           ┆ 92590bfff ┆ ympy/phys ┆   ┆ \"]        ┆ \"test_eq\" ┆ b1bd43c23 ┆ its/unit │\n",
       "│           ┆           ┆ 92c…      ┆ ics/uni…  ┆   ┆           ┆ , \"…      ┆ 47a…      ┆ system…  │\n",
       "│ sympy/sym ┆ sympy__sy ┆ d3b4158de ┆ diff      ┆ … ┆ [\"test_pr ┆ [\"test_pr ┆ be161798e ┆ sympy/ph │\n",
       "│ py        ┆ mpy-24909 ┆ a271485e3 ┆ --git a/s ┆   ┆ efix_oper ┆ efix_unit ┆ cc7278ccf ┆ ysics/un │\n",
       "│           ┆           ┆ daa11bf82 ┆ ympy/phys ┆   ┆ ations\"]  ┆ \", \"test_ ┆ 3ffa47259 ┆ its/pref │\n",
       "│           ┆           ┆ e69…      ┆ ics/uni…  ┆   ┆           ┆ bas…      ┆ e3b…      ┆ ixes.p…  │\n",
       "└───────────┴───────────┴───────────┴───────────┴───┴───────────┴───────────┴───────────┴──────────┘"
      ]
     },
     "execution_count": 145,
     "metadata": {},
     "output_type": "execute_result"
    }
   ],
   "source": [
    "swe_bench_lite_df = swe_bench_lite_df.with_columns(\n",
    "    pl.col('patch').str.extract(pattern, 1).alias('true_patch_file')\n",
    ")\n",
    "\n",
    "swe_bench_lite_df"
   ]
  },
  {
   "cell_type": "code",
   "execution_count": 146,
   "metadata": {},
   "outputs": [
    {
     "data": {
      "text/html": [
       "<div><style>\n",
       ".dataframe > thead > tr,\n",
       ".dataframe > tbody > tr {\n",
       "  text-align: right;\n",
       "  white-space: pre-wrap;\n",
       "}\n",
       "</style>\n",
       "<small>shape: (300, 2)</small><table border=\"1\" class=\"dataframe\"><thead><tr><th>instance_id</th><th>true_patch_file</th></tr><tr><td>str</td><td>str</td></tr></thead><tbody><tr><td>&quot;astropy__astropy-12907&quot;</td><td>&quot;astropy/modeling/separable.py&quot;</td></tr><tr><td>&quot;astropy__astropy-14182&quot;</td><td>&quot;astropy/io/ascii/rst.py&quot;</td></tr><tr><td>&quot;astropy__astropy-14365&quot;</td><td>&quot;astropy/io/ascii/qdp.py&quot;</td></tr><tr><td>&quot;astropy__astropy-14995&quot;</td><td>&quot;astropy/nddata/mixins/ndarithm…</td></tr><tr><td>&quot;astropy__astropy-6938&quot;</td><td>&quot;astropy/io/fits/fitsrec.py&quot;</td></tr><tr><td>&hellip;</td><td>&hellip;</td></tr><tr><td>&quot;sympy__sympy-24066&quot;</td><td>&quot;sympy/physics/units/unitsystem…</td></tr><tr><td>&quot;sympy__sympy-24102&quot;</td><td>&quot;sympy/parsing/mathematica.py&quot;</td></tr><tr><td>&quot;sympy__sympy-24152&quot;</td><td>&quot;sympy/physics/quantum/tensorpr…</td></tr><tr><td>&quot;sympy__sympy-24213&quot;</td><td>&quot;sympy/physics/units/unitsystem…</td></tr><tr><td>&quot;sympy__sympy-24909&quot;</td><td>&quot;sympy/physics/units/prefixes.p…</td></tr></tbody></table></div>"
      ],
      "text/plain": [
       "shape: (300, 2)\n",
       "┌────────────────────────┬─────────────────────────────────┐\n",
       "│ instance_id            ┆ true_patch_file                 │\n",
       "│ ---                    ┆ ---                             │\n",
       "│ str                    ┆ str                             │\n",
       "╞════════════════════════╪═════════════════════════════════╡\n",
       "│ astropy__astropy-12907 ┆ astropy/modeling/separable.py   │\n",
       "│ astropy__astropy-14182 ┆ astropy/io/ascii/rst.py         │\n",
       "│ astropy__astropy-14365 ┆ astropy/io/ascii/qdp.py         │\n",
       "│ astropy__astropy-14995 ┆ astropy/nddata/mixins/ndarithm… │\n",
       "│ astropy__astropy-6938  ┆ astropy/io/fits/fitsrec.py      │\n",
       "│ …                      ┆ …                               │\n",
       "│ sympy__sympy-24066     ┆ sympy/physics/units/unitsystem… │\n",
       "│ sympy__sympy-24102     ┆ sympy/parsing/mathematica.py    │\n",
       "│ sympy__sympy-24152     ┆ sympy/physics/quantum/tensorpr… │\n",
       "│ sympy__sympy-24213     ┆ sympy/physics/units/unitsystem… │\n",
       "│ sympy__sympy-24909     ┆ sympy/physics/units/prefixes.p… │\n",
       "└────────────────────────┴─────────────────────────────────┘"
      ]
     },
     "execution_count": 146,
     "metadata": {},
     "output_type": "execute_result"
    }
   ],
   "source": [
    "swe_df_small = swe_bench_lite_df.select(['instance_id', 'true_patch_file'])\n",
    "swe_df_small"
   ]
  },
  {
   "cell_type": "code",
   "execution_count": 147,
   "metadata": {},
   "outputs": [
    {
     "data": {
      "text/html": [
       "<div><style>\n",
       ".dataframe > thead > tr,\n",
       ".dataframe > tbody > tr {\n",
       "  text-align: right;\n",
       "  white-space: pre-wrap;\n",
       "}\n",
       "</style>\n",
       "<small>shape: (1_797, 5)</small><table border=\"1\" class=\"dataframe\"><thead><tr><th>model_name_or_path</th><th>instance_id</th><th>file_changed</th><th>model_patch</th><th>true_patch_file</th></tr><tr><td>str</td><td>str</td><td>str</td><td>str</td><td>str</td></tr></thead><tbody><tr><td>&quot;codestory-mixed&quot;</td><td>&quot;matplotlib__matplotlib-25433&quot;</td><td>&quot;lib/matplotlib/widgets.py&quot;</td><td>&quot;diff --git a/lib/matplotlib/wi…</td><td>&quot;lib/matplotlib/figure.py&quot;</td></tr><tr><td>&quot;codestory-mixed&quot;</td><td>&quot;django__django-16820&quot;</td><td>&quot;django/db/migrations/autodetec…</td><td>&quot;diff --git a/django/db/migrati…</td><td>&quot;django/db/migrations/operation…</td></tr><tr><td>&quot;codestory-mixed&quot;</td><td>&quot;django__django-15781&quot;</td><td>&quot;django/core/management/base.py&quot;</td><td>&quot;diff --git a/django/core/manag…</td><td>&quot;django/core/management/base.py&quot;</td></tr><tr><td>&quot;codestory-mixed&quot;</td><td>&quot;sympy__sympy-18087&quot;</td><td>&quot;sympy/simplify/trigsimp.py&quot;</td><td>&quot;diff --git a/sympy/simplify/tr…</td><td>&quot;sympy/core/exprtools.py&quot;</td></tr><tr><td>&quot;codestory-mixed&quot;</td><td>&quot;pytest-dev__pytest-5495&quot;</td><td>&quot;src/_pytest/_code/code.py&quot;</td><td>&quot;diff --git a/src/_pytest/_code…</td><td>&quot;src/_pytest/assertion/util.py&quot;</td></tr><tr><td>&hellip;</td><td>&hellip;</td><td>&hellip;</td><td>&hellip;</td><td>&hellip;</td></tr><tr><td>&quot;SuperCoder2.0&quot;</td><td>&quot;scikit-learn__scikit-learn-255…</td><td>&quot;sklearn/compose/_column_transf…</td><td>&quot;diff --git a/sklearn/compose/_…</td><td>&quot;sklearn/compose/_column_transf…</td></tr><tr><td>&quot;SuperCoder2.0&quot;</td><td>&quot;sphinx-doc__sphinx-8801&quot;</td><td>&quot;sphinx/ext/autodoc/__init__.py&quot;</td><td>&quot;diff --git a/sphinx/ext/autodo…</td><td>&quot;sphinx/ext/autodoc/importer.py&quot;</td></tr><tr><td>&quot;SuperCoder2.0&quot;</td><td>&quot;sympy__sympy-14396&quot;</td><td>&quot;sympy/polys/polyoptions.py&quot;</td><td>&quot;diff --git a/sympy/polys/polyo…</td><td>&quot;sympy/polys/polyoptions.py&quot;</td></tr><tr><td>&quot;SuperCoder2.0&quot;</td><td>&quot;django__django-11905&quot;</td><td>&quot;django/db/models/lookups.py&quot;</td><td>&quot;diff --git a/django/db/models/…</td><td>&quot;django/db/models/lookups.py&quot;</td></tr><tr><td>&quot;SuperCoder2.0&quot;</td><td>&quot;sympy__sympy-21627&quot;</td><td>&quot;sympy/functions/elementary/hyp…</td><td>&quot;diff --git a/sympy/functions/e…</td><td>&quot;sympy/functions/elementary/com…</td></tr></tbody></table></div>"
      ],
      "text/plain": [
       "shape: (1_797, 5)\n",
       "┌───────────────────┬───────────────────┬───────────────────┬───────────────────┬──────────────────┐\n",
       "│ model_name_or_pat ┆ instance_id       ┆ file_changed      ┆ model_patch       ┆ true_patch_file  │\n",
       "│ h                 ┆ ---               ┆ ---               ┆ ---               ┆ ---              │\n",
       "│ ---               ┆ str               ┆ str               ┆ str               ┆ str              │\n",
       "│ str               ┆                   ┆                   ┆                   ┆                  │\n",
       "╞═══════════════════╪═══════════════════╪═══════════════════╪═══════════════════╪══════════════════╡\n",
       "│ codestory-mixed   ┆ matplotlib__matpl ┆ lib/matplotlib/wi ┆ diff --git a/lib/ ┆ lib/matplotlib/f │\n",
       "│                   ┆ otlib-25433       ┆ dgets.py          ┆ matplotlib/wi…    ┆ igure.py         │\n",
       "│ codestory-mixed   ┆ django__django-16 ┆ django/db/migrati ┆ diff --git a/djan ┆ django/db/migrat │\n",
       "│                   ┆ 820               ┆ ons/autodetec…    ┆ go/db/migrati…    ┆ ions/operation…  │\n",
       "│ codestory-mixed   ┆ django__django-15 ┆ django/core/manag ┆ diff --git a/djan ┆ django/core/mana │\n",
       "│                   ┆ 781               ┆ ement/base.py     ┆ go/core/manag…    ┆ gement/base.py   │\n",
       "│ codestory-mixed   ┆ sympy__sympy-1808 ┆ sympy/simplify/tr ┆ diff --git a/symp ┆ sympy/core/exprt │\n",
       "│                   ┆ 7                 ┆ igsimp.py         ┆ y/simplify/tr…    ┆ ools.py          │\n",
       "│ codestory-mixed   ┆ pytest-dev__pytes ┆ src/_pytest/_code ┆ diff --git a/src/ ┆ src/_pytest/asse │\n",
       "│                   ┆ t-5495            ┆ /code.py          ┆ _pytest/_code…    ┆ rtion/util.py    │\n",
       "│ …                 ┆ …                 ┆ …                 ┆ …                 ┆ …                │\n",
       "│ SuperCoder2.0     ┆ scikit-learn__sci ┆ sklearn/compose/_ ┆ diff --git a/skle ┆ sklearn/compose/ │\n",
       "│                   ┆ kit-learn-255…    ┆ column_transf…    ┆ arn/compose/_…    ┆ _column_transf…  │\n",
       "│ SuperCoder2.0     ┆ sphinx-doc__sphin ┆ sphinx/ext/autodo ┆ diff --git a/sphi ┆ sphinx/ext/autod │\n",
       "│                   ┆ x-8801            ┆ c/__init__.py     ┆ nx/ext/autodo…    ┆ oc/importer.py   │\n",
       "│ SuperCoder2.0     ┆ sympy__sympy-1439 ┆ sympy/polys/polyo ┆ diff --git a/symp ┆ sympy/polys/poly │\n",
       "│                   ┆ 6                 ┆ ptions.py         ┆ y/polys/polyo…    ┆ options.py       │\n",
       "│ SuperCoder2.0     ┆ django__django-11 ┆ django/db/models/ ┆ diff --git a/djan ┆ django/db/models │\n",
       "│                   ┆ 905               ┆ lookups.py        ┆ go/db/models/…    ┆ /lookups.py      │\n",
       "│ SuperCoder2.0     ┆ sympy__sympy-2162 ┆ sympy/functions/e ┆ diff --git a/symp ┆ sympy/functions/ │\n",
       "│                   ┆ 7                 ┆ lementary/hyp…    ┆ y/functions/e…    ┆ elementary/com…  │\n",
       "└───────────────────┴───────────────────┴───────────────────┴───────────────────┴──────────────────┘"
      ]
     },
     "execution_count": 147,
     "metadata": {},
     "output_type": "execute_result"
    }
   ],
   "source": [
    "merged_df = combined_df.join(swe_df_small, on='instance_id', how='inner')\n",
    "merged_df"
   ]
  },
  {
   "cell_type": "code",
   "execution_count": 149,
   "metadata": {},
   "outputs": [
    {
     "data": {
      "text/html": [
       "<div><style>\n",
       ".dataframe > thead > tr,\n",
       ".dataframe > tbody > tr {\n",
       "  text-align: right;\n",
       "  white-space: pre-wrap;\n",
       "}\n",
       "</style>\n",
       "<small>shape: (1_797, 6)</small><table border=\"1\" class=\"dataframe\"><thead><tr><th>model_name_or_path</th><th>instance_id</th><th>file_changed</th><th>model_patch</th><th>true_patch_file</th><th>is_same_file</th></tr><tr><td>str</td><td>str</td><td>str</td><td>str</td><td>str</td><td>bool</td></tr></thead><tbody><tr><td>&quot;codestory-mixed&quot;</td><td>&quot;matplotlib__matplotlib-25433&quot;</td><td>&quot;lib/matplotlib/widgets.py&quot;</td><td>&quot;diff --git a/lib/matplotlib/wi…</td><td>&quot;lib/matplotlib/figure.py&quot;</td><td>false</td></tr><tr><td>&quot;codestory-mixed&quot;</td><td>&quot;django__django-16820&quot;</td><td>&quot;django/db/migrations/autodetec…</td><td>&quot;diff --git a/django/db/migrati…</td><td>&quot;django/db/migrations/operation…</td><td>false</td></tr><tr><td>&quot;codestory-mixed&quot;</td><td>&quot;django__django-15781&quot;</td><td>&quot;django/core/management/base.py&quot;</td><td>&quot;diff --git a/django/core/manag…</td><td>&quot;django/core/management/base.py&quot;</td><td>true</td></tr><tr><td>&quot;codestory-mixed&quot;</td><td>&quot;sympy__sympy-18087&quot;</td><td>&quot;sympy/simplify/trigsimp.py&quot;</td><td>&quot;diff --git a/sympy/simplify/tr…</td><td>&quot;sympy/core/exprtools.py&quot;</td><td>false</td></tr><tr><td>&quot;codestory-mixed&quot;</td><td>&quot;pytest-dev__pytest-5495&quot;</td><td>&quot;src/_pytest/_code/code.py&quot;</td><td>&quot;diff --git a/src/_pytest/_code…</td><td>&quot;src/_pytest/assertion/util.py&quot;</td><td>false</td></tr><tr><td>&hellip;</td><td>&hellip;</td><td>&hellip;</td><td>&hellip;</td><td>&hellip;</td><td>&hellip;</td></tr><tr><td>&quot;SuperCoder2.0&quot;</td><td>&quot;scikit-learn__scikit-learn-255…</td><td>&quot;sklearn/compose/_column_transf…</td><td>&quot;diff --git a/sklearn/compose/_…</td><td>&quot;sklearn/compose/_column_transf…</td><td>true</td></tr><tr><td>&quot;SuperCoder2.0&quot;</td><td>&quot;sphinx-doc__sphinx-8801&quot;</td><td>&quot;sphinx/ext/autodoc/__init__.py&quot;</td><td>&quot;diff --git a/sphinx/ext/autodo…</td><td>&quot;sphinx/ext/autodoc/importer.py&quot;</td><td>false</td></tr><tr><td>&quot;SuperCoder2.0&quot;</td><td>&quot;sympy__sympy-14396&quot;</td><td>&quot;sympy/polys/polyoptions.py&quot;</td><td>&quot;diff --git a/sympy/polys/polyo…</td><td>&quot;sympy/polys/polyoptions.py&quot;</td><td>true</td></tr><tr><td>&quot;SuperCoder2.0&quot;</td><td>&quot;django__django-11905&quot;</td><td>&quot;django/db/models/lookups.py&quot;</td><td>&quot;diff --git a/django/db/models/…</td><td>&quot;django/db/models/lookups.py&quot;</td><td>true</td></tr><tr><td>&quot;SuperCoder2.0&quot;</td><td>&quot;sympy__sympy-21627&quot;</td><td>&quot;sympy/functions/elementary/hyp…</td><td>&quot;diff --git a/sympy/functions/e…</td><td>&quot;sympy/functions/elementary/com…</td><td>false</td></tr></tbody></table></div>"
      ],
      "text/plain": [
       "shape: (1_797, 6)\n",
       "┌────────────────┬────────────────┬────────────────┬────────────────┬───────────────┬──────────────┐\n",
       "│ model_name_or_ ┆ instance_id    ┆ file_changed   ┆ model_patch    ┆ true_patch_fi ┆ is_same_file │\n",
       "│ path           ┆ ---            ┆ ---            ┆ ---            ┆ le            ┆ ---          │\n",
       "│ ---            ┆ str            ┆ str            ┆ str            ┆ ---           ┆ bool         │\n",
       "│ str            ┆                ┆                ┆                ┆ str           ┆              │\n",
       "╞════════════════╪════════════════╪════════════════╪════════════════╪═══════════════╪══════════════╡\n",
       "│ codestory-mixe ┆ matplotlib__ma ┆ lib/matplotlib ┆ diff --git a/l ┆ lib/matplotli ┆ false        │\n",
       "│ d              ┆ tplotlib-25433 ┆ /widgets.py    ┆ ib/matplotlib/ ┆ b/figure.py   ┆              │\n",
       "│                ┆                ┆                ┆ wi…            ┆               ┆              │\n",
       "│ codestory-mixe ┆ django__django ┆ django/db/migr ┆ diff --git a/d ┆ django/db/mig ┆ false        │\n",
       "│ d              ┆ -16820         ┆ ations/autodet ┆ jango/db/migra ┆ rations/opera ┆              │\n",
       "│                ┆                ┆ ec…            ┆ ti…            ┆ tion…         ┆              │\n",
       "│ codestory-mixe ┆ django__django ┆ django/core/ma ┆ diff --git a/d ┆ django/core/m ┆ true         │\n",
       "│ d              ┆ -15781         ┆ nagement/base. ┆ jango/core/man ┆ anagement/bas ┆              │\n",
       "│                ┆                ┆ py             ┆ ag…            ┆ e.py          ┆              │\n",
       "│ codestory-mixe ┆ sympy__sympy-1 ┆ sympy/simplify ┆ diff --git a/s ┆ sympy/core/ex ┆ false        │\n",
       "│ d              ┆ 8087           ┆ /trigsimp.py   ┆ ympy/simplify/ ┆ prtools.py    ┆              │\n",
       "│                ┆                ┆                ┆ tr…            ┆               ┆              │\n",
       "│ codestory-mixe ┆ pytest-dev__py ┆ src/_pytest/_c ┆ diff --git a/s ┆ src/_pytest/a ┆ false        │\n",
       "│ d              ┆ test-5495      ┆ ode/code.py    ┆ rc/_pytest/_co ┆ ssertion/util ┆              │\n",
       "│                ┆                ┆                ┆ de…            ┆ .py           ┆              │\n",
       "│ …              ┆ …              ┆ …              ┆ …              ┆ …             ┆ …            │\n",
       "│ SuperCoder2.0  ┆ scikit-learn__ ┆ sklearn/compos ┆ diff --git a/s ┆ sklearn/compo ┆ true         │\n",
       "│                ┆ scikit-learn-2 ┆ e/_column_tran ┆ klearn/compose ┆ se/_column_tr ┆              │\n",
       "│                ┆ 55…            ┆ sf…            ┆ /_…            ┆ ansf…         ┆              │\n",
       "│ SuperCoder2.0  ┆ sphinx-doc__sp ┆ sphinx/ext/aut ┆ diff --git a/s ┆ sphinx/ext/au ┆ false        │\n",
       "│                ┆ hinx-8801      ┆ odoc/__init__. ┆ phinx/ext/auto ┆ todoc/importe ┆              │\n",
       "│                ┆                ┆ py             ┆ do…            ┆ r.py          ┆              │\n",
       "│ SuperCoder2.0  ┆ sympy__sympy-1 ┆ sympy/polys/po ┆ diff --git a/s ┆ sympy/polys/p ┆ true         │\n",
       "│                ┆ 4396           ┆ lyoptions.py   ┆ ympy/polys/pol ┆ olyoptions.py ┆              │\n",
       "│                ┆                ┆                ┆ yo…            ┆               ┆              │\n",
       "│ SuperCoder2.0  ┆ django__django ┆ django/db/mode ┆ diff --git a/d ┆ django/db/mod ┆ true         │\n",
       "│                ┆ -11905         ┆ ls/lookups.py  ┆ jango/db/model ┆ els/lookups.p ┆              │\n",
       "│                ┆                ┆                ┆ s/…            ┆ y             ┆              │\n",
       "│ SuperCoder2.0  ┆ sympy__sympy-2 ┆ sympy/function ┆ diff --git a/s ┆ sympy/functio ┆ false        │\n",
       "│                ┆ 1627           ┆ s/elementary/h ┆ ympy/functions ┆ ns/elementary ┆              │\n",
       "│                ┆                ┆ yp…            ┆ /e…            ┆ /com…         ┆              │\n",
       "└────────────────┴────────────────┴────────────────┴────────────────┴───────────────┴──────────────┘"
      ]
     },
     "execution_count": 149,
     "metadata": {},
     "output_type": "execute_result"
    }
   ],
   "source": [
    "merged_df = merged_df.with_columns(\n",
    "    (pl.col('file_changed') == pl.col('true_patch_file')).alias('is_same_file')\n",
    ")\n",
    "merged_df"
   ]
  },
  {
   "cell_type": "code",
   "execution_count": 150,
   "metadata": {},
   "outputs": [
    {
     "name": "stdout",
     "output_type": "stream",
     "text": [
      "Number of instances where 'file_changed' == 'true_patch_file': 1196\n",
      "Total number of instances: 1797\n",
      "Percentage of matches: 66.56%\n"
     ]
    }
   ],
   "source": [
    "num_same_files = merged_df['is_same_file'].sum()\n",
    "\n",
    "total_instances = merged_df.shape[0]\n",
    "\n",
    "percentage = (num_same_files / total_instances) * 100 if total_instances > 0 else 0\n",
    "\n",
    "print(f\"Number of instances where 'file_changed' == 'true_patch_file': {num_same_files}\")\n",
    "print(f\"Total number of instances: {total_instances}\")\n",
    "print(f\"Percentage of matches: {percentage:.2f}%\")"
   ]
  },
  {
   "cell_type": "code",
   "execution_count": 151,
   "metadata": {},
   "outputs": [
    {
     "data": {
      "text/html": [
       "<div><style>\n",
       ".dataframe > thead > tr,\n",
       ".dataframe > tbody > tr {\n",
       "  text-align: right;\n",
       "  white-space: pre-wrap;\n",
       "}\n",
       "</style>\n",
       "<small>shape: (6, 4)</small><table border=\"1\" class=\"dataframe\"><thead><tr><th>model_name_or_path</th><th>total_instances</th><th>num_same_files</th><th>percentage_matches</th></tr><tr><td>str</td><td>u32</td><td>u32</td><td>f64</td></tr></thead><tbody><tr><td>&quot;honeycomb&quot;</td><td>297</td><td>180</td><td>60.606061</td></tr><tr><td>&quot;Demo&quot;</td><td>300</td><td>187</td><td>62.333333</td></tr><tr><td>&quot;isoform&quot;</td><td>300</td><td>213</td><td>71.0</td></tr><tr><td>&quot;20240811_babelcloud_gru&quot;</td><td>300</td><td>213</td><td>71.0</td></tr><tr><td>&quot;codestory-mixed&quot;</td><td>300</td><td>206</td><td>68.666667</td></tr><tr><td>&quot;SuperCoder2.0&quot;</td><td>300</td><td>197</td><td>65.666667</td></tr></tbody></table></div>"
      ],
      "text/plain": [
       "shape: (6, 4)\n",
       "┌─────────────────────────┬─────────────────┬────────────────┬────────────────────┐\n",
       "│ model_name_or_path      ┆ total_instances ┆ num_same_files ┆ percentage_matches │\n",
       "│ ---                     ┆ ---             ┆ ---            ┆ ---                │\n",
       "│ str                     ┆ u32             ┆ u32            ┆ f64                │\n",
       "╞═════════════════════════╪═════════════════╪════════════════╪════════════════════╡\n",
       "│ honeycomb               ┆ 297             ┆ 180            ┆ 60.606061          │\n",
       "│ Demo                    ┆ 300             ┆ 187            ┆ 62.333333          │\n",
       "│ isoform                 ┆ 300             ┆ 213            ┆ 71.0               │\n",
       "│ 20240811_babelcloud_gru ┆ 300             ┆ 213            ┆ 71.0               │\n",
       "│ codestory-mixed         ┆ 300             ┆ 206            ┆ 68.666667          │\n",
       "│ SuperCoder2.0           ┆ 300             ┆ 197            ┆ 65.666667          │\n",
       "└─────────────────────────┴─────────────────┴────────────────┴────────────────────┘"
      ]
     },
     "execution_count": 151,
     "metadata": {},
     "output_type": "execute_result"
    }
   ],
   "source": [
    "model_stats = merged_df.group_by('model_name_or_path').agg([\n",
    "    pl.len().alias('total_instances'),\n",
    "    pl.col('is_same_file').sum().alias('num_same_files'),\n",
    "    (pl.col('is_same_file').sum() / pl.len() * 100).alias('percentage_matches')\n",
    "])\n",
    "\n",
    "model_stats"
   ]
  },
  {
   "cell_type": "markdown",
   "metadata": {},
   "source": [
    "# Full bench\n",
    "\n",
    "## Experiments (5 best)\n",
    "\n",
    "- 20240820_honeycomb\n",
    "- 20240509_amazon-q-developer-agent-20240430-dev\n",
    "- 20240617_factory_code_droid\n",
    "- 20240628_autocoderover-v20240620\n",
    "- 20240620_sweagent_claude3.5sonnet"
   ]
  },
  {
   "cell_type": "code",
   "execution_count": 152,
   "metadata": {},
   "outputs": [
    {
     "name": "stdout",
     "output_type": "stream",
     "text": [
      "shape: (5, 4)\n",
      "┌────────────────────┬──────────────────────┬───────────────────────────┬──────────────────────────┐\n",
      "│ model_name_or_path ┆ instance_id          ┆ file_changed              ┆ model_patch              │\n",
      "│ ---                ┆ ---                  ┆ ---                       ┆ ---                      │\n",
      "│ str                ┆ str                  ┆ str                       ┆ str                      │\n",
      "╞════════════════════╪══════════════════════╪═══════════════════════════╪══════════════════════════╡\n",
      "│ honeycomb          ┆ django__django-11179 ┆ __init__.py               ┆ diff --git a/__init__.py │\n",
      "│                    ┆                      ┆                           ┆ b/__i…                   │\n",
      "│ honeycomb          ┆ django__django-11405 ┆ django/db/models/query.py ┆ diff --git               │\n",
      "│                    ┆                      ┆                           ┆ a/django/db/models/…     │\n",
      "│ honeycomb          ┆ django__django-11880 ┆ django/forms/fields.py    ┆ diff --git               │\n",
      "│                    ┆                      ┆                           ┆ a/django/forms/fiel…     │\n",
      "│ honeycomb          ┆ django__django-12209 ┆ django/db/models/base.py  ┆ diff --git               │\n",
      "│                    ┆                      ┆                           ┆ a/django/db/models/…     │\n",
      "│ honeycomb          ┆ django__django-13230 ┆ django/conf/global_settin ┆ diff --git               │\n",
      "│                    ┆                      ┆ gs.py                     ┆ a/django/conf/globa…     │\n",
      "└────────────────────┴──────────────────────┴───────────────────────────┴──────────────────────────┘\n",
      "shape: (5, 4)\n",
      "┌──────────────────────────────┬──────────────────────┬──────────────┬─────────────────────────────┐\n",
      "│ model_name_or_path           ┆ instance_id          ┆ file_changed ┆ model_patch                 │\n",
      "│ ---                          ┆ ---                  ┆ ---          ┆ ---                         │\n",
      "│ str                          ┆ str                  ┆ str          ┆ str                         │\n",
      "╞══════════════════════════════╪══════════════════════╪══════════════╪═════════════════════════════╡\n",
      "│ amazon-q-developer-agent-202 ┆ django__django-11133 ┆ null         ┆ ---                         │\n",
      "│ 40…                          ┆                      ┆              ┆ a/django/http/response.py   │\n",
      "│                              ┆                      ┆              ┆ …                           │\n",
      "│ amazon-q-developer-agent-202 ┆ django__django-11019 ┆ null         ┆ ---                         │\n",
      "│ 40…                          ┆                      ┆              ┆ a/django/forms/widgets.py   │\n",
      "│                              ┆                      ┆              ┆ …                           │\n",
      "│ amazon-q-developer-agent-202 ┆ django__django-11099 ┆ null         ┆ ---                         │\n",
      "│ 40…                          ┆                      ┆              ┆ a/django/contrib/auth/vali… │\n",
      "│ amazon-q-developer-agent-202 ┆ django__django-10924 ┆ null         ┆ ---                         │\n",
      "│ 40…                          ┆                      ┆              ┆ a/django/db/models/fields/… │\n",
      "│ amazon-q-developer-agent-202 ┆ django__django-10914 ┆ null         ┆ ---                         │\n",
      "│ 40…                          ┆                      ┆              ┆ a/django/conf/global_setti… │\n",
      "└──────────────────────────────┴──────────────────────┴──────────────┴─────────────────────────────┘\n",
      "shape: (5, 4)\n",
      "┌────────────────────┬────────────────────────┬─────────────────────────────┬──────────────────────┐\n",
      "│ model_name_or_path ┆ instance_id            ┆ file_changed                ┆ model_patch          │\n",
      "│ ---                ┆ ---                    ┆ ---                         ┆ ---                  │\n",
      "│ str                ┆ str                    ┆ str                         ┆ str                  │\n",
      "╞════════════════════╪════════════════════════╪═════════════════════════════╪══════════════════════╡\n",
      "│ droid              ┆ astropy__astropy-11693 ┆ astropy/wcs/wcsapi/fitswcs. ┆ diff --git           │\n",
      "│                    ┆                        ┆ py                          ┆ a/astropy/wcs/wcsap… │\n",
      "│ droid              ┆ astropy__astropy-12057 ┆ astropy/nddata/nduncertaint ┆ diff --git           │\n",
      "│                    ┆                        ┆ y.p…                        ┆ a/astropy/nddata/nd… │\n",
      "│ droid              ┆ astropy__astropy-12318 ┆ astropy/modeling/physical_m ┆ diff --git           │\n",
      "│                    ┆                        ┆ ode…                        ┆ a/astropy/modeling/… │\n",
      "│ droid              ┆ astropy__astropy-12544 ┆ astropy/table/connect.py    ┆ diff --git           │\n",
      "│                    ┆                        ┆                             ┆ a/astropy/table/con… │\n",
      "│ droid              ┆ astropy__astropy-12825 ┆ astropy/table/groups.py     ┆ diff --git           │\n",
      "│                    ┆                        ┆                             ┆ a/astropy/table/gro… │\n",
      "└────────────────────┴────────────────────────┴─────────────────────────────┴──────────────────────┘\n",
      "shape: (5, 4)\n",
      "┌─────────────────────────┬──────────────────────┬────────────────────────┬────────────────────────┐\n",
      "│ model_name_or_path      ┆ instance_id          ┆ file_changed           ┆ model_patch            │\n",
      "│ ---                     ┆ ---                  ┆ ---                    ┆ ---                    │\n",
      "│ str                     ┆ str                  ┆ str                    ┆ str                    │\n",
      "╞═════════════════════════╪══════════════════════╪════════════════════════╪════════════════════════╡\n",
      "│ autocoderover-v20240620 ┆ sympy__sympy-16449   ┆ sympy/stats/crv_types. ┆ diff --git             │\n",
      "│ -gpt-4o…                ┆                      ┆ py                     ┆ a/sympy/stats/crv_t…   │\n",
      "│ autocoderover-v20240620 ┆ django__django-15752 ┆ django/contrib/auth/ba ┆ diff --git             │\n",
      "│ -gpt-4o…                ┆                      ┆ se_user.…              ┆ a/django/contrib/au…   │\n",
      "│ autocoderover-v20240620 ┆ django__django-13607 ┆ django/forms/formsets. ┆ diff --git             │\n",
      "│ -gpt-4o…                ┆                      ┆ py                     ┆ a/django/forms/form…   │\n",
      "│ autocoderover-v20240620 ┆ sympy__sympy-17139   ┆ sympy/simplify/fu.py   ┆ diff --git             │\n",
      "│ -gpt-4o…                ┆                      ┆                        ┆ a/sympy/simplify/fu…   │\n",
      "│ autocoderover-v20240620 ┆ sympy__sympy-14774   ┆ sympy/printing/latex.p ┆ diff --git             │\n",
      "│ -gpt-4o…                ┆                      ┆ y                      ┆ a/sympy/printing/la…   │\n",
      "└─────────────────────────┴──────────────────────┴────────────────────────┴────────────────────────┘\n",
      "shape: (5, 4)\n",
      "┌────────────────────────┬────────────────────────┬────────────────────────┬───────────────────────┐\n",
      "│ model_name_or_path     ┆ instance_id            ┆ file_changed           ┆ model_patch           │\n",
      "│ ---                    ┆ ---                    ┆ ---                    ┆ ---                   │\n",
      "│ str                    ┆ str                    ┆ str                    ┆ str                   │\n",
      "╞════════════════════════╪════════════════════════╪════════════════════════╪═══════════════════════╡\n",
      "│ 20240620_sweagent_clau ┆ scikit-learn__scikit-l ┆ CHANGES.md             ┆                       │\n",
      "│ de3.5son…              ┆ earn-247…              ┆                        ┆ diff --git            │\n",
      "│                        ┆                        ┆                        ┆ a/CHANGES.md b/CHA…   │\n",
      "│ 20240620_sweagent_clau ┆ django__django-14599   ┆ django/middleware/csrf ┆                       │\n",
      "│ de3.5son…              ┆                        ┆ .py                    ┆ diff --git            │\n",
      "│                        ┆                        ┆                        ┆ a/django/middlewar…   │\n",
      "│ 20240620_sweagent_clau ┆ django__django-15320   ┆ django/db/models/expre ┆                       │\n",
      "│ de3.5son…              ┆                        ┆ ssions.p…              ┆ diff --git            │\n",
      "│                        ┆                        ┆                        ┆ a/django/db/models…   │\n",
      "│ 20240620_sweagent_clau ┆ scikit-learn__scikit-l ┆ reproduce_issue.py     ┆                       │\n",
      "│ de3.5son…              ┆ earn-155…              ┆                        ┆ diff --git            │\n",
      "│                        ┆                        ┆                        ┆ a/reproduce_issue.…   │\n",
      "│ 20240620_sweagent_clau ┆ django__django-13410   ┆ django/core/files/lock ┆                       │\n",
      "│ de3.5son…              ┆                        ┆ s.py                   ┆ diff --git            │\n",
      "│                        ┆                        ┆                        ┆ a/django/core/file…   │\n",
      "└────────────────────────┴────────────────────────┴────────────────────────┴───────────────────────┘\n"
     ]
    },
    {
     "data": {
      "text/html": [
       "<div><style>\n",
       ".dataframe > thead > tr,\n",
       ".dataframe > tbody > tr {\n",
       "  text-align: right;\n",
       "  white-space: pre-wrap;\n",
       "}\n",
       "</style>\n",
       "<small>shape: (11_329, 4)</small><table border=\"1\" class=\"dataframe\"><thead><tr><th>model_name_or_path</th><th>instance_id</th><th>file_changed</th><th>model_patch</th></tr><tr><td>str</td><td>str</td><td>str</td><td>str</td></tr></thead><tbody><tr><td>&quot;honeycomb&quot;</td><td>&quot;django__django-11179&quot;</td><td>&quot;__init__.py&quot;</td><td>&quot;diff --git a/__init__.py b/__i…</td></tr><tr><td>&quot;honeycomb&quot;</td><td>&quot;django__django-11405&quot;</td><td>&quot;django/db/models/query.py&quot;</td><td>&quot;diff --git a/django/db/models/…</td></tr><tr><td>&quot;honeycomb&quot;</td><td>&quot;django__django-11880&quot;</td><td>&quot;django/forms/fields.py&quot;</td><td>&quot;diff --git a/django/forms/fiel…</td></tr><tr><td>&quot;honeycomb&quot;</td><td>&quot;django__django-12209&quot;</td><td>&quot;django/db/models/base.py&quot;</td><td>&quot;diff --git a/django/db/models/…</td></tr><tr><td>&quot;honeycomb&quot;</td><td>&quot;django__django-13230&quot;</td><td>&quot;django/conf/global_settings.py&quot;</td><td>&quot;diff --git a/django/conf/globa…</td></tr><tr><td>&hellip;</td><td>&hellip;</td><td>&hellip;</td><td>&hellip;</td></tr><tr><td>&quot;20240620_sweagent_claude3.5son…</td><td>&quot;scikit-learn__scikit-learn-103…</td><td>&quot;reproduce_tfidf_dtype.py&quot;</td><td>&quot;\n",
       "diff --git a/reproduce_tfidf_…</td></tr><tr><td>&quot;20240620_sweagent_claude3.5son…</td><td>&quot;pydata__xarray-7391&quot;</td><td>&quot;reproduce_issue.py&quot;</td><td>&quot;\n",
       "diff --git a/reproduce_issue.…</td></tr><tr><td>&quot;20240620_sweagent_claude3.5son…</td><td>&quot;scikit-learn__scikit-learn-134…</td><td>&quot;sklearn/ensemble/iforest.py&quot;</td><td>&quot;\n",
       "diff --git a/sklearn/ensemble…</td></tr><tr><td>&quot;20240620_sweagent_claude3.5son…</td><td>&quot;scikit-learn__scikit-learn-139…</td><td>&quot;reproduce_issue.py&quot;</td><td>&quot;\n",
       "diff --git a/reproduce_issue.…</td></tr><tr><td>&quot;20240620_sweagent_claude3.5son…</td><td>&quot;pallets__flask-4074&quot;</td><td>&quot;reproduce_issue.py&quot;</td><td>&quot;\n",
       "diff --git a/reproduce_issue.…</td></tr></tbody></table></div>"
      ],
      "text/plain": [
       "shape: (11_329, 4)\n",
       "┌────────────────────────┬────────────────────────┬────────────────────────┬───────────────────────┐\n",
       "│ model_name_or_path     ┆ instance_id            ┆ file_changed           ┆ model_patch           │\n",
       "│ ---                    ┆ ---                    ┆ ---                    ┆ ---                   │\n",
       "│ str                    ┆ str                    ┆ str                    ┆ str                   │\n",
       "╞════════════════════════╪════════════════════════╪════════════════════════╪═══════════════════════╡\n",
       "│ honeycomb              ┆ django__django-11179   ┆ __init__.py            ┆ diff --git            │\n",
       "│                        ┆                        ┆                        ┆ a/__init__.py b/__i…  │\n",
       "│ honeycomb              ┆ django__django-11405   ┆ django/db/models/query ┆ diff --git            │\n",
       "│                        ┆                        ┆ .py                    ┆ a/django/db/models/…  │\n",
       "│ honeycomb              ┆ django__django-11880   ┆ django/forms/fields.py ┆ diff --git            │\n",
       "│                        ┆                        ┆                        ┆ a/django/forms/fiel…  │\n",
       "│ honeycomb              ┆ django__django-12209   ┆ django/db/models/base. ┆ diff --git            │\n",
       "│                        ┆                        ┆ py                     ┆ a/django/db/models/…  │\n",
       "│ honeycomb              ┆ django__django-13230   ┆ django/conf/global_set ┆ diff --git            │\n",
       "│                        ┆                        ┆ tings.py               ┆ a/django/conf/globa…  │\n",
       "│ …                      ┆ …                      ┆ …                      ┆ …                     │\n",
       "│ 20240620_sweagent_clau ┆ scikit-learn__scikit-l ┆ reproduce_tfidf_dtype. ┆                       │\n",
       "│ de3.5son…              ┆ earn-103…              ┆ py                     ┆ diff --git            │\n",
       "│                        ┆                        ┆                        ┆ a/reproduce_tfidf_…   │\n",
       "│ 20240620_sweagent_clau ┆ pydata__xarray-7391    ┆ reproduce_issue.py     ┆                       │\n",
       "│ de3.5son…              ┆                        ┆                        ┆ diff --git            │\n",
       "│                        ┆                        ┆                        ┆ a/reproduce_issue.…   │\n",
       "│ 20240620_sweagent_clau ┆ scikit-learn__scikit-l ┆ sklearn/ensemble/ifore ┆                       │\n",
       "│ de3.5son…              ┆ earn-134…              ┆ st.py                  ┆ diff --git            │\n",
       "│                        ┆                        ┆                        ┆ a/sklearn/ensemble…   │\n",
       "│ 20240620_sweagent_clau ┆ scikit-learn__scikit-l ┆ reproduce_issue.py     ┆                       │\n",
       "│ de3.5son…              ┆ earn-139…              ┆                        ┆ diff --git            │\n",
       "│                        ┆                        ┆                        ┆ a/reproduce_issue.…   │\n",
       "│ 20240620_sweagent_clau ┆ pallets__flask-4074    ┆ reproduce_issue.py     ┆                       │\n",
       "│ de3.5son…              ┆                        ┆                        ┆ diff --git            │\n",
       "│                        ┆                        ┆                        ┆ a/reproduce_issue.…   │\n",
       "└────────────────────────┴────────────────────────┴────────────────────────┴───────────────────────┘"
      ]
     },
     "execution_count": 152,
     "metadata": {},
     "output_type": "execute_result"
    }
   ],
   "source": [
    "full_dir = './experiments/evaluation/test/'\n",
    "\n",
    "experiments = [\n",
    "    '20240820_honeycomb',\n",
    "    '20240509_amazon-q-developer-agent-20240430-dev',\n",
    "    '20240617_factory_code_droid',\n",
    "    '20240628_autocoderover-v20240620',\n",
    "    '20240620_sweagent_claude3.5sonnet',\n",
    "]\n",
    "\n",
    "all_preds = {}\n",
    "\n",
    "for exp in experiments:\n",
    "    file_path = os.path.join(full_dir, exp, 'all_preds.jsonl')\n",
    "    df_data = read_jsonl_file_line_by_line(file_path)\n",
    "    \n",
    "    if df_data is not None:\n",
    "        df = pl.DataFrame(df_data)\n",
    "        \n",
    "        if 'model_patch' in df.columns:\n",
    "            df = df.with_columns(\n",
    "                pl.col('model_patch').str.extract(pattern, 1).alias('file_changed')\n",
    "            )\n",
    "        \n",
    "        all_preds[exp] = df\n",
    "\n",
    "for key in all_preds.keys():\n",
    "    all_preds[key] = all_preds[key].select(['model_name_or_path', 'instance_id', 'file_changed', 'model_patch'])\n",
    "    print(all_preds[key].head())\n",
    "\n",
    "full_bench_df = pl.concat(list(all_preds.values()))\n",
    "full_bench_df"
   ]
  },
  {
   "cell_type": "code",
   "execution_count": 155,
   "metadata": {},
   "outputs": [
    {
     "data": {
      "text/html": [
       "<div><style>\n",
       ".dataframe > thead > tr,\n",
       ".dataframe > tbody > tr {\n",
       "  text-align: right;\n",
       "  white-space: pre-wrap;\n",
       "}\n",
       "</style>\n",
       "<small>shape: (8_735, 4)</small><table border=\"1\" class=\"dataframe\"><thead><tr><th>model_name_or_path</th><th>instance_id</th><th>file_changed</th><th>model_patch</th></tr><tr><td>str</td><td>str</td><td>str</td><td>str</td></tr></thead><tbody><tr><td>&quot;honeycomb&quot;</td><td>&quot;django__django-11179&quot;</td><td>&quot;__init__.py&quot;</td><td>&quot;diff --git a/__init__.py b/__i…</td></tr><tr><td>&quot;honeycomb&quot;</td><td>&quot;django__django-11405&quot;</td><td>&quot;django/db/models/query.py&quot;</td><td>&quot;diff --git a/django/db/models/…</td></tr><tr><td>&quot;honeycomb&quot;</td><td>&quot;django__django-11880&quot;</td><td>&quot;django/forms/fields.py&quot;</td><td>&quot;diff --git a/django/forms/fiel…</td></tr><tr><td>&quot;honeycomb&quot;</td><td>&quot;django__django-12209&quot;</td><td>&quot;django/db/models/base.py&quot;</td><td>&quot;diff --git a/django/db/models/…</td></tr><tr><td>&quot;honeycomb&quot;</td><td>&quot;django__django-13230&quot;</td><td>&quot;django/conf/global_settings.py&quot;</td><td>&quot;diff --git a/django/conf/globa…</td></tr><tr><td>&hellip;</td><td>&hellip;</td><td>&hellip;</td><td>&hellip;</td></tr><tr><td>&quot;20240620_sweagent_claude3.5son…</td><td>&quot;scikit-learn__scikit-learn-103…</td><td>&quot;reproduce_tfidf_dtype.py&quot;</td><td>&quot;\n",
       "diff --git a/reproduce_tfidf_…</td></tr><tr><td>&quot;20240620_sweagent_claude3.5son…</td><td>&quot;pydata__xarray-7391&quot;</td><td>&quot;reproduce_issue.py&quot;</td><td>&quot;\n",
       "diff --git a/reproduce_issue.…</td></tr><tr><td>&quot;20240620_sweagent_claude3.5son…</td><td>&quot;scikit-learn__scikit-learn-134…</td><td>&quot;sklearn/ensemble/iforest.py&quot;</td><td>&quot;\n",
       "diff --git a/sklearn/ensemble…</td></tr><tr><td>&quot;20240620_sweagent_claude3.5son…</td><td>&quot;scikit-learn__scikit-learn-139…</td><td>&quot;reproduce_issue.py&quot;</td><td>&quot;\n",
       "diff --git a/reproduce_issue.…</td></tr><tr><td>&quot;20240620_sweagent_claude3.5son…</td><td>&quot;pallets__flask-4074&quot;</td><td>&quot;reproduce_issue.py&quot;</td><td>&quot;\n",
       "diff --git a/reproduce_issue.…</td></tr></tbody></table></div>"
      ],
      "text/plain": [
       "shape: (8_735, 4)\n",
       "┌────────────────────────┬────────────────────────┬────────────────────────┬───────────────────────┐\n",
       "│ model_name_or_path     ┆ instance_id            ┆ file_changed           ┆ model_patch           │\n",
       "│ ---                    ┆ ---                    ┆ ---                    ┆ ---                   │\n",
       "│ str                    ┆ str                    ┆ str                    ┆ str                   │\n",
       "╞════════════════════════╪════════════════════════╪════════════════════════╪═══════════════════════╡\n",
       "│ honeycomb              ┆ django__django-11179   ┆ __init__.py            ┆ diff --git            │\n",
       "│                        ┆                        ┆                        ┆ a/__init__.py b/__i…  │\n",
       "│ honeycomb              ┆ django__django-11405   ┆ django/db/models/query ┆ diff --git            │\n",
       "│                        ┆                        ┆ .py                    ┆ a/django/db/models/…  │\n",
       "│ honeycomb              ┆ django__django-11880   ┆ django/forms/fields.py ┆ diff --git            │\n",
       "│                        ┆                        ┆                        ┆ a/django/forms/fiel…  │\n",
       "│ honeycomb              ┆ django__django-12209   ┆ django/db/models/base. ┆ diff --git            │\n",
       "│                        ┆                        ┆ py                     ┆ a/django/db/models/…  │\n",
       "│ honeycomb              ┆ django__django-13230   ┆ django/conf/global_set ┆ diff --git            │\n",
       "│                        ┆                        ┆ tings.py               ┆ a/django/conf/globa…  │\n",
       "│ …                      ┆ …                      ┆ …                      ┆ …                     │\n",
       "│ 20240620_sweagent_clau ┆ scikit-learn__scikit-l ┆ reproduce_tfidf_dtype. ┆                       │\n",
       "│ de3.5son…              ┆ earn-103…              ┆ py                     ┆ diff --git            │\n",
       "│                        ┆                        ┆                        ┆ a/reproduce_tfidf_…   │\n",
       "│ 20240620_sweagent_clau ┆ pydata__xarray-7391    ┆ reproduce_issue.py     ┆                       │\n",
       "│ de3.5son…              ┆                        ┆                        ┆ diff --git            │\n",
       "│                        ┆                        ┆                        ┆ a/reproduce_issue.…   │\n",
       "│ 20240620_sweagent_clau ┆ scikit-learn__scikit-l ┆ sklearn/ensemble/ifore ┆                       │\n",
       "│ de3.5son…              ┆ earn-134…              ┆ st.py                  ┆ diff --git            │\n",
       "│                        ┆                        ┆                        ┆ a/sklearn/ensemble…   │\n",
       "│ 20240620_sweagent_clau ┆ scikit-learn__scikit-l ┆ reproduce_issue.py     ┆                       │\n",
       "│ de3.5son…              ┆ earn-139…              ┆                        ┆ diff --git            │\n",
       "│                        ┆                        ┆                        ┆ a/reproduce_issue.…   │\n",
       "│ 20240620_sweagent_clau ┆ pallets__flask-4074    ┆ reproduce_issue.py     ┆                       │\n",
       "│ de3.5son…              ┆                        ┆                        ┆ diff --git            │\n",
       "│                        ┆                        ┆                        ┆ a/reproduce_issue.…   │\n",
       "└────────────────────────┴────────────────────────┴────────────────────────┴───────────────────────┘"
      ]
     },
     "execution_count": 155,
     "metadata": {},
     "output_type": "execute_result"
    }
   ],
   "source": [
    "full_bench_df = full_bench_df.filter(pl.col('file_changed').is_not_null())\n",
    "full_bench_df"
   ]
  },
  {
   "cell_type": "code",
   "execution_count": 158,
   "metadata": {},
   "outputs": [
    {
     "data": {
      "text/html": [
       "<div><style>\n",
       ".dataframe > thead > tr,\n",
       ".dataframe > tbody > tr {\n",
       "  text-align: right;\n",
       "  white-space: pre-wrap;\n",
       "}\n",
       "</style>\n",
       "<small>shape: (8_735, 6)</small><table border=\"1\" class=\"dataframe\"><thead><tr><th>model_name_or_path</th><th>instance_id</th><th>file_changed</th><th>model_patch</th><th>true_patch_file</th><th>is_same_file</th></tr><tr><td>str</td><td>str</td><td>str</td><td>str</td><td>str</td><td>bool</td></tr></thead><tbody><tr><td>&quot;honeycomb&quot;</td><td>&quot;django__django-11179&quot;</td><td>&quot;__init__.py&quot;</td><td>&quot;diff --git a/__init__.py b/__i…</td><td>&quot;django/db/models/deletion.py&quot;</td><td>false</td></tr><tr><td>&quot;honeycomb&quot;</td><td>&quot;django__django-11405&quot;</td><td>&quot;django/db/models/query.py&quot;</td><td>&quot;diff --git a/django/db/models/…</td><td>&quot;django/db/models/sql/compiler.…</td><td>false</td></tr><tr><td>&quot;honeycomb&quot;</td><td>&quot;django__django-11880&quot;</td><td>&quot;django/forms/fields.py&quot;</td><td>&quot;diff --git a/django/forms/fiel…</td><td>&quot;django/forms/fields.py&quot;</td><td>true</td></tr><tr><td>&quot;honeycomb&quot;</td><td>&quot;django__django-12209&quot;</td><td>&quot;django/db/models/base.py&quot;</td><td>&quot;diff --git a/django/db/models/…</td><td>&quot;django/db/models/base.py&quot;</td><td>true</td></tr><tr><td>&quot;honeycomb&quot;</td><td>&quot;django__django-13230&quot;</td><td>&quot;django/conf/global_settings.py&quot;</td><td>&quot;diff --git a/django/conf/globa…</td><td>&quot;django/contrib/syndication/vie…</td><td>false</td></tr><tr><td>&hellip;</td><td>&hellip;</td><td>&hellip;</td><td>&hellip;</td><td>&hellip;</td><td>&hellip;</td></tr><tr><td>&quot;20240620_sweagent_claude3.5son…</td><td>&quot;scikit-learn__scikit-learn-103…</td><td>&quot;reproduce_tfidf_dtype.py&quot;</td><td>&quot;\n",
       "diff --git a/reproduce_tfidf_…</td><td>&quot;sklearn/exceptions.py&quot;</td><td>false</td></tr><tr><td>&quot;20240620_sweagent_claude3.5son…</td><td>&quot;pydata__xarray-7391&quot;</td><td>&quot;reproduce_issue.py&quot;</td><td>&quot;\n",
       "diff --git a/reproduce_issue.…</td><td>&quot;xarray/core/dataset.py&quot;</td><td>false</td></tr><tr><td>&quot;20240620_sweagent_claude3.5son…</td><td>&quot;scikit-learn__scikit-learn-134…</td><td>&quot;sklearn/ensemble/iforest.py&quot;</td><td>&quot;\n",
       "diff --git a/sklearn/ensemble…</td><td>&quot;sklearn/ensemble/iforest.py&quot;</td><td>true</td></tr><tr><td>&quot;20240620_sweagent_claude3.5son…</td><td>&quot;scikit-learn__scikit-learn-139…</td><td>&quot;reproduce_issue.py&quot;</td><td>&quot;\n",
       "diff --git a/reproduce_issue.…</td><td>&quot;sklearn/decomposition/incremen…</td><td>false</td></tr><tr><td>&quot;20240620_sweagent_claude3.5son…</td><td>&quot;pallets__flask-4074&quot;</td><td>&quot;reproduce_issue.py&quot;</td><td>&quot;\n",
       "diff --git a/reproduce_issue.…</td><td>&quot;src/flask/app.py&quot;</td><td>false</td></tr></tbody></table></div>"
      ],
      "text/plain": [
       "shape: (8_735, 6)\n",
       "┌────────────────┬────────────────┬────────────────┬────────────────┬───────────────┬──────────────┐\n",
       "│ model_name_or_ ┆ instance_id    ┆ file_changed   ┆ model_patch    ┆ true_patch_fi ┆ is_same_file │\n",
       "│ path           ┆ ---            ┆ ---            ┆ ---            ┆ le            ┆ ---          │\n",
       "│ ---            ┆ str            ┆ str            ┆ str            ┆ ---           ┆ bool         │\n",
       "│ str            ┆                ┆                ┆                ┆ str           ┆              │\n",
       "╞════════════════╪════════════════╪════════════════╪════════════════╪═══════════════╪══════════════╡\n",
       "│ honeycomb      ┆ django__django ┆ __init__.py    ┆ diff --git     ┆ django/db/mod ┆ false        │\n",
       "│                ┆ -11179         ┆                ┆ a/__init__.py  ┆ els/deletion. ┆              │\n",
       "│                ┆                ┆                ┆ b/__i…         ┆ py            ┆              │\n",
       "│ honeycomb      ┆ django__django ┆ django/db/mode ┆ diff --git a/d ┆ django/db/mod ┆ false        │\n",
       "│                ┆ -11405         ┆ ls/query.py    ┆ jango/db/model ┆ els/sql/compi ┆              │\n",
       "│                ┆                ┆                ┆ s/…            ┆ ler.…         ┆              │\n",
       "│ honeycomb      ┆ django__django ┆ django/forms/f ┆ diff --git a/d ┆ django/forms/ ┆ true         │\n",
       "│                ┆ -11880         ┆ ields.py       ┆ jango/forms/fi ┆ fields.py     ┆              │\n",
       "│                ┆                ┆                ┆ el…            ┆               ┆              │\n",
       "│ honeycomb      ┆ django__django ┆ django/db/mode ┆ diff --git a/d ┆ django/db/mod ┆ true         │\n",
       "│                ┆ -12209         ┆ ls/base.py     ┆ jango/db/model ┆ els/base.py   ┆              │\n",
       "│                ┆                ┆                ┆ s/…            ┆               ┆              │\n",
       "│ honeycomb      ┆ django__django ┆ django/conf/gl ┆ diff --git a/d ┆ django/contri ┆ false        │\n",
       "│                ┆ -13230         ┆ obal_settings. ┆ jango/conf/glo ┆ b/syndication ┆              │\n",
       "│                ┆                ┆ py             ┆ ba…            ┆ /vie…         ┆              │\n",
       "│ …              ┆ …              ┆ …              ┆ …              ┆ …             ┆ …            │\n",
       "│ 20240620_sweag ┆ scikit-learn__ ┆ reproduce_tfid ┆                ┆ sklearn/excep ┆ false        │\n",
       "│ ent_claude3.5s ┆ scikit-learn-1 ┆ f_dtype.py     ┆ diff --git a/r ┆ tions.py      ┆              │\n",
       "│ on…            ┆ 03…            ┆                ┆ eproduce_tfidf ┆               ┆              │\n",
       "│                ┆                ┆                ┆ _…             ┆               ┆              │\n",
       "│ 20240620_sweag ┆ pydata__xarray ┆ reproduce_issu ┆                ┆ xarray/core/d ┆ false        │\n",
       "│ ent_claude3.5s ┆ -7391          ┆ e.py           ┆ diff --git a/r ┆ ataset.py     ┆              │\n",
       "│ on…            ┆                ┆                ┆ eproduce_issue ┆               ┆              │\n",
       "│                ┆                ┆                ┆ .…             ┆               ┆              │\n",
       "│ 20240620_sweag ┆ scikit-learn__ ┆ sklearn/ensemb ┆                ┆ sklearn/ensem ┆ true         │\n",
       "│ ent_claude3.5s ┆ scikit-learn-1 ┆ le/iforest.py  ┆ diff --git a/s ┆ ble/iforest.p ┆              │\n",
       "│ on…            ┆ 34…            ┆                ┆ klearn/ensembl ┆ y             ┆              │\n",
       "│                ┆                ┆                ┆ e…             ┆               ┆              │\n",
       "│ 20240620_sweag ┆ scikit-learn__ ┆ reproduce_issu ┆                ┆ sklearn/decom ┆ false        │\n",
       "│ ent_claude3.5s ┆ scikit-learn-1 ┆ e.py           ┆ diff --git a/r ┆ position/incr ┆              │\n",
       "│ on…            ┆ 39…            ┆                ┆ eproduce_issue ┆ emen…         ┆              │\n",
       "│                ┆                ┆                ┆ .…             ┆               ┆              │\n",
       "│ 20240620_sweag ┆ pallets__flask ┆ reproduce_issu ┆                ┆ src/flask/app ┆ false        │\n",
       "│ ent_claude3.5s ┆ -4074          ┆ e.py           ┆ diff --git a/r ┆ .py           ┆              │\n",
       "│ on…            ┆                ┆                ┆ eproduce_issue ┆               ┆              │\n",
       "│                ┆                ┆                ┆ .…             ┆               ┆              │\n",
       "└────────────────┴────────────────┴────────────────┴────────────────┴───────────────┴──────────────┘"
      ]
     },
     "execution_count": 158,
     "metadata": {},
     "output_type": "execute_result"
    }
   ],
   "source": [
    "swe_df = swe_df.with_columns(\n",
    "    pl.col('patch').str.extract(pattern, 1).alias('true_patch_file')\n",
    ")\n",
    "\n",
    "swe_small_df = swe_df.select(['instance_id', 'true_patch_file'])\n",
    "\n",
    "merged_df = full_bench_df.join(swe_small_df, on='instance_id', how='inner')\n",
    "\n",
    "merged_df = merged_df.with_columns(\n",
    "    (pl.col('file_changed') == pl.col('true_patch_file')).alias('is_same_file')\n",
    ")\n",
    "\n",
    "merged_df\n",
    "    "
   ]
  },
  {
   "cell_type": "code",
   "execution_count": 159,
   "metadata": {},
   "outputs": [
    {
     "name": "stdout",
     "output_type": "stream",
     "text": [
      "Number of instances where 'file_changed' == 'true_patch_file': 5037\n",
      "Total number of instances: 8735\n",
      "Percentage of matches: 57.66%\n"
     ]
    }
   ],
   "source": [
    "num_same_files = merged_df['is_same_file'].sum()\n",
    "\n",
    "total_instances = merged_df.shape[0]\n",
    "\n",
    "percentage = (num_same_files / total_instances) * 100 if total_instances > 0 else 0\n",
    "\n",
    "print(f\"Number of instances where 'file_changed' == 'true_patch_file': {num_same_files}\")\n",
    "print(f\"Total number of instances: {total_instances}\")\n",
    "print(f\"Percentage of matches: {percentage:.2f}%\")"
   ]
  },
  {
   "cell_type": "code",
   "execution_count": 160,
   "metadata": {},
   "outputs": [
    {
     "data": {
      "text/html": [
       "<div><style>\n",
       ".dataframe > thead > tr,\n",
       ".dataframe > tbody > tr {\n",
       "  text-align: right;\n",
       "  white-space: pre-wrap;\n",
       "}\n",
       "</style>\n",
       "<small>shape: (4, 4)</small><table border=\"1\" class=\"dataframe\"><thead><tr><th>model_name_or_path</th><th>total_instances</th><th>num_same_files</th><th>percentage_matches</th></tr><tr><td>str</td><td>u32</td><td>u32</td><td>f64</td></tr></thead><tbody><tr><td>&quot;autocoderover-v20240620-gpt-4o…</td><td>2241</td><td>1435</td><td>64.033913</td></tr><tr><td>&quot;droid&quot;</td><td>2284</td><td>1528</td><td>66.900175</td></tr><tr><td>&quot;20240620_sweagent_claude3.5son…</td><td>2241</td><td>855</td><td>38.15261</td></tr><tr><td>&quot;honeycomb&quot;</td><td>1969</td><td>1219</td><td>61.909599</td></tr></tbody></table></div>"
      ],
      "text/plain": [
       "shape: (4, 4)\n",
       "┌─────────────────────────────────┬─────────────────┬────────────────┬────────────────────┐\n",
       "│ model_name_or_path              ┆ total_instances ┆ num_same_files ┆ percentage_matches │\n",
       "│ ---                             ┆ ---             ┆ ---            ┆ ---                │\n",
       "│ str                             ┆ u32             ┆ u32            ┆ f64                │\n",
       "╞═════════════════════════════════╪═════════════════╪════════════════╪════════════════════╡\n",
       "│ autocoderover-v20240620-gpt-4o… ┆ 2241            ┆ 1435           ┆ 64.033913          │\n",
       "│ droid                           ┆ 2284            ┆ 1528           ┆ 66.900175          │\n",
       "│ 20240620_sweagent_claude3.5son… ┆ 2241            ┆ 855            ┆ 38.15261           │\n",
       "│ honeycomb                       ┆ 1969            ┆ 1219           ┆ 61.909599          │\n",
       "└─────────────────────────────────┴─────────────────┴────────────────┴────────────────────┘"
      ]
     },
     "execution_count": 160,
     "metadata": {},
     "output_type": "execute_result"
    }
   ],
   "source": [
    "model_stats = merged_df.group_by('model_name_or_path').agg([\n",
    "    pl.len().alias('total_instances'),\n",
    "    pl.col('is_same_file').sum().alias('num_same_files'),\n",
    "    (pl.col('is_same_file').sum() / pl.len() * 100).alias('percentage_matches')\n",
    "])\n",
    "\n",
    "model_stats"
   ]
  },
  {
   "cell_type": "code",
   "execution_count": null,
   "metadata": {},
   "outputs": [],
   "source": []
  }
 ],
 "metadata": {
  "kernelspec": {
   "display_name": "venv",
   "language": "python",
   "name": "python3"
  },
  "language_info": {
   "codemirror_mode": {
    "name": "ipython",
    "version": 3
   },
   "file_extension": ".py",
   "mimetype": "text/x-python",
   "name": "python",
   "nbconvert_exporter": "python",
   "pygments_lexer": "ipython3",
   "version": "3.11.5"
  }
 },
 "nbformat": 4,
 "nbformat_minor": 2
}
