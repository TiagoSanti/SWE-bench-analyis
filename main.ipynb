{
 "cells": [
  {
   "cell_type": "code",
   "execution_count": 1,
   "metadata": {},
   "outputs": [],
   "source": [
    "import polars as pl\n",
    "import pandas as pd\n",
    "import json\n",
    "import os\n",
    "import re"
   ]
  },
  {
   "cell_type": "code",
   "execution_count": 30,
   "metadata": {},
   "outputs": [],
   "source": [
    "def read_jsonl_file_line_by_line(file_path):\n",
    "    data = []\n",
    "    try:\n",
    "        with open(file_path, 'r', encoding='utf-8') as f:\n",
    "            for line in f:\n",
    "                try:\n",
    "                    data.append(json.loads(line))\n",
    "                except json.JSONDecodeError as e:\n",
    "                    print(f\"JSON decode error in {file_path}: {e}\")\n",
    "        return data\n",
    "    except Exception as e:\n",
    "        print(f\"Error opening {file_path}: {e}\")\n",
    "        return None"
   ]
  },
  {
   "cell_type": "code",
   "execution_count": 31,
   "metadata": {},
   "outputs": [],
   "source": [
    "pattern = r'diff --git a/.+? b/(.+)'"
   ]
  },
  {
   "cell_type": "code",
   "execution_count": 32,
   "metadata": {},
   "outputs": [],
   "source": [
    "def process_experiments(experiments, base_dir):\n",
    "    all_preds = {}\n",
    "    pattern = r'(?:diff --git a/.+? b/|--- a/)(.+)'\n",
    "\n",
    "    for exp in experiments:\n",
    "        file_path = os.path.join(base_dir, exp, 'all_preds.jsonl')\n",
    "        results_file_path = os.path.join(base_dir, exp, 'results', 'results.json')\n",
    "        \n",
    "        try:\n",
    "            with open(results_file_path, 'r', encoding='utf-8') as f:\n",
    "                results_data = json.load(f)\n",
    "                resolved_list = results_data.get('resolved', [])\n",
    "        except Exception as e:\n",
    "            print(f\"Error reading results file for experiment {exp}: {e}\")\n",
    "            resolved_list = []\n",
    "\n",
    "        df_data = read_jsonl_file_line_by_line(file_path)\n",
    "        \n",
    "        if df_data is not None:\n",
    "            df = pl.DataFrame(df_data)\n",
    "\n",
    "            df = df.with_columns(\n",
    "                pl.lit(exp).alias('model_name_or_path')\n",
    "            )\n",
    "\n",
    "            if 'model_patch' in df.columns:\n",
    "                df = df.with_columns(\n",
    "                    pl.col('model_patch').str.extract(pattern, 1).alias('file_changed')\n",
    "                )\n",
    "            \n",
    "            df = df.with_columns(\n",
    "                pl.col('instance_id').is_in(resolved_list).alias('resolved')\n",
    "            )\n",
    "            \n",
    "            df = df.select(['model_name_or_path', 'instance_id', 'file_changed', 'model_patch', 'resolved'])\n",
    "            all_preds[exp] = df\n",
    "\n",
    "    combined_df = pl.concat(list(all_preds.values()))\n",
    "    return combined_df"
   ]
  },
  {
   "cell_type": "code",
   "execution_count": 33,
   "metadata": {},
   "outputs": [],
   "source": [
    "def analyze_bench(bench_df, swe_df_small):\n",
    "    merged_df = bench_df.join(swe_df_small, on='instance_id', how='inner')\n",
    "\n",
    "    merged_df = merged_df.with_columns([\n",
    "        pl.col('file_changed').str.strip_chars().str.replace_all(r'\\\\', '/').alias('file_changed_norm'),\n",
    "        pl.col('true_patch_file').str.strip_chars().str.replace_all(r'\\\\', '/').alias('true_patch_file_norm')\n",
    "    ])\n",
    "\n",
    "    merged_df = merged_df.with_columns(\n",
    "        (pl.col('file_changed_norm') == pl.col('true_patch_file_norm')).alias('is_same_file')\n",
    "    )\n",
    "\n",
    "    num_same_files = merged_df['is_same_file'].sum()\n",
    "    total_instances = merged_df.shape[0]\n",
    "    percentage = (num_same_files / total_instances) * 100 if total_instances > 0 else 0\n",
    "\n",
    "    print(f\"Overall Statistics:\")\n",
    "    print(f\"Number of instances where 'file_changed' == 'true_patch_file': {num_same_files}\")\n",
    "    print(f\"Total number of instances: {total_instances}\")\n",
    "    print(f\"Percentage of matches: {percentage:.2f}%\\n\")\n",
    "\n",
    "    for resolved_status in [True, False]:\n",
    "        status_df = merged_df.filter(pl.col('resolved') == resolved_status)\n",
    "        num_same_files = status_df['is_same_file'].sum()\n",
    "        total_instances = status_df.shape[0]\n",
    "        percentage = (num_same_files / total_instances) * 100 if total_instances > 0 else 0\n",
    "\n",
    "        status = \"Resolved\" if resolved_status else \"Not Resolved\"\n",
    "        print(f\"{status} Instances:\")\n",
    "        print(f\"Number of instances where 'file_changed' == 'true_patch_file': {num_same_files}\")\n",
    "        print(f\"Total number of instances: {total_instances}\")\n",
    "        print(f\"Percentage of matches: {percentage:.2f}%\\n\")\n",
    "\n",
    "    model_stats = merged_df.group_by(['model_name_or_path', 'resolved']).agg([\n",
    "        pl.len().alias('total_instances'),\n",
    "        pl.col('is_same_file').sum().alias('num_same_files'),\n",
    "        (pl.col('is_same_file').sum() / pl.len() * 100).alias('percentage_matches')\n",
    "    ])\n",
    "\n",
    "    print(\"Model Statistics by Resolved Status:\")\n",
    "    print(model_stats.filter(pl.col('resolved') == False).sort('percentage_matches'))\n",
    "    return merged_df, model_stats\n"
   ]
  },
  {
   "cell_type": "code",
   "execution_count": 34,
   "metadata": {},
   "outputs": [],
   "source": [
    "swe_df = pl.read_parquet('hf://datasets/princeton-nlp/SWE-bench/data/test-00000-of-00001.parquet')\n",
    "swe_bench_lite_df = pl.read_parquet('hf://datasets/princeton-nlp/SWE-bench_Lite/data/test-00000-of-00001.parquet')\n",
    "swe_bench_verified_df = pl.read_parquet('hf://datasets/princeton-nlp/SWE-bench_Verified/data/test-00000-of-00001.parquet')"
   ]
  },
  {
   "cell_type": "markdown",
   "metadata": {},
   "source": [
    "# Lite bench\n",
    "\n",
    "## Experiments (6 best)\n",
    "\n",
    "- 20240702_codestory_aide_mixed\n",
    "- 20240820_honeycomb\n",
    "- 20240627_abanteai_mentatbot_gpt4o\n",
    "- 20240811_gru\n",
    "- 20240829_Isoform\n",
    "- 20240806_SuperCoder2"
   ]
  },
  {
   "cell_type": "code",
   "execution_count": 35,
   "metadata": {},
   "outputs": [
    {
     "data": {
      "text/html": [
       "<div><style>\n",
       ".dataframe > thead > tr,\n",
       ".dataframe > tbody > tr {\n",
       "  text-align: right;\n",
       "  white-space: pre-wrap;\n",
       "}\n",
       "</style>\n",
       "<small>shape: (3_736, 5)</small><table border=\"1\" class=\"dataframe\"><thead><tr><th>model_name_or_path</th><th>instance_id</th><th>file_changed</th><th>model_patch</th><th>resolved</th></tr><tr><td>str</td><td>str</td><td>str</td><td>str</td><td>bool</td></tr></thead><tbody><tr><td>&quot;20240702_codestory_aide_mixed&quot;</td><td>&quot;matplotlib__matplotlib-25433&quot;</td><td>&quot;lib/matplotlib/widgets.py&quot;</td><td>&quot;diff --git a/lib/matplotlib/widgets.py b/lib/matplotlib/widgets.py\n",
       "index ebe5da43e2..fd6f56f003 1006…</td><td>false</td></tr><tr><td>&quot;20240702_codestory_aide_mixed&quot;</td><td>&quot;django__django-16820&quot;</td><td>&quot;django/db/migrations/autodetector.py&quot;</td><td>&quot;diff --git a/django/db/migrations/autodetector.py b/django/db/migrations/autodetector.py\n",
       "index 23c97…</td><td>false</td></tr><tr><td>&quot;20240702_codestory_aide_mixed&quot;</td><td>&quot;django__django-15781&quot;</td><td>&quot;django/core/management/base.py&quot;</td><td>&quot;diff --git a/django/core/management/base.py b/django/core/management/base.py\n",
       "index d37d43d5c5..8a866…</td><td>false</td></tr><tr><td>&quot;20240702_codestory_aide_mixed&quot;</td><td>&quot;sympy__sympy-18087&quot;</td><td>&quot;sympy/simplify/trigsimp.py&quot;</td><td>&quot;diff --git a/sympy/simplify/trigsimp.py b/sympy/simplify/trigsimp.py\n",
       "index 7ca05f0304..b4ea4826a9 10…</td><td>false</td></tr><tr><td>&quot;20240702_codestory_aide_mixed&quot;</td><td>&quot;pytest-dev__pytest-5495&quot;</td><td>&quot;src/_pytest/_code/code.py&quot;</td><td>&quot;diff --git a/src/_pytest/_code/code.py b/src/_pytest/_code/code.py\n",
       "index b0b4d6531..4a2a39d8a 100644…</td><td>false</td></tr><tr><td>&hellip;</td><td>&hellip;</td><td>&hellip;</td><td>&hellip;</td><td>&hellip;</td></tr><tr><td>&quot;20240806_SuperCoder2.0&quot;</td><td>&quot;scikit-learn__scikit-learn-25570&quot;</td><td>&quot;sklearn/compose/_column_transformer.py&quot;</td><td>&quot;diff --git a/sklearn/compose/_column_transformer.py b/sklearn/compose/_column_transformer.py\n",
       "index a…</td><td>false</td></tr><tr><td>&quot;20240806_SuperCoder2.0&quot;</td><td>&quot;sphinx-doc__sphinx-8801&quot;</td><td>&quot;sphinx/ext/autodoc/__init__.py&quot;</td><td>&quot;diff --git a/sphinx/ext/autodoc/__init__.py b/sphinx/ext/autodoc/__init__.py\n",
       "index dc413b5c2..c944de…</td><td>false</td></tr><tr><td>&quot;20240806_SuperCoder2.0&quot;</td><td>&quot;sympy__sympy-14396&quot;</td><td>&quot;sympy/polys/polyoptions.py&quot;</td><td>&quot;diff --git a/sympy/polys/polyoptions.py b/sympy/polys/polyoptions.py\n",
       "index 6e504a3057..93eb1a451d 10…</td><td>false</td></tr><tr><td>&quot;20240806_SuperCoder2.0&quot;</td><td>&quot;django__django-11905&quot;</td><td>&quot;django/db/models/lookups.py&quot;</td><td>&quot;diff --git a/django/db/models/lookups.py b/django/db/models/lookups.py\n",
       "index 9344979c56..141fe6895d …</td><td>false</td></tr><tr><td>&quot;20240806_SuperCoder2.0&quot;</td><td>&quot;sympy__sympy-21627&quot;</td><td>&quot;sympy/functions/elementary/hyperbolic.py&quot;</td><td>&quot;diff --git a/sympy/functions/elementary/hyperbolic.py b/sympy/functions/elementary/hyperbolic.py\n",
       "ind…</td><td>false</td></tr></tbody></table></div>"
      ],
      "text/plain": [
       "shape: (3_736, 5)\n",
       "┌─────────────────────┬─────────────────────┬─────────────────────┬─────────────────────┬──────────┐\n",
       "│ model_name_or_path  ┆ instance_id         ┆ file_changed        ┆ model_patch         ┆ resolved │\n",
       "│ ---                 ┆ ---                 ┆ ---                 ┆ ---                 ┆ ---      │\n",
       "│ str                 ┆ str                 ┆ str                 ┆ str                 ┆ bool     │\n",
       "╞═════════════════════╪═════════════════════╪═════════════════════╪═════════════════════╪══════════╡\n",
       "│ 20240702_codestory_ ┆ matplotlib__matplot ┆ lib/matplotlib/widg ┆ diff --git a/lib/ma ┆ false    │\n",
       "│ aide_mixed          ┆ lib-25433           ┆ ets.py              ┆ tplotlib/widgets.py ┆          │\n",
       "│                     ┆                     ┆                     ┆ b/lib/matplotlib/wi ┆          │\n",
       "│                     ┆                     ┆                     ┆ dgets.py            ┆          │\n",
       "│                     ┆                     ┆                     ┆ index ebe5da43e2..f ┆          │\n",
       "│                     ┆                     ┆                     ┆ d6f56f003 1006…     ┆          │\n",
       "│ 20240702_codestory_ ┆ django__django-1682 ┆ django/db/migration ┆ diff --git a/django ┆ false    │\n",
       "│ aide_mixed          ┆ 0                   ┆ s/autodetector.py   ┆ /db/migrations/auto ┆          │\n",
       "│                     ┆                     ┆                     ┆ detector.py b/djang ┆          │\n",
       "│                     ┆                     ┆                     ┆ o/db/migrations/aut ┆          │\n",
       "│                     ┆                     ┆                     ┆ odetector.py        ┆          │\n",
       "│                     ┆                     ┆                     ┆ index 23c97…        ┆          │\n",
       "│ 20240702_codestory_ ┆ django__django-1578 ┆ django/core/managem ┆ diff --git a/django ┆ false    │\n",
       "│ aide_mixed          ┆ 1                   ┆ ent/base.py         ┆ /core/management/ba ┆          │\n",
       "│                     ┆                     ┆                     ┆ se.py b/django/core ┆          │\n",
       "│                     ┆                     ┆                     ┆ /management/base.py ┆          │\n",
       "│                     ┆                     ┆                     ┆ index               ┆          │\n",
       "│                     ┆                     ┆                     ┆ d37d43d5c5..8a866…  ┆          │\n",
       "│ 20240702_codestory_ ┆ sympy__sympy-18087  ┆ sympy/simplify/trig ┆ diff --git a/sympy/ ┆ false    │\n",
       "│ aide_mixed          ┆                     ┆ simp.py             ┆ simplify/trigsimp.p ┆          │\n",
       "│                     ┆                     ┆                     ┆ y b/sympy/simplify/ ┆          │\n",
       "│                     ┆                     ┆                     ┆ trigsimp.py         ┆          │\n",
       "│                     ┆                     ┆                     ┆ index 7ca05f0304..b ┆          │\n",
       "│                     ┆                     ┆                     ┆ 4ea4826a9 10…       ┆          │\n",
       "│ 20240702_codestory_ ┆ pytest-dev__pytest- ┆ src/_pytest/_code/c ┆ diff --git a/src/_p ┆ false    │\n",
       "│ aide_mixed          ┆ 5495                ┆ ode.py              ┆ ytest/_code/code.py ┆          │\n",
       "│                     ┆                     ┆                     ┆ b/src/_pytest/_code ┆          │\n",
       "│                     ┆                     ┆                     ┆ /code.py            ┆          │\n",
       "│                     ┆                     ┆                     ┆ index b0b4d6531..4a ┆          │\n",
       "│                     ┆                     ┆                     ┆ 2a39d8a 100644…     ┆          │\n",
       "│ …                   ┆ …                   ┆ …                   ┆ …                   ┆ …        │\n",
       "│ 20240806_SuperCoder ┆ scikit-learn__sciki ┆ sklearn/compose/_co ┆ diff --git a/sklear ┆ false    │\n",
       "│ 2.0                 ┆ t-learn-25570       ┆ lumn_transformer.py ┆ n/compose/_column_t ┆          │\n",
       "│                     ┆                     ┆                     ┆ ransformer.py b/skl ┆          │\n",
       "│                     ┆                     ┆                     ┆ earn/compose/_colum ┆          │\n",
       "│                     ┆                     ┆                     ┆ n_transformer.py    ┆          │\n",
       "│                     ┆                     ┆                     ┆ index a…            ┆          │\n",
       "│ 20240806_SuperCoder ┆ sphinx-doc__sphinx- ┆ sphinx/ext/autodoc/ ┆ diff --git a/sphinx ┆ false    │\n",
       "│ 2.0                 ┆ 8801                ┆ __init__.py         ┆ /ext/autodoc/__init ┆          │\n",
       "│                     ┆                     ┆                     ┆ __.py b/sphinx/ext/ ┆          │\n",
       "│                     ┆                     ┆                     ┆ autodoc/__init__.py ┆          │\n",
       "│                     ┆                     ┆                     ┆ index               ┆          │\n",
       "│                     ┆                     ┆                     ┆ dc413b5c2..c944de…  ┆          │\n",
       "│ 20240806_SuperCoder ┆ sympy__sympy-14396  ┆ sympy/polys/polyopt ┆ diff --git a/sympy/ ┆ false    │\n",
       "│ 2.0                 ┆                     ┆ ions.py             ┆ polys/polyoptions.p ┆          │\n",
       "│                     ┆                     ┆                     ┆ y b/sympy/polys/pol ┆          │\n",
       "│                     ┆                     ┆                     ┆ yoptions.py         ┆          │\n",
       "│                     ┆                     ┆                     ┆ index 6e504a3057..9 ┆          │\n",
       "│                     ┆                     ┆                     ┆ 3eb1a451d 10…       ┆          │\n",
       "│ 20240806_SuperCoder ┆ django__django-1190 ┆ django/db/models/lo ┆ diff --git a/django ┆ false    │\n",
       "│ 2.0                 ┆ 5                   ┆ okups.py            ┆ /db/models/lookups. ┆          │\n",
       "│                     ┆                     ┆                     ┆ py b/django/db/mode ┆          │\n",
       "│                     ┆                     ┆                     ┆ ls/lookups.py       ┆          │\n",
       "│                     ┆                     ┆                     ┆ index 9344979c56..1 ┆          │\n",
       "│                     ┆                     ┆                     ┆ 41fe6895d …         ┆          │\n",
       "│ 20240806_SuperCoder ┆ sympy__sympy-21627  ┆ sympy/functions/ele ┆ diff --git a/sympy/ ┆ false    │\n",
       "│ 2.0                 ┆                     ┆ mentary/hyperbolic. ┆ functions/elementar ┆          │\n",
       "│                     ┆                     ┆ py                  ┆ y/hyperbolic.py b/s ┆          │\n",
       "│                     ┆                     ┆                     ┆ ympy/functions/elem ┆          │\n",
       "│                     ┆                     ┆                     ┆ entary/hyperbolic.p ┆          │\n",
       "│                     ┆                     ┆                     ┆ y                   ┆          │\n",
       "│                     ┆                     ┆                     ┆ ind…                ┆          │\n",
       "└─────────────────────┴─────────────────────┴─────────────────────┴─────────────────────┴──────────┘"
      ]
     },
     "execution_count": 35,
     "metadata": {},
     "output_type": "execute_result"
    }
   ],
   "source": [
    "lite_experiments = [\n",
    "    '20240702_codestory_aide_mixed',\n",
    "    '20240820_honeycomb',\n",
    "    '20240627_abanteai_mentatbot_gpt4o',\n",
    "    '20240811_gru',\n",
    "    '20240829_Isoform',\n",
    "    '20240806_SuperCoder2.0',\n",
    "]\n",
    "\n",
    "lite_dir = './experiments/evaluation/lite/'\n",
    "\n",
    "lite_bench_df = process_experiments(lite_experiments, lite_dir)\n",
    "lite_bench_df"
   ]
  },
  {
   "cell_type": "code",
   "execution_count": 36,
   "metadata": {},
   "outputs": [
    {
     "name": "stdout",
     "output_type": "stream",
     "text": [
      "Overall Statistics:\n",
      "Number of instances where 'file_changed' == 'true_patch_file': 1196\n",
      "Total number of instances: 1797\n",
      "Percentage of matches: 66.56%\n",
      "\n",
      "Resolved Instances:\n",
      "Number of instances where 'file_changed' == 'true_patch_file': 612\n",
      "Total number of instances: 672\n",
      "Percentage of matches: 91.07%\n",
      "\n",
      "Not Resolved Instances:\n",
      "Number of instances where 'file_changed' == 'true_patch_file': 584\n",
      "Total number of instances: 1125\n",
      "Percentage of matches: 51.91%\n",
      "\n",
      "Model Statistics by Resolved Status:\n",
      "shape: (6, 5)\n",
      "┌───────────────────────────────┬──────────┬─────────────────┬────────────────┬────────────────────┐\n",
      "│ model_name_or_path            ┆ resolved ┆ total_instances ┆ num_same_files ┆ percentage_matches │\n",
      "│ ---                           ┆ ---      ┆ ---             ┆ ---            ┆ ---                │\n",
      "│ str                           ┆ bool     ┆ u32             ┆ u32            ┆ f64                │\n",
      "╞═══════════════════════════════╪══════════╪═════════════════╪════════════════╪════════════════════╡\n",
      "│ 20240820_honeycomb            ┆ false    ┆ 182             ┆ 79             ┆ 43.406593          │\n",
      "│ 20240627_abanteai_mentatbot_g ┆ false    ┆ 186             ┆ 84             ┆ 45.16129           │\n",
      "│ pt4o                          ┆          ┆                 ┆                ┆                    │\n",
      "│ 20240806_SuperCoder2.0        ┆ false    ┆ 198             ┆ 100            ┆ 50.505051          │\n",
      "│ 20240702_codestory_aide_mixed ┆ false    ┆ 171             ┆ 89             ┆ 52.046784          │\n",
      "│ 20240811_gru                  ┆ false    ┆ 193             ┆ 115            ┆ 59.585492          │\n",
      "│ 20240829_Isoform              ┆ false    ┆ 195             ┆ 117            ┆ 60.0               │\n",
      "└───────────────────────────────┴──────────┴─────────────────┴────────────────┴────────────────────┘\n"
     ]
    }
   ],
   "source": [
    "swe_bench_lite_df = swe_bench_lite_df.with_columns(\n",
    "    pl.col('patch').str.extract(pattern, 1).alias('true_patch_file')\n",
    ")\n",
    "swe_df_small = swe_bench_lite_df.select(['instance_id', 'true_patch_file'])\n",
    "\n",
    "lite_merged_df, lite_model_stats = analyze_bench(lite_bench_df, swe_df_small)"
   ]
  },
  {
   "cell_type": "markdown",
   "metadata": {},
   "source": [
    "# Full bench\n",
    "\n",
    "## Experiments (5 best)\n",
    "\n",
    "- 20240820_honeycomb\n",
    "- 20240509_amazon-q-developer-agent-20240430-dev\n",
    "- 20240617_factory_code_droid\n",
    "- 20240628_autocoderover-v20240620\n",
    "- 20240620_sweagent_claude3.5sonnet"
   ]
  },
  {
   "cell_type": "code",
   "execution_count": 37,
   "metadata": {},
   "outputs": [],
   "source": [
    "full_experiments = [\n",
    "    '20240820_honeycomb',\n",
    "    '20240509_amazon-q-developer-agent-20240430-dev',\n",
    "    '20240617_factory_code_droid',\n",
    "    '20240628_autocoderover-v20240620',\n",
    "    '20240620_sweagent_claude3.5sonnet',\n",
    "]\n",
    "\n",
    "full_dir = './experiments/evaluation/test/'\n",
    "\n",
    "full_bench_df = process_experiments(full_experiments, full_dir)"
   ]
  },
  {
   "cell_type": "code",
   "execution_count": 38,
   "metadata": {},
   "outputs": [
    {
     "name": "stdout",
     "output_type": "stream",
     "text": [
      "Overall Statistics:\n",
      "Number of instances where 'file_changed' == 'true_patch_file': 6490\n",
      "Total number of instances: 11329\n",
      "Percentage of matches: 57.29%\n",
      "\n",
      "Resolved Instances:\n",
      "Number of instances where 'file_changed' == 'true_patch_file': 1765\n",
      "Total number of instances: 2113\n",
      "Percentage of matches: 83.53%\n",
      "\n",
      "Not Resolved Instances:\n",
      "Number of instances where 'file_changed' == 'true_patch_file': 4725\n",
      "Total number of instances: 9216\n",
      "Percentage of matches: 51.27%\n",
      "\n",
      "Model Statistics by Resolved Status:\n",
      "shape: (5, 5)\n",
      "┌───────────────────────────────┬──────────┬─────────────────┬────────────────┬────────────────────┐\n",
      "│ model_name_or_path            ┆ resolved ┆ total_instances ┆ num_same_files ┆ percentage_matches │\n",
      "│ ---                           ┆ ---      ┆ ---             ┆ ---            ┆ ---                │\n",
      "│ str                           ┆ bool     ┆ u32             ┆ u32            ┆ f64                │\n",
      "╞═══════════════════════════════╪══════════╪═════════════════╪════════════════╪════════════════════╡\n",
      "│ 20240620_sweagent_claude3.5so ┆ false    ┆ 1858            ┆ 600            ┆ 32.292788          │\n",
      "│ nnet                          ┆          ┆                 ┆                ┆                    │\n",
      "│ 20240820_honeycomb            ┆ false    ┆ 1730            ┆ 801            ┆ 46.300578          │\n",
      "│ 20240628_autocoderover-v20240 ┆ false    ┆ 1809            ┆ 1044           ┆ 57.711443          │\n",
      "│ 620                           ┆          ┆                 ┆                ┆                    │\n",
      "│ 20240509_amazon-q-developer-a ┆ false    ┆ 1977            ┆ 1165           ┆ 58.927668          │\n",
      "│ gent-20240430-dev             ┆          ┆                 ┆                ┆                    │\n",
      "│ 20240617_factory_code_droid   ┆ false    ┆ 1842            ┆ 1115           ┆ 60.53203           │\n",
      "└───────────────────────────────┴──────────┴─────────────────┴────────────────┴────────────────────┘\n"
     ]
    }
   ],
   "source": [
    "swe_df = swe_df.with_columns(\n",
    "    pl.col('patch').str.extract(pattern, 1).alias('true_patch_file')\n",
    ")\n",
    "swe_df_small = swe_df.select(['instance_id', 'true_patch_file'])\n",
    "\n",
    "full_merged_df, full_model_stats = analyze_bench(full_bench_df, swe_df_small)"
   ]
  },
  {
   "cell_type": "markdown",
   "metadata": {},
   "source": [
    "# Verified bench\n",
    "## Experiments (All)"
   ]
  },
  {
   "cell_type": "code",
   "execution_count": 39,
   "metadata": {},
   "outputs": [
    {
     "data": {
      "text/plain": [
       "['20231010_rag_claude2',\n",
       " '20231010_rag_gpt35',\n",
       " '20231010_rag_swellama13b',\n",
       " '20231010_rag_swellama7b',\n",
       " '20240402_rag_claude3opus',\n",
       " '20240402_rag_gpt4',\n",
       " '20240402_sweagent_claude3opus',\n",
       " '20240402_sweagent_gpt4',\n",
       " '20240509_amazon-q-developer-agent-20240430-dev',\n",
       " '20240615_appmap-navie_gpt4o',\n",
       " '20240617_factory_code_droid',\n",
       " '20240620_sweagent_claude3.5sonnet',\n",
       " '20240628_autocoderover-v20240620',\n",
       " '20240721_amazon-q-developer-agent-20240719-dev',\n",
       " '20240728_sweagent_gpt4o',\n",
       " '20240820_epam-ai-run-gpt-4o',\n",
       " '20240820_honeycomb',\n",
       " '20240824_gru']"
      ]
     },
     "execution_count": 39,
     "metadata": {},
     "output_type": "execute_result"
    }
   ],
   "source": [
    "verified_dir = './experiments/evaluation/verified/'\n",
    "\n",
    "verified_experiments = os.listdir(verified_dir)\n",
    "verified_experiments"
   ]
  },
  {
   "cell_type": "code",
   "execution_count": 40,
   "metadata": {},
   "outputs": [
    {
     "name": "stdout",
     "output_type": "stream",
     "text": [
      "Error opening ./experiments/evaluation/verified/20240620_sweagent_claude3.5sonnet\\all_preds.jsonl: [Errno 2] No such file or directory: './experiments/evaluation/verified/20240620_sweagent_claude3.5sonnet\\\\all_preds.jsonl'\n"
     ]
    },
    {
     "data": {
      "text/html": [
       "<div><style>\n",
       ".dataframe > thead > tr,\n",
       ".dataframe > tbody > tr {\n",
       "  text-align: right;\n",
       "  white-space: pre-wrap;\n",
       "}\n",
       "</style>\n",
       "<small>shape: (10_255, 5)</small><table border=\"1\" class=\"dataframe\"><thead><tr><th>model_name_or_path</th><th>instance_id</th><th>file_changed</th><th>model_patch</th><th>resolved</th></tr><tr><td>str</td><td>str</td><td>str</td><td>str</td><td>bool</td></tr></thead><tbody><tr><td>&quot;20231010_rag_claude2&quot;</td><td>&quot;sympy__sympy-12419&quot;</td><td>&quot;sympy/matrices/expressions/matexpr.py&quot;</td><td>&quot; Here is a patch file that fixes the issue of the sum of an identity matrix being 0 instead of n:\n",
       "\n",
       "`…</td><td>false</td></tr><tr><td>&quot;20231010_rag_claude2&quot;</td><td>&quot;sympy__sympy-18698&quot;</td><td>&quot;sympy/polys/polytools.py&quot;</td><td>&quot;--- a/sympy/polys/polytools.py\n",
       "+++ b/sympy/polys/polytools.py\n",
       "@@ -1537,7 +1537,7 @@\n",
       "         if self…</td><td>false</td></tr><tr><td>&quot;20231010_rag_claude2&quot;</td><td>&quot;sympy__sympy-15599&quot;</td><td>&quot;sympy/core/mod.py&quot;</td><td>&quot;--- a/sympy/core/mod.py\n",
       "+++ b/sympy/core/mod.py\n",
       "@@ -114,6 +114,11 @@\n",
       "                 both_l[isinsta…</td><td>false</td></tr><tr><td>&quot;20231010_rag_claude2&quot;</td><td>&quot;astropy__astropy-14539&quot;</td><td>&quot;astropy/io/fits/diff.py&quot;</td><td>&quot;--- a/astropy/io/fits/diff.py\n",
       "+++ b/astropy/io/fits/diff.py\n",
       "@@ -727,6 +727,9 @@\n",
       "             if not …</td><td>false</td></tr><tr><td>&quot;20231010_rag_claude2&quot;</td><td>&quot;sympy__sympy-16450&quot;</td><td>&quot;sympy/assumptions/posify.py&quot;</td><td>&quot;--- a/sympy/assumptions/posify.py\n",
       "+++ b/sympy/assumptions/posify.py\n",
       "@@ -14,6 +14,7 @@ def posify(x):…</td><td>false</td></tr><tr><td>&hellip;</td><td>&hellip;</td><td>&hellip;</td><td>&hellip;</td><td>&hellip;</td></tr><tr><td>&quot;20240824_gru&quot;</td><td>&quot;sympy__sympy-21612&quot;</td><td>&quot;sympy/parsing/latex/_parse_latex_antlr.py&quot;</td><td>&quot;diff --git a/sympy/parsing/latex/_parse_latex_antlr.py b/sympy/parsing/latex/_parse_latex_antlr.py\n",
       "i…</td><td>false</td></tr><tr><td>&quot;20240824_gru&quot;</td><td>&quot;sympy__sympy-22080&quot;</td><td>&quot;sympy/plotting/experimental_lambdify.py&quot;</td><td>&quot;diff --git a/sympy/plotting/experimental_lambdify.py b/sympy/plotting/experimental_lambdify.py\n",
       "index…</td><td>false</td></tr><tr><td>&quot;20240824_gru&quot;</td><td>&quot;sympy__sympy-23413&quot;</td><td>&quot;sympy/polys/matrices/normalforms.py&quot;</td><td>&quot;diff --git a/sympy/polys/matrices/normalforms.py b/sympy/polys/matrices/normalforms.py\n",
       "index 30f5534…</td><td>false</td></tr><tr><td>&quot;20240824_gru&quot;</td><td>&quot;sympy__sympy-20801&quot;</td><td>&quot;sympy/core/numbers.py&quot;</td><td>&quot;diff --git a/sympy/core/numbers.py b/sympy/core/numbers.py\n",
       "index 79f6a7d165..b56037b96c 100644\n",
       "--- a…</td><td>false</td></tr><tr><td>&quot;20240824_gru&quot;</td><td>&quot;sympy__sympy-23534&quot;</td><td>&quot;sympy/core/symbol.py&quot;</td><td>&quot;diff --git a/sympy/core/symbol.py b/sympy/core/symbol.py\n",
       "index f4a555c13f..64c00c4779 100644\n",
       "--- a/s…</td><td>false</td></tr></tbody></table></div>"
      ],
      "text/plain": [
       "shape: (10_255, 5)\n",
       "┌─────────────────────┬─────────────────────┬─────────────────────┬─────────────────────┬──────────┐\n",
       "│ model_name_or_path  ┆ instance_id         ┆ file_changed        ┆ model_patch         ┆ resolved │\n",
       "│ ---                 ┆ ---                 ┆ ---                 ┆ ---                 ┆ ---      │\n",
       "│ str                 ┆ str                 ┆ str                 ┆ str                 ┆ bool     │\n",
       "╞═════════════════════╪═════════════════════╪═════════════════════╪═════════════════════╪══════════╡\n",
       "│ 20231010_rag_claude ┆ sympy__sympy-12419  ┆ sympy/matrices/expr ┆ Here is a patch     ┆ false    │\n",
       "│ 2                   ┆                     ┆ essions/matexpr.py  ┆ file that fixes the ┆          │\n",
       "│                     ┆                     ┆                     ┆ issue of the sum of ┆          │\n",
       "│                     ┆                     ┆                     ┆ an identity matrix  ┆          │\n",
       "│                     ┆                     ┆                     ┆ being 0 instead of  ┆          │\n",
       "│                     ┆                     ┆                     ┆ n:                  ┆          │\n",
       "│                     ┆                     ┆                     ┆                     ┆          │\n",
       "│                     ┆                     ┆                     ┆ `…                  ┆          │\n",
       "│ 20231010_rag_claude ┆ sympy__sympy-18698  ┆ sympy/polys/polytoo ┆ --- a/sympy/polys/p ┆ false    │\n",
       "│ 2                   ┆                     ┆ ls.py               ┆ olytools.py         ┆          │\n",
       "│                     ┆                     ┆                     ┆ +++ b/sympy/polys/p ┆          │\n",
       "│                     ┆                     ┆                     ┆ olytools.py         ┆          │\n",
       "│                     ┆                     ┆                     ┆ @@ -1537,7 +1537,7  ┆          │\n",
       "│                     ┆                     ┆                     ┆ @@                  ┆          │\n",
       "│                     ┆                     ┆                     ┆          if self…   ┆          │\n",
       "│ 20231010_rag_claude ┆ sympy__sympy-15599  ┆ sympy/core/mod.py   ┆ ---                 ┆ false    │\n",
       "│ 2                   ┆                     ┆                     ┆ a/sympy/core/mod.py ┆          │\n",
       "│                     ┆                     ┆                     ┆ +++                 ┆          │\n",
       "│                     ┆                     ┆                     ┆ b/sympy/core/mod.py ┆          │\n",
       "│                     ┆                     ┆                     ┆ @@ -114,6 +114,11   ┆          │\n",
       "│                     ┆                     ┆                     ┆ @@                  ┆          │\n",
       "│                     ┆                     ┆                     ┆ both_l[isinsta…     ┆          │\n",
       "│ 20231010_rag_claude ┆ astropy__astropy-14 ┆ astropy/io/fits/dif ┆ --- a/astropy/io/fi ┆ false    │\n",
       "│ 2                   ┆ 539                 ┆ f.py                ┆ ts/diff.py          ┆          │\n",
       "│                     ┆                     ┆                     ┆ +++ b/astropy/io/fi ┆          │\n",
       "│                     ┆                     ┆                     ┆ ts/diff.py          ┆          │\n",
       "│                     ┆                     ┆                     ┆ @@ -727,6 +727,9 @@ ┆          │\n",
       "│                     ┆                     ┆                     ┆ if not …            ┆          │\n",
       "│ 20231010_rag_claude ┆ sympy__sympy-16450  ┆ sympy/assumptions/p ┆ --- a/sympy/assumpt ┆ false    │\n",
       "│ 2                   ┆                     ┆ osify.py            ┆ ions/posify.py      ┆          │\n",
       "│                     ┆                     ┆                     ┆ +++ b/sympy/assumpt ┆          │\n",
       "│                     ┆                     ┆                     ┆ ions/posify.py      ┆          │\n",
       "│                     ┆                     ┆                     ┆ @@ -14,6 +14,7 @@   ┆          │\n",
       "│                     ┆                     ┆                     ┆ def posify(x):…     ┆          │\n",
       "│ …                   ┆ …                   ┆ …                   ┆ …                   ┆ …        │\n",
       "│ 20240824_gru        ┆ sympy__sympy-21612  ┆ sympy/parsing/latex ┆ diff --git a/sympy/ ┆ false    │\n",
       "│                     ┆                     ┆ /_parse_latex_antlr ┆ parsing/latex/_pars ┆          │\n",
       "│                     ┆                     ┆ .py                 ┆ e_latex_antlr.py    ┆          │\n",
       "│                     ┆                     ┆                     ┆ b/sympy/parsing/lat ┆          │\n",
       "│                     ┆                     ┆                     ┆ ex/_parse_latex_ant ┆          │\n",
       "│                     ┆                     ┆                     ┆ lr.py               ┆          │\n",
       "│                     ┆                     ┆                     ┆ i…                  ┆          │\n",
       "│ 20240824_gru        ┆ sympy__sympy-22080  ┆ sympy/plotting/expe ┆ diff --git a/sympy/ ┆ false    │\n",
       "│                     ┆                     ┆ rimental_lambdify.p ┆ plotting/experiment ┆          │\n",
       "│                     ┆                     ┆ y                   ┆ al_lambdify.py b/sy ┆          │\n",
       "│                     ┆                     ┆                     ┆ mpy/plotting/experi ┆          │\n",
       "│                     ┆                     ┆                     ┆ mental_lambdify.py  ┆          │\n",
       "│                     ┆                     ┆                     ┆ index…              ┆          │\n",
       "│ 20240824_gru        ┆ sympy__sympy-23413  ┆ sympy/polys/matrice ┆ diff --git a/sympy/ ┆ false    │\n",
       "│                     ┆                     ┆ s/normalforms.py    ┆ polys/matrices/norm ┆          │\n",
       "│                     ┆                     ┆                     ┆ alforms.py b/sympy/ ┆          │\n",
       "│                     ┆                     ┆                     ┆ polys/matrices/norm ┆          │\n",
       "│                     ┆                     ┆                     ┆ alforms.py          ┆          │\n",
       "│                     ┆                     ┆                     ┆ index 30f5534…      ┆          │\n",
       "│ 20240824_gru        ┆ sympy__sympy-20801  ┆ sympy/core/numbers. ┆ diff --git a/sympy/ ┆ false    │\n",
       "│                     ┆                     ┆ py                  ┆ core/numbers.py b/s ┆          │\n",
       "│                     ┆                     ┆                     ┆ ympy/core/numbers.p ┆          │\n",
       "│                     ┆                     ┆                     ┆ y                   ┆          │\n",
       "│                     ┆                     ┆                     ┆ index 79f6a7d165..b ┆          │\n",
       "│                     ┆                     ┆                     ┆ 56037b96c 100644    ┆          │\n",
       "│                     ┆                     ┆                     ┆ --- a…              ┆          │\n",
       "│ 20240824_gru        ┆ sympy__sympy-23534  ┆ sympy/core/symbol.p ┆ diff --git a/sympy/ ┆ false    │\n",
       "│                     ┆                     ┆ y                   ┆ core/symbol.py b/sy ┆          │\n",
       "│                     ┆                     ┆                     ┆ mpy/core/symbol.py  ┆          │\n",
       "│                     ┆                     ┆                     ┆ index f4a555c13f..6 ┆          │\n",
       "│                     ┆                     ┆                     ┆ 4c00c4779 100644    ┆          │\n",
       "│                     ┆                     ┆                     ┆ --- a/s…            ┆          │\n",
       "└─────────────────────┴─────────────────────┴─────────────────────┴─────────────────────┴──────────┘"
      ]
     },
     "execution_count": 40,
     "metadata": {},
     "output_type": "execute_result"
    }
   ],
   "source": [
    "verified_df = process_experiments(verified_experiments, verified_dir)\n",
    "verified_df"
   ]
  },
  {
   "cell_type": "code",
   "execution_count": 41,
   "metadata": {},
   "outputs": [
    {
     "name": "stdout",
     "output_type": "stream",
     "text": [
      "Overall Statistics:\n",
      "Number of instances where 'file_changed' == 'true_patch_file': 4513\n",
      "Total number of instances: 8512\n",
      "Percentage of matches: 53.02%\n",
      "\n",
      "Resolved Instances:\n",
      "Number of instances where 'file_changed' == 'true_patch_file': 1625\n",
      "Total number of instances: 1784\n",
      "Percentage of matches: 91.09%\n",
      "\n",
      "Not Resolved Instances:\n",
      "Number of instances where 'file_changed' == 'true_patch_file': 2888\n",
      "Total number of instances: 6728\n",
      "Percentage of matches: 42.93%\n",
      "\n",
      "Model Statistics by Resolved Status:\n",
      "shape: (17, 5)\n",
      "┌───────────────────────────────┬──────────┬─────────────────┬────────────────┬────────────────────┐\n",
      "│ model_name_or_path            ┆ resolved ┆ total_instances ┆ num_same_files ┆ percentage_matches │\n",
      "│ ---                           ┆ ---      ┆ ---             ┆ ---            ┆ ---                │\n",
      "│ str                           ┆ bool     ┆ u32             ┆ u32            ┆ f64                │\n",
      "╞═══════════════════════════════╪══════════╪═════════════════╪════════════════╪════════════════════╡\n",
      "│ 20231010_rag_swellama7b       ┆ false    ┆ 489             ┆ 70             ┆ 14.314928          │\n",
      "│ 20231010_rag_swellama13b      ┆ false    ┆ 475             ┆ 68             ┆ 14.315789          │\n",
      "│ 20240402_sweagent_claude3opus ┆ false    ┆ 493             ┆ 145            ┆ 29.411765          │\n",
      "│ 20231010_rag_gpt35            ┆ false    ┆ 498             ┆ 163            ┆ 32.730924          │\n",
      "│ 20240402_sweagent_gpt4        ┆ false    ┆ 390             ┆ 132            ┆ 33.846154          │\n",
      "│ …                             ┆ …        ┆ …               ┆ …              ┆ …                  │\n",
      "│ 20240721_amazon-q-developer-a ┆ false    ┆ 306             ┆ 180            ┆ 58.823529          │\n",
      "│ gent-20240719-dev             ┆          ┆                 ┆                ┆                    │\n",
      "│ 20240509_amazon-q-developer-a ┆ false    ┆ 372             ┆ 220            ┆ 59.139785          │\n",
      "│ gent-20240430-dev             ┆          ┆                 ┆                ┆                    │\n",
      "│ 20240820_epam-ai-run-gpt-4o   ┆ false    ┆ 380             ┆ 226            ┆ 59.473684          │\n",
      "│ 20240628_autocoderover-v20240 ┆ false    ┆ 300             ┆ 183            ┆ 61.0               │\n",
      "│ 620                           ┆          ┆                 ┆                ┆                    │\n",
      "│ 20240617_factory_code_droid   ┆ false    ┆ 315             ┆ 201            ┆ 63.809524          │\n",
      "└───────────────────────────────┴──────────┴─────────────────┴────────────────┴────────────────────┘\n"
     ]
    }
   ],
   "source": [
    "swe_bench_verified_df = swe_bench_verified_df.with_columns(\n",
    "    pl.col('patch').str.extract(pattern, 1).alias('true_patch_file')\n",
    ")\n",
    "swe_df_verified = swe_bench_verified_df.select(['instance_id', 'true_patch_file'])\n",
    "\n",
    "verified_merged_df, verified_model_stats = analyze_bench(verified_df, swe_df_verified)"
   ]
  },
  {
   "cell_type": "code",
   "execution_count": 44,
   "metadata": {},
   "outputs": [
    {
     "data": {
      "text/plain": [
       "polars.config.Config"
      ]
     },
     "execution_count": 44,
     "metadata": {},
     "output_type": "execute_result"
    }
   ],
   "source": [
    "pl.Config.set_tbl_rows(100)"
   ]
  },
  {
   "cell_type": "code",
   "execution_count": 49,
   "metadata": {},
   "outputs": [
    {
     "data": {
      "text/html": [
       "<div><style>\n",
       ".dataframe > thead > tr,\n",
       ".dataframe > tbody > tr {\n",
       "  text-align: right;\n",
       "  white-space: pre-wrap;\n",
       "}\n",
       "</style>\n",
       "<small>shape: (17, 5)</small><table border=\"1\" class=\"dataframe\"><thead><tr><th>model_name_or_path</th><th>resolved</th><th>total_instances</th><th>num_same_files</th><th>percentage_matches</th></tr><tr><td>str</td><td>bool</td><td>u32</td><td>u32</td><td>f64</td></tr></thead><tbody><tr><td>&quot;20231010_rag_swellama7b&quot;</td><td>false</td><td>489</td><td>70</td><td>14.314928</td></tr><tr><td>&quot;20231010_rag_swellama13b&quot;</td><td>false</td><td>475</td><td>68</td><td>14.315789</td></tr><tr><td>&quot;20240402_sweagent_claude3opus&quot;</td><td>false</td><td>493</td><td>145</td><td>29.411765</td></tr><tr><td>&quot;20231010_rag_gpt35&quot;</td><td>false</td><td>498</td><td>163</td><td>32.730924</td></tr><tr><td>&quot;20240402_sweagent_gpt4&quot;</td><td>false</td><td>390</td><td>132</td><td>33.846154</td></tr><tr><td>&quot;20240728_sweagent_gpt4o&quot;</td><td>false</td><td>349</td><td>131</td><td>37.535817</td></tr><tr><td>&quot;20240615_appmap-navie_gpt4o&quot;</td><td>false</td><td>368</td><td>173</td><td>47.01087</td></tr><tr><td>&quot;20240402_rag_gpt4&quot;</td><td>false</td><td>486</td><td>229</td><td>47.119342</td></tr><tr><td>&quot;20231010_rag_claude2&quot;</td><td>false</td><td>478</td><td>234</td><td>48.953975</td></tr><tr><td>&quot;20240820_honeycomb&quot;</td><td>false</td><td>290</td><td>145</td><td>50.0</td></tr><tr><td>&quot;20240402_rag_claude3opus&quot;</td><td>false</td><td>465</td><td>236</td><td>50.752688</td></tr><tr><td>&quot;20240824_gru&quot;</td><td>false</td><td>274</td><td>152</td><td>55.474453</td></tr><tr><td>&quot;20240721_amazon-q-developer-agent-20240719-dev&quot;</td><td>false</td><td>306</td><td>180</td><td>58.823529</td></tr><tr><td>&quot;20240509_amazon-q-developer-agent-20240430-dev&quot;</td><td>false</td><td>372</td><td>220</td><td>59.139785</td></tr><tr><td>&quot;20240820_epam-ai-run-gpt-4o&quot;</td><td>false</td><td>380</td><td>226</td><td>59.473684</td></tr><tr><td>&quot;20240628_autocoderover-v20240620&quot;</td><td>false</td><td>300</td><td>183</td><td>61.0</td></tr><tr><td>&quot;20240617_factory_code_droid&quot;</td><td>false</td><td>315</td><td>201</td><td>63.809524</td></tr></tbody></table></div>"
      ],
      "text/plain": [
       "shape: (17, 5)\n",
       "┌───────────────────────────────┬──────────┬─────────────────┬────────────────┬────────────────────┐\n",
       "│ model_name_or_path            ┆ resolved ┆ total_instances ┆ num_same_files ┆ percentage_matches │\n",
       "│ ---                           ┆ ---      ┆ ---             ┆ ---            ┆ ---                │\n",
       "│ str                           ┆ bool     ┆ u32             ┆ u32            ┆ f64                │\n",
       "╞═══════════════════════════════╪══════════╪═════════════════╪════════════════╪════════════════════╡\n",
       "│ 20231010_rag_swellama7b       ┆ false    ┆ 489             ┆ 70             ┆ 14.314928          │\n",
       "│ 20231010_rag_swellama13b      ┆ false    ┆ 475             ┆ 68             ┆ 14.315789          │\n",
       "│ 20240402_sweagent_claude3opus ┆ false    ┆ 493             ┆ 145            ┆ 29.411765          │\n",
       "│ 20231010_rag_gpt35            ┆ false    ┆ 498             ┆ 163            ┆ 32.730924          │\n",
       "│ 20240402_sweagent_gpt4        ┆ false    ┆ 390             ┆ 132            ┆ 33.846154          │\n",
       "│ 20240728_sweagent_gpt4o       ┆ false    ┆ 349             ┆ 131            ┆ 37.535817          │\n",
       "│ 20240615_appmap-navie_gpt4o   ┆ false    ┆ 368             ┆ 173            ┆ 47.01087           │\n",
       "│ 20240402_rag_gpt4             ┆ false    ┆ 486             ┆ 229            ┆ 47.119342          │\n",
       "│ 20231010_rag_claude2          ┆ false    ┆ 478             ┆ 234            ┆ 48.953975          │\n",
       "│ 20240820_honeycomb            ┆ false    ┆ 290             ┆ 145            ┆ 50.0               │\n",
       "│ 20240402_rag_claude3opus      ┆ false    ┆ 465             ┆ 236            ┆ 50.752688          │\n",
       "│ 20240824_gru                  ┆ false    ┆ 274             ┆ 152            ┆ 55.474453          │\n",
       "│ 20240721_amazon-q-developer-a ┆ false    ┆ 306             ┆ 180            ┆ 58.823529          │\n",
       "│ gent-20240719-dev             ┆          ┆                 ┆                ┆                    │\n",
       "│ 20240509_amazon-q-developer-a ┆ false    ┆ 372             ┆ 220            ┆ 59.139785          │\n",
       "│ gent-20240430-dev             ┆          ┆                 ┆                ┆                    │\n",
       "│ 20240820_epam-ai-run-gpt-4o   ┆ false    ┆ 380             ┆ 226            ┆ 59.473684          │\n",
       "│ 20240628_autocoderover-v20240 ┆ false    ┆ 300             ┆ 183            ┆ 61.0               │\n",
       "│ 620                           ┆          ┆                 ┆                ┆                    │\n",
       "│ 20240617_factory_code_droid   ┆ false    ┆ 315             ┆ 201            ┆ 63.809524          │\n",
       "└───────────────────────────────┴──────────┴─────────────────┴────────────────┴────────────────────┘"
      ]
     },
     "execution_count": 49,
     "metadata": {},
     "output_type": "execute_result"
    }
   ],
   "source": [
    "verified_model_stats.filter(pl.col('resolved') == False).sort('percentage_matches')"
   ]
  },
  {
   "cell_type": "code",
   "execution_count": null,
   "metadata": {},
   "outputs": [],
   "source": []
  }
 ],
 "metadata": {
  "kernelspec": {
   "display_name": "venv",
   "language": "python",
   "name": "python3"
  },
  "language_info": {
   "codemirror_mode": {
    "name": "ipython",
    "version": 3
   },
   "file_extension": ".py",
   "mimetype": "text/x-python",
   "name": "python",
   "nbconvert_exporter": "python",
   "pygments_lexer": "ipython3",
   "version": "3.11.5"
  }
 },
 "nbformat": 4,
 "nbformat_minor": 2
}
