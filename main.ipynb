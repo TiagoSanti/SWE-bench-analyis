{
 "cells": [
  {
   "cell_type": "code",
   "execution_count": 187,
   "metadata": {},
   "outputs": [],
   "source": [
    "import polars as pl\n",
    "import pandas as pd\n",
    "import json\n",
    "import os\n",
    "import re"
   ]
  },
  {
   "cell_type": "code",
   "execution_count": 188,
   "metadata": {},
   "outputs": [],
   "source": [
    "def read_jsonl_file_line_by_line(file_path):\n",
    "    data = []\n",
    "    try:\n",
    "        with open(file_path, 'r', encoding='utf-8') as f:\n",
    "            for line in f:\n",
    "                try:\n",
    "                    data.append(json.loads(line))\n",
    "                except json.JSONDecodeError as e:\n",
    "                    print(f\"JSON decode error in {file_path}: {e}\")\n",
    "        return data\n",
    "    except Exception as e:\n",
    "        print(f\"Error opening {file_path}: {e}\")\n",
    "        return None"
   ]
  },
  {
   "cell_type": "code",
   "execution_count": 189,
   "metadata": {},
   "outputs": [],
   "source": [
    "pattern = r'diff --git a/.+? b/(.+)'"
   ]
  },
  {
   "cell_type": "code",
   "execution_count": 190,
   "metadata": {},
   "outputs": [],
   "source": [
    "def process_experiments(experiments, base_dir):\n",
    "    all_preds = {}\n",
    "    for exp in experiments:\n",
    "        file_path = os.path.join(base_dir, exp, 'all_preds.jsonl')\n",
    "        df_data = read_jsonl_file_line_by_line(file_path)\n",
    "        \n",
    "        if df_data is not None:\n",
    "            df = pl.DataFrame(df_data)\n",
    "            \n",
    "            if 'model_patch' in df.columns:\n",
    "                df = df.with_columns(\n",
    "                    pl.col('model_patch').str.extract(pattern, 1).alias('file_changed')\n",
    "                )\n",
    "            \n",
    "            df = df.select(['model_name_or_path', 'instance_id', 'file_changed', 'model_patch'])\n",
    "            all_preds[exp] = df\n",
    "\n",
    "    combined_df = pl.concat(list(all_preds.values()))\n",
    "    combined_df = combined_df.filter(pl.col('file_changed').is_not_null())\n",
    "    return combined_df"
   ]
  },
  {
   "cell_type": "code",
   "execution_count": 191,
   "metadata": {},
   "outputs": [],
   "source": [
    "def analyze_bench(bench_df, swe_df_small):\n",
    "    merged_df = bench_df.join(swe_df_small, on='instance_id', how='inner')\n",
    "    \n",
    "    merged_df = merged_df.with_columns(\n",
    "        (pl.col('file_changed') == pl.col('true_patch_file')).alias('is_same_file')\n",
    "    )\n",
    "    \n",
    "    num_same_files = merged_df['is_same_file'].sum()\n",
    "    total_instances = merged_df.shape[0]\n",
    "    percentage = (num_same_files / total_instances) * 100 if total_instances > 0 else 0\n",
    "    \n",
    "    print(f\"Number of instances where 'file_changed' == 'true_patch_file': {num_same_files}\")\n",
    "    print(f\"Total number of instances: {total_instances}\")\n",
    "    print(f\"Percentage of matches: {percentage:.2f}%\")\n",
    "    \n",
    "    model_stats = merged_df.group_by('model_name_or_path').agg([\n",
    "        pl.len().alias('total_instances'),\n",
    "        pl.col('is_same_file').sum().alias('num_same_files'),\n",
    "        (pl.col('is_same_file').sum() / pl.len() * 100).alias('percentage_matches')\n",
    "    ])\n",
    "    \n",
    "    print(model_stats)\n",
    "    return merged_df, model_stats"
   ]
  },
  {
   "cell_type": "code",
   "execution_count": 192,
   "metadata": {},
   "outputs": [],
   "source": [
    "swe_df = pl.read_parquet('hf://datasets/princeton-nlp/SWE-bench/data/test-00000-of-00001.parquet')\n",
    "swe_bench_lite_df = pl.read_parquet('hf://datasets/princeton-nlp/SWE-bench_Lite/data/test-00000-of-00001.parquet')"
   ]
  },
  {
   "cell_type": "markdown",
   "metadata": {},
   "source": [
    "# Lite bench\n",
    "\n",
    "## Experiments (6 best)\n",
    "\n",
    "- 20240702_codestory_aide_mixed\n",
    "- 20240820_honeycomb\n",
    "- 20240627_abanteai_mentatbot_gpt4o\n",
    "- 20240811_gru\n",
    "- 20240829_Isoform\n",
    "- 20240806_SuperCoder2"
   ]
  },
  {
   "cell_type": "code",
   "execution_count": 193,
   "metadata": {},
   "outputs": [],
   "source": [
    "lite_experiments = [\n",
    "    '20240702_codestory_aide_mixed',\n",
    "    '20240820_honeycomb',\n",
    "    '20240627_abanteai_mentatbot_gpt4o',\n",
    "    '20240811_gru',\n",
    "    '20240829_Isoform',\n",
    "    '20240806_SuperCoder2.0',\n",
    "]\n",
    "\n",
    "lite_dir = './experiments/evaluation/lite/'\n",
    "\n",
    "lite_bench_df = process_experiments(lite_experiments, lite_dir)"
   ]
  },
  {
   "cell_type": "code",
   "execution_count": 194,
   "metadata": {},
   "outputs": [
    {
     "name": "stdout",
     "output_type": "stream",
     "text": [
      "Number of instances where 'file_changed' == 'true_patch_file': 1196\n",
      "Total number of instances: 1699\n",
      "Percentage of matches: 70.39%\n",
      "shape: (6, 4)\n",
      "┌─────────────────────────┬─────────────────┬────────────────┬────────────────────┐\n",
      "│ model_name_or_path      ┆ total_instances ┆ num_same_files ┆ percentage_matches │\n",
      "│ ---                     ┆ ---             ┆ ---            ┆ ---                │\n",
      "│ str                     ┆ u32             ┆ u32            ┆ f64                │\n",
      "╞═════════════════════════╪═════════════════╪════════════════╪════════════════════╡\n",
      "│ Demo                    ┆ 296             ┆ 187            ┆ 63.175676          │\n",
      "│ isoform                 ┆ 297             ┆ 213            ┆ 71.717172          │\n",
      "│ codestory-mixed         ┆ 273             ┆ 206            ┆ 75.457875          │\n",
      "│ SuperCoder2.0           ┆ 276             ┆ 197            ┆ 71.376812          │\n",
      "│ 20240811_babelcloud_gru ┆ 299             ┆ 213            ┆ 71.237458          │\n",
      "│ honeycomb               ┆ 258             ┆ 180            ┆ 69.767442          │\n",
      "└─────────────────────────┴─────────────────┴────────────────┴────────────────────┘\n"
     ]
    }
   ],
   "source": [
    "swe_bench_lite_df = swe_bench_lite_df.with_columns(\n",
    "    pl.col('patch').str.extract(pattern, 1).alias('true_patch_file')\n",
    ")\n",
    "swe_df_small = swe_bench_lite_df.select(['instance_id', 'true_patch_file'])\n",
    "\n",
    "lite_merged_df, lite_model_stats = analyze_bench(lite_bench_df, swe_df_small)"
   ]
  },
  {
   "cell_type": "markdown",
   "metadata": {},
   "source": [
    "# Full bench\n",
    "\n",
    "## Experiments (5 best)\n",
    "\n",
    "- 20240820_honeycomb\n",
    "- 20240509_amazon-q-developer-agent-20240430-dev\n",
    "- 20240617_factory_code_droid\n",
    "- 20240628_autocoderover-v20240620\n",
    "- 20240620_sweagent_claude3.5sonnet"
   ]
  },
  {
   "cell_type": "code",
   "execution_count": 195,
   "metadata": {},
   "outputs": [],
   "source": [
    "full_experiments = [\n",
    "    '20240820_honeycomb',\n",
    "    '20240509_amazon-q-developer-agent-20240430-dev',\n",
    "    '20240617_factory_code_droid',\n",
    "    '20240628_autocoderover-v20240620',\n",
    "    '20240620_sweagent_claude3.5sonnet',\n",
    "]\n",
    "\n",
    "full_dir = './experiments/evaluation/test/'\n",
    "\n",
    "full_bench_df = process_experiments(full_experiments, full_dir)"
   ]
  },
  {
   "cell_type": "code",
   "execution_count": 196,
   "metadata": {},
   "outputs": [
    {
     "name": "stdout",
     "output_type": "stream",
     "text": [
      "Number of instances where 'file_changed' == 'true_patch_file': 5037\n",
      "Total number of instances: 8735\n",
      "Percentage of matches: 57.66%\n",
      "shape: (4, 4)\n",
      "┌─────────────────────────────────┬─────────────────┬────────────────┬────────────────────┐\n",
      "│ model_name_or_path              ┆ total_instances ┆ num_same_files ┆ percentage_matches │\n",
      "│ ---                             ┆ ---             ┆ ---            ┆ ---                │\n",
      "│ str                             ┆ u32             ┆ u32            ┆ f64                │\n",
      "╞═════════════════════════════════╪═════════════════╪════════════════╪════════════════════╡\n",
      "│ honeycomb                       ┆ 1969            ┆ 1219           ┆ 61.909599          │\n",
      "│ autocoderover-v20240620-gpt-4o… ┆ 2241            ┆ 1435           ┆ 64.033913          │\n",
      "│ 20240620_sweagent_claude3.5son… ┆ 2241            ┆ 855            ┆ 38.15261           │\n",
      "│ droid                           ┆ 2284            ┆ 1528           ┆ 66.900175          │\n",
      "└─────────────────────────────────┴─────────────────┴────────────────┴────────────────────┘\n"
     ]
    }
   ],
   "source": [
    "swe_df = swe_df.with_columns(\n",
    "    pl.col('patch').str.extract(pattern, 1).alias('true_patch_file')\n",
    ")\n",
    "swe_df_small = swe_df.select(['instance_id', 'true_patch_file'])\n",
    "\n",
    "full_merged_df, full_model_stats = analyze_bench(full_bench_df, swe_df_small)"
   ]
  }
 ],
 "metadata": {
  "kernelspec": {
   "display_name": "venv",
   "language": "python",
   "name": "python3"
  },
  "language_info": {
   "codemirror_mode": {
    "name": "ipython",
    "version": 3
   },
   "file_extension": ".py",
   "mimetype": "text/x-python",
   "name": "python",
   "nbconvert_exporter": "python",
   "pygments_lexer": "ipython3",
   "version": "3.11.5"
  }
 },
 "nbformat": 4,
 "nbformat_minor": 2
}
