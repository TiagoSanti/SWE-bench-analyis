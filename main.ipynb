{
 "cells": [
  {
   "cell_type": "code",
   "execution_count": 284,
   "metadata": {},
   "outputs": [],
   "source": [
    "import polars as pl\n",
    "import pandas as pd\n",
    "import json\n",
    "import os\n",
    "import re"
   ]
  },
  {
   "cell_type": "code",
   "execution_count": 285,
   "metadata": {},
   "outputs": [],
   "source": [
    "def read_jsonl_file_line_by_line(file_path):\n",
    "    data = []\n",
    "    try:\n",
    "        with open(file_path, 'r', encoding='utf-8') as f:\n",
    "            for line in f:\n",
    "                try:\n",
    "                    data.append(json.loads(line))\n",
    "                except json.JSONDecodeError as e:\n",
    "                    print(f\"JSON decode error in {file_path}: {e}\")\n",
    "        return data\n",
    "    except Exception as e:\n",
    "        print(f\"Error opening {file_path}: {e}\")\n",
    "        return None"
   ]
  },
  {
   "cell_type": "code",
   "execution_count": 286,
   "metadata": {},
   "outputs": [],
   "source": [
    "pattern = r'diff --git a/.+? b/(.+)'"
   ]
  },
  {
   "cell_type": "code",
   "execution_count": 287,
   "metadata": {},
   "outputs": [],
   "source": [
    "def process_experiments(experiments, base_dir):\n",
    "    all_preds = {}\n",
    "    pattern = r'(?:diff --git a/.+? b/|--- a/)(.+)'\n",
    "\n",
    "    for exp in experiments:\n",
    "        file_path = os.path.join(base_dir, exp, 'all_preds.jsonl')\n",
    "        results_file_path = os.path.join(base_dir, exp, 'results', 'results.json')\n",
    "        \n",
    "        # Read the 'resolved' list from results.json\n",
    "        try:\n",
    "            with open(results_file_path, 'r', encoding='utf-8') as f:\n",
    "                results_data = json.load(f)\n",
    "                resolved_list = results_data.get('resolved', [])\n",
    "        except Exception as e:\n",
    "            print(f\"Error reading results file for experiment {exp}: {e}\")\n",
    "            resolved_list = []\n",
    "\n",
    "        df_data = read_jsonl_file_line_by_line(file_path)\n",
    "        \n",
    "        if df_data is not None:\n",
    "            df = pl.DataFrame(df_data)\n",
    "\n",
    "            # Replace 'model_name_or_path' content with 'exp'\n",
    "            df = df.with_columns(\n",
    "                pl.lit(exp).alias('model_name_or_path')\n",
    "            )\n",
    "\n",
    "            if 'model_patch' in df.columns:\n",
    "                # Use the corrected group index 1\n",
    "                df = df.with_columns(\n",
    "                    pl.col('model_patch').str.extract(pattern, 1).alias('file_changed')\n",
    "                )\n",
    "            \n",
    "            # Add 'resolved' boolean column\n",
    "            df = df.with_columns(\n",
    "                pl.col('instance_id').is_in(resolved_list).alias('resolved')\n",
    "            )\n",
    "            \n",
    "            df = df.select(['model_name_or_path', 'instance_id', 'file_changed', 'model_patch', 'resolved'])\n",
    "            all_preds[exp] = df\n",
    "\n",
    "    combined_df = pl.concat(list(all_preds.values()))\n",
    "    return combined_df"
   ]
  },
  {
   "cell_type": "code",
   "execution_count": 288,
   "metadata": {},
   "outputs": [],
   "source": [
    "def analyze_bench(bench_df, swe_df_small):\n",
    "    merged_df = bench_df.join(swe_df_small, on='instance_id', how='inner')\n",
    "\n",
    "    merged_df = merged_df.with_columns([\n",
    "        pl.col('file_changed').str.strip_chars().str.replace_all(r'\\\\', '/').alias('file_changed_norm'),\n",
    "        pl.col('true_patch_file').str.strip_chars().str.replace_all(r'\\\\', '/').alias('true_patch_file_norm')\n",
    "    ])\n",
    "\n",
    "    merged_df = merged_df.with_columns(\n",
    "        (pl.col('file_changed_norm') == pl.col('true_patch_file_norm')).alias('is_same_file')\n",
    "    )\n",
    "\n",
    "    num_same_files = merged_df['is_same_file'].sum()\n",
    "    total_instances = merged_df.shape[0]\n",
    "    percentage = (num_same_files / total_instances) * 100 if total_instances > 0 else 0\n",
    "\n",
    "    print(f\"Overall Statistics:\")\n",
    "    print(f\"Number of instances where 'file_changed' == 'true_patch_file': {num_same_files}\")\n",
    "    print(f\"Total number of instances: {total_instances}\")\n",
    "    print(f\"Percentage of matches: {percentage:.2f}%\\n\")\n",
    "\n",
    "    for resolved_status in [True, False]:\n",
    "        status_df = merged_df.filter(pl.col('resolved') == resolved_status)\n",
    "        num_same_files = status_df['is_same_file'].sum()\n",
    "        total_instances = status_df.shape[0]\n",
    "        percentage = (num_same_files / total_instances) * 100 if total_instances > 0 else 0\n",
    "\n",
    "        status = \"Resolved\" if resolved_status else \"Not Resolved\"\n",
    "        print(f\"{status} Instances:\")\n",
    "        print(f\"Number of instances where 'file_changed' == 'true_patch_file': {num_same_files}\")\n",
    "        print(f\"Total number of instances: {total_instances}\")\n",
    "        print(f\"Percentage of matches: {percentage:.2f}%\\n\")\n",
    "\n",
    "    model_stats = merged_df.group_by(['model_name_or_path', 'resolved']).agg([\n",
    "        pl.len().alias('total_instances'),\n",
    "        pl.col('is_same_file').sum().alias('num_same_files'),\n",
    "        (pl.col('is_same_file').sum() / pl.len() * 100).alias('percentage_matches')\n",
    "    ])\n",
    "\n",
    "    print(\"Model Statistics by Resolved Status:\")\n",
    "    print(model_stats.filter(pl.col('resolved') == False).sort('percentage_matches'))\n",
    "    return merged_df, model_stats\n"
   ]
  },
  {
   "cell_type": "code",
   "execution_count": 289,
   "metadata": {},
   "outputs": [],
   "source": [
    "swe_df = pl.read_parquet('hf://datasets/princeton-nlp/SWE-bench/data/test-00000-of-00001.parquet')\n",
    "swe_bench_lite_df = pl.read_parquet('hf://datasets/princeton-nlp/SWE-bench_Lite/data/test-00000-of-00001.parquet')"
   ]
  },
  {
   "cell_type": "markdown",
   "metadata": {},
   "source": [
    "# Lite bench\n",
    "\n",
    "## Experiments (6 best)\n",
    "\n",
    "- 20240702_codestory_aide_mixed\n",
    "- 20240820_honeycomb\n",
    "- 20240627_abanteai_mentatbot_gpt4o\n",
    "- 20240811_gru\n",
    "- 20240829_Isoform\n",
    "- 20240806_SuperCoder2"
   ]
  },
  {
   "cell_type": "code",
   "execution_count": 290,
   "metadata": {},
   "outputs": [
    {
     "data": {
      "text/html": [
       "<div><style>\n",
       ".dataframe > thead > tr,\n",
       ".dataframe > tbody > tr {\n",
       "  text-align: right;\n",
       "  white-space: pre-wrap;\n",
       "}\n",
       "</style>\n",
       "<small>shape: (3_736, 5)</small><table border=\"1\" class=\"dataframe\"><thead><tr><th>model_name_or_path</th><th>instance_id</th><th>file_changed</th><th>model_patch</th><th>resolved</th></tr><tr><td>str</td><td>str</td><td>str</td><td>str</td><td>bool</td></tr></thead><tbody><tr><td>&quot;20240702_codestory_aide_mixed&quot;</td><td>&quot;matplotlib__matplotlib-25433&quot;</td><td>&quot;lib/matplotlib/widgets.py&quot;</td><td>&quot;diff --git a/lib/matplotlib/wi…</td><td>false</td></tr><tr><td>&quot;20240702_codestory_aide_mixed&quot;</td><td>&quot;django__django-16820&quot;</td><td>&quot;django/db/migrations/autodetec…</td><td>&quot;diff --git a/django/db/migrati…</td><td>false</td></tr><tr><td>&quot;20240702_codestory_aide_mixed&quot;</td><td>&quot;django__django-15781&quot;</td><td>&quot;django/core/management/base.py&quot;</td><td>&quot;diff --git a/django/core/manag…</td><td>false</td></tr><tr><td>&quot;20240702_codestory_aide_mixed&quot;</td><td>&quot;sympy__sympy-18087&quot;</td><td>&quot;sympy/simplify/trigsimp.py&quot;</td><td>&quot;diff --git a/sympy/simplify/tr…</td><td>false</td></tr><tr><td>&quot;20240702_codestory_aide_mixed&quot;</td><td>&quot;pytest-dev__pytest-5495&quot;</td><td>&quot;src/_pytest/_code/code.py&quot;</td><td>&quot;diff --git a/src/_pytest/_code…</td><td>false</td></tr><tr><td>&hellip;</td><td>&hellip;</td><td>&hellip;</td><td>&hellip;</td><td>&hellip;</td></tr><tr><td>&quot;20240806_SuperCoder2.0&quot;</td><td>&quot;scikit-learn__scikit-learn-255…</td><td>&quot;sklearn/compose/_column_transf…</td><td>&quot;diff --git a/sklearn/compose/_…</td><td>false</td></tr><tr><td>&quot;20240806_SuperCoder2.0&quot;</td><td>&quot;sphinx-doc__sphinx-8801&quot;</td><td>&quot;sphinx/ext/autodoc/__init__.py&quot;</td><td>&quot;diff --git a/sphinx/ext/autodo…</td><td>false</td></tr><tr><td>&quot;20240806_SuperCoder2.0&quot;</td><td>&quot;sympy__sympy-14396&quot;</td><td>&quot;sympy/polys/polyoptions.py&quot;</td><td>&quot;diff --git a/sympy/polys/polyo…</td><td>false</td></tr><tr><td>&quot;20240806_SuperCoder2.0&quot;</td><td>&quot;django__django-11905&quot;</td><td>&quot;django/db/models/lookups.py&quot;</td><td>&quot;diff --git a/django/db/models/…</td><td>false</td></tr><tr><td>&quot;20240806_SuperCoder2.0&quot;</td><td>&quot;sympy__sympy-21627&quot;</td><td>&quot;sympy/functions/elementary/hyp…</td><td>&quot;diff --git a/sympy/functions/e…</td><td>false</td></tr></tbody></table></div>"
      ],
      "text/plain": [
       "shape: (3_736, 5)\n",
       "┌─────────────────────┬─────────────────────┬─────────────────────┬─────────────────────┬──────────┐\n",
       "│ model_name_or_path  ┆ instance_id         ┆ file_changed        ┆ model_patch         ┆ resolved │\n",
       "│ ---                 ┆ ---                 ┆ ---                 ┆ ---                 ┆ ---      │\n",
       "│ str                 ┆ str                 ┆ str                 ┆ str                 ┆ bool     │\n",
       "╞═════════════════════╪═════════════════════╪═════════════════════╪═════════════════════╪══════════╡\n",
       "│ 20240702_codestory_ ┆ matplotlib__matplot ┆ lib/matplotlib/widg ┆ diff --git a/lib/ma ┆ false    │\n",
       "│ aide_mixed          ┆ lib-25433           ┆ ets.py              ┆ tplotlib/wi…        ┆          │\n",
       "│ 20240702_codestory_ ┆ django__django-1682 ┆ django/db/migration ┆ diff --git a/django ┆ false    │\n",
       "│ aide_mixed          ┆ 0                   ┆ s/autodetec…        ┆ /db/migrati…        ┆          │\n",
       "│ 20240702_codestory_ ┆ django__django-1578 ┆ django/core/managem ┆ diff --git a/django ┆ false    │\n",
       "│ aide_mixed          ┆ 1                   ┆ ent/base.py         ┆ /core/manag…        ┆          │\n",
       "│ 20240702_codestory_ ┆ sympy__sympy-18087  ┆ sympy/simplify/trig ┆ diff --git a/sympy/ ┆ false    │\n",
       "│ aide_mixed          ┆                     ┆ simp.py             ┆ simplify/tr…        ┆          │\n",
       "│ 20240702_codestory_ ┆ pytest-dev__pytest- ┆ src/_pytest/_code/c ┆ diff --git a/src/_p ┆ false    │\n",
       "│ aide_mixed          ┆ 5495                ┆ ode.py              ┆ ytest/_code…        ┆          │\n",
       "│ …                   ┆ …                   ┆ …                   ┆ …                   ┆ …        │\n",
       "│ 20240806_SuperCoder ┆ scikit-learn__sciki ┆ sklearn/compose/_co ┆ diff --git a/sklear ┆ false    │\n",
       "│ 2.0                 ┆ t-learn-255…        ┆ lumn_transf…        ┆ n/compose/_…        ┆          │\n",
       "│ 20240806_SuperCoder ┆ sphinx-doc__sphinx- ┆ sphinx/ext/autodoc/ ┆ diff --git a/sphinx ┆ false    │\n",
       "│ 2.0                 ┆ 8801                ┆ __init__.py         ┆ /ext/autodo…        ┆          │\n",
       "│ 20240806_SuperCoder ┆ sympy__sympy-14396  ┆ sympy/polys/polyopt ┆ diff --git a/sympy/ ┆ false    │\n",
       "│ 2.0                 ┆                     ┆ ions.py             ┆ polys/polyo…        ┆          │\n",
       "│ 20240806_SuperCoder ┆ django__django-1190 ┆ django/db/models/lo ┆ diff --git a/django ┆ false    │\n",
       "│ 2.0                 ┆ 5                   ┆ okups.py            ┆ /db/models/…        ┆          │\n",
       "│ 20240806_SuperCoder ┆ sympy__sympy-21627  ┆ sympy/functions/ele ┆ diff --git a/sympy/ ┆ false    │\n",
       "│ 2.0                 ┆                     ┆ mentary/hyp…        ┆ functions/e…        ┆          │\n",
       "└─────────────────────┴─────────────────────┴─────────────────────┴─────────────────────┴──────────┘"
      ]
     },
     "execution_count": 290,
     "metadata": {},
     "output_type": "execute_result"
    }
   ],
   "source": [
    "lite_experiments = [\n",
    "    '20240702_codestory_aide_mixed',\n",
    "    '20240820_honeycomb',\n",
    "    '20240627_abanteai_mentatbot_gpt4o',\n",
    "    '20240811_gru',\n",
    "    '20240829_Isoform',\n",
    "    '20240806_SuperCoder2.0',\n",
    "]\n",
    "\n",
    "lite_dir = './experiments/evaluation/lite/'\n",
    "\n",
    "lite_bench_df = process_experiments(lite_experiments, lite_dir)\n",
    "lite_bench_df"
   ]
  },
  {
   "cell_type": "code",
   "execution_count": 291,
   "metadata": {},
   "outputs": [
    {
     "name": "stdout",
     "output_type": "stream",
     "text": [
      "Overall Statistics:\n",
      "Number of instances where 'file_changed' == 'true_patch_file': 1196\n",
      "Total number of instances: 1797\n",
      "Percentage of matches: 66.56%\n",
      "\n",
      "Resolved Instances:\n",
      "Number of instances where 'file_changed' == 'true_patch_file': 612\n",
      "Total number of instances: 672\n",
      "Percentage of matches: 91.07%\n",
      "\n",
      "Not Resolved Instances:\n",
      "Number of instances where 'file_changed' == 'true_patch_file': 584\n",
      "Total number of instances: 1125\n",
      "Percentage of matches: 51.91%\n",
      "\n",
      "Model Statistics by Resolved Status:\n",
      "shape: (6, 5)\n",
      "┌───────────────────────────────┬──────────┬─────────────────┬────────────────┬────────────────────┐\n",
      "│ model_name_or_path            ┆ resolved ┆ total_instances ┆ num_same_files ┆ percentage_matches │\n",
      "│ ---                           ┆ ---      ┆ ---             ┆ ---            ┆ ---                │\n",
      "│ str                           ┆ bool     ┆ u32             ┆ u32            ┆ f64                │\n",
      "╞═══════════════════════════════╪══════════╪═════════════════╪════════════════╪════════════════════╡\n",
      "│ 20240820_honeycomb            ┆ false    ┆ 182             ┆ 79             ┆ 43.406593          │\n",
      "│ 20240627_abanteai_mentatbot_g ┆ false    ┆ 186             ┆ 84             ┆ 45.16129           │\n",
      "│ p…                            ┆          ┆                 ┆                ┆                    │\n",
      "│ 20240806_SuperCoder2.0        ┆ false    ┆ 198             ┆ 100            ┆ 50.505051          │\n",
      "│ 20240702_codestory_aide_mixed ┆ false    ┆ 171             ┆ 89             ┆ 52.046784          │\n",
      "│ 20240811_gru                  ┆ false    ┆ 193             ┆ 115            ┆ 59.585492          │\n",
      "│ 20240829_Isoform              ┆ false    ┆ 195             ┆ 117            ┆ 60.0               │\n",
      "└───────────────────────────────┴──────────┴─────────────────┴────────────────┴────────────────────┘\n"
     ]
    }
   ],
   "source": [
    "swe_bench_lite_df = swe_bench_lite_df.with_columns(\n",
    "    pl.col('patch').str.extract(pattern, 1).alias('true_patch_file')\n",
    ")\n",
    "swe_df_small = swe_bench_lite_df.select(['instance_id', 'true_patch_file'])\n",
    "\n",
    "lite_merged_df, lite_model_stats = analyze_bench(lite_bench_df, swe_df_small)"
   ]
  },
  {
   "cell_type": "markdown",
   "metadata": {},
   "source": [
    "# Full bench\n",
    "\n",
    "## Experiments (5 best)\n",
    "\n",
    "- 20240820_honeycomb\n",
    "- 20240509_amazon-q-developer-agent-20240430-dev\n",
    "- 20240617_factory_code_droid\n",
    "- 20240628_autocoderover-v20240620\n",
    "- 20240620_sweagent_claude3.5sonnet"
   ]
  },
  {
   "cell_type": "code",
   "execution_count": 292,
   "metadata": {},
   "outputs": [],
   "source": [
    "full_experiments = [\n",
    "    '20240820_honeycomb',\n",
    "    '20240509_amazon-q-developer-agent-20240430-dev',\n",
    "    '20240617_factory_code_droid',\n",
    "    '20240628_autocoderover-v20240620',\n",
    "    '20240620_sweagent_claude3.5sonnet',\n",
    "]\n",
    "\n",
    "full_dir = './experiments/evaluation/test/'\n",
    "\n",
    "full_bench_df = process_experiments(full_experiments, full_dir)"
   ]
  },
  {
   "cell_type": "code",
   "execution_count": 293,
   "metadata": {},
   "outputs": [
    {
     "name": "stdout",
     "output_type": "stream",
     "text": [
      "Overall Statistics:\n",
      "Number of instances where 'file_changed' == 'true_patch_file': 6490\n",
      "Total number of instances: 11329\n",
      "Percentage of matches: 57.29%\n",
      "\n",
      "Resolved Instances:\n",
      "Number of instances where 'file_changed' == 'true_patch_file': 1765\n",
      "Total number of instances: 2113\n",
      "Percentage of matches: 83.53%\n",
      "\n",
      "Not Resolved Instances:\n",
      "Number of instances where 'file_changed' == 'true_patch_file': 4725\n",
      "Total number of instances: 9216\n",
      "Percentage of matches: 51.27%\n",
      "\n",
      "Model Statistics by Resolved Status:\n",
      "shape: (5, 5)\n",
      "┌───────────────────────────────┬──────────┬─────────────────┬────────────────┬────────────────────┐\n",
      "│ model_name_or_path            ┆ resolved ┆ total_instances ┆ num_same_files ┆ percentage_matches │\n",
      "│ ---                           ┆ ---      ┆ ---             ┆ ---            ┆ ---                │\n",
      "│ str                           ┆ bool     ┆ u32             ┆ u32            ┆ f64                │\n",
      "╞═══════════════════════════════╪══════════╪═════════════════╪════════════════╪════════════════════╡\n",
      "│ 20240620_sweagent_claude3.5so ┆ false    ┆ 1858            ┆ 600            ┆ 32.292788          │\n",
      "│ n…                            ┆          ┆                 ┆                ┆                    │\n",
      "│ 20240820_honeycomb            ┆ false    ┆ 1730            ┆ 801            ┆ 46.300578          │\n",
      "│ 20240628_autocoderover-v20240 ┆ false    ┆ 1809            ┆ 1044           ┆ 57.711443          │\n",
      "│ 6…                            ┆          ┆                 ┆                ┆                    │\n",
      "│ 20240509_amazon-q-developer-a ┆ false    ┆ 1977            ┆ 1165           ┆ 58.927668          │\n",
      "│ g…                            ┆          ┆                 ┆                ┆                    │\n",
      "│ 20240617_factory_code_droid   ┆ false    ┆ 1842            ┆ 1115           ┆ 60.53203           │\n",
      "└───────────────────────────────┴──────────┴─────────────────┴────────────────┴────────────────────┘\n"
     ]
    }
   ],
   "source": [
    "swe_df = swe_df.with_columns(\n",
    "    pl.col('patch').str.extract(pattern, 1).alias('true_patch_file')\n",
    ")\n",
    "swe_df_small = swe_df.select(['instance_id', 'true_patch_file'])\n",
    "\n",
    "full_merged_df, full_model_stats = analyze_bench(full_bench_df, swe_df_small)"
   ]
  }
 ],
 "metadata": {
  "kernelspec": {
   "display_name": "venv",
   "language": "python",
   "name": "python3"
  },
  "language_info": {
   "codemirror_mode": {
    "name": "ipython",
    "version": 3
   },
   "file_extension": ".py",
   "mimetype": "text/x-python",
   "name": "python",
   "nbconvert_exporter": "python",
   "pygments_lexer": "ipython3",
   "version": "3.11.5"
  }
 },
 "nbformat": 4,
 "nbformat_minor": 2
}
