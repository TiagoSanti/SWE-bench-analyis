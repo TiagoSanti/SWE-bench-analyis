{
 "cells": [
  {
   "cell_type": "code",
   "execution_count": 22,
   "metadata": {},
   "outputs": [],
   "source": [
    "import polars as pl\n",
    "import pandas as pd\n",
    "import json\n",
    "import os\n",
    "import re"
   ]
  },
  {
   "cell_type": "code",
   "execution_count": 23,
   "metadata": {},
   "outputs": [],
   "source": [
    "pattern = r'(?:diff --git a/.+? b/|--- a/)(.+)'"
   ]
  },
  {
   "cell_type": "code",
   "execution_count": 24,
   "metadata": {},
   "outputs": [],
   "source": [
    "def read_jsonl_file_line_by_line(file_path):\n",
    "    data = []\n",
    "    try:\n",
    "        with open(file_path, 'r', encoding='utf-8') as f:\n",
    "            for line in f:\n",
    "                try:\n",
    "                    data.append(json.loads(line))\n",
    "                except json.JSONDecodeError as e:\n",
    "                    print(f\"JSON decode error in {file_path}: {e}\")\n",
    "                    return None\n",
    "        return data\n",
    "    except Exception as e:\n",
    "        print(f\"Error opening {file_path}: {e}\")\n",
    "        return None"
   ]
  },
  {
   "cell_type": "code",
   "execution_count": 25,
   "metadata": {},
   "outputs": [],
   "source": [
    "def process_experiments(experiments, base_dir):\n",
    "    all_preds = {}\n",
    "\n",
    "    for exp in experiments:\n",
    "        file_path = os.path.join(base_dir, exp, 'all_preds.jsonl')\n",
    "        results_file_path = os.path.join(base_dir, exp, 'results', 'results.json')\n",
    "        \n",
    "        try:\n",
    "            if not os.path.exists(results_file_path):\n",
    "                print(f\"Results file for experiment {exp} does not exist\")\n",
    "                continue\n",
    "            \n",
    "            with open(results_file_path, 'r', encoding='utf-8') as f:\n",
    "                results_data = json.load(f)\n",
    "                resolved_list = results_data.get('resolved', [])\n",
    "        except Exception as e:\n",
    "            print(f\"Error reading results file for experiment {exp}: {e}\")\n",
    "            resolved_list = []\n",
    "\n",
    "        df_data = read_jsonl_file_line_by_line(file_path)\n",
    "        \n",
    "        if df_data is None:\n",
    "            print(f\"Error reading file {file_path} from experiment {exp}\")\n",
    "            continue\n",
    "\n",
    "        df = pl.DataFrame(df_data)\n",
    "\n",
    "        df = df.with_columns(\n",
    "            pl.lit(exp).alias('model_name_or_path')\n",
    "        )\n",
    "\n",
    "        if 'model_patch' in df.columns:\n",
    "            df = df.with_columns(\n",
    "                pl.col('model_patch').str.extract(pattern, 1).alias('file_changed')\n",
    "            )\n",
    "        \n",
    "        df = df.with_columns(\n",
    "            pl.col('instance_id').is_in(resolved_list).alias('resolved')\n",
    "        )\n",
    "        \n",
    "        df = df.select(['model_name_or_path', 'instance_id', 'file_changed', 'model_patch', 'resolved'])\n",
    "        all_preds[exp] = df\n",
    "\n",
    "    combined_df = pl.concat(list(all_preds.values()))\n",
    "    return combined_df"
   ]
  },
  {
   "cell_type": "code",
   "execution_count": 26,
   "metadata": {},
   "outputs": [],
   "source": [
    "def analyze_bench(bench_df, swe_df_small):\n",
    "    merged_df = bench_df.join(swe_df_small, on='instance_id', how='inner')\n",
    "\n",
    "    merged_df = merged_df.with_columns([\n",
    "        pl.col('file_changed').str.strip_chars().str.replace_all(r'\\\\', '/').alias('file_changed_norm'),\n",
    "        pl.col('true_patch_file').str.strip_chars().str.replace_all(r'\\\\', '/').alias('true_patch_file_norm')\n",
    "    ])\n",
    "\n",
    "    merged_df = merged_df.with_columns(\n",
    "        (pl.col('file_changed_norm') == pl.col('true_patch_file_norm')).alias('is_same_file')\n",
    "    )\n",
    "\n",
    "    num_same_files = merged_df['is_same_file'].sum()\n",
    "    total_instances = merged_df.shape[0]\n",
    "    percentage = (num_same_files / total_instances) * 100 if total_instances > 0 else 0\n",
    "\n",
    "    print(f\"Overall Statistics:\")\n",
    "    print(f\"Number of instances where 'file_changed' == 'true_patch_file': {num_same_files}\")\n",
    "    print(f\"Total number of instances: {total_instances}\")\n",
    "    print(f\"Percentage of matches: {percentage:.2f}%\\n\")\n",
    "\n",
    "    for resolved_status in [True, False]:\n",
    "        status_df = merged_df.filter(pl.col('resolved') == resolved_status)\n",
    "        num_same_files = status_df['is_same_file'].sum()\n",
    "        total_instances = status_df.shape[0]\n",
    "        percentage = (num_same_files / total_instances) * 100 if total_instances > 0 else 0\n",
    "\n",
    "        status = \"Resolved\" if resolved_status else \"Not Resolved\"\n",
    "        print(f\"{status} Instances:\")\n",
    "        print(f\"Number of instances where 'file_changed' == 'true_patch_file': {num_same_files}\")\n",
    "        print(f\"Total number of instances: {total_instances}\")\n",
    "        print(f\"Percentage of matches: {percentage:.2f}%\\n\")\n",
    "\n",
    "    model_stats = merged_df.group_by(['model_name_or_path', 'resolved']).agg([\n",
    "        pl.len().alias('total_instances'),\n",
    "        pl.col('is_same_file').sum().alias('num_same_files'),\n",
    "        (pl.col('is_same_file').sum() / pl.len() * 100).alias('percentage_matches')\n",
    "    ])\n",
    "\n",
    "    print(\"Model Statistics by Resolved Status:\")\n",
    "    print(model_stats.filter(pl.col('resolved') == False).sort('percentage_matches'))\n",
    "    return merged_df, model_stats\n"
   ]
  },
  {
   "cell_type": "code",
   "execution_count": 27,
   "metadata": {},
   "outputs": [],
   "source": [
    "swe_df = pl.read_parquet('hf://datasets/princeton-nlp/SWE-bench/data/test-00000-of-00001.parquet')\n",
    "swe_bench_lite_df = pl.read_parquet('hf://datasets/princeton-nlp/SWE-bench_Lite/data/test-00000-of-00001.parquet')\n",
    "swe_bench_verified_df = pl.read_parquet('hf://datasets/princeton-nlp/SWE-bench_Verified/data/test-00000-of-00001.parquet')"
   ]
  },
  {
   "cell_type": "markdown",
   "metadata": {},
   "source": [
    "# Lite bench"
   ]
  },
  {
   "cell_type": "code",
   "execution_count": 28,
   "metadata": {},
   "outputs": [
    {
     "name": "stdout",
     "output_type": "stream",
     "text": [
      "['20231010_rag_claude2', '20231010_rag_gpt35', '20231010_rag_swellama13b', '20231010_rag_swellama7b', '20240402_rag_claude3opus', '20240402_rag_gpt4', '20240402_sweagent_claude3opus', '20240402_sweagent_gpt4', '20240509_amazon-q-developer-agent-20240430-dev', '20240523_aider', '20240524_opencsg_starship_gpt4', '20240530_autocoderover-v20240408', '20240604_CodeR', '20240612_IBM_Research_Agent101', '20240612_MASAI_gpt4o', '20240615_appmap-navie_gpt4o', '20240617_factory_code_droid', '20240617_moatless_gpt4o', '20240620_sweagent_claude3.5sonnet', '20240621_autocoderover-v20240620', '20240622_Lingma_Agent', '20240623_moatless_claude35sonnet', '20240627_abanteai_mentatbot_gpt4o', '20240630_agentless_gpt4o', '20240702_codestory_aide_mixed', '20240706_sima_gpt4o', '20240721_amazon-q-developer-agent-20240719-dev', '20240723_marscode-agent-dev', '20240725_opendevin_codeact_v1.8_claude35sonnet', '20240728_sweagent_gpt4o', '20240806_SuperCoder2.0', '20240808_RepoGraph_gpt4o', '20240811_gru', '20240820_honeycomb', '20240828_autose_mixed', '20240829_Isoform', '20240908_infant_gpt4o', '20240912_marscode-agent-dev', '20240925_hyperagent_lite1', '20241016_IBM-SWE-1.0', '20241025_OpenHands-CodeAct-2.1-sonnet-20241022', '20241028_agentless-1.5_gpt4o', '20241030_composio_swekit', '20241111_codeshelltester_gpt4o', '20241113_navie-2-gpt4o-sonnet', '20241117_moatless_claude-3.5-sonnet-20241022', '20241122_devlo']\n",
      "Error opening ./experiments/evaluation/lite/20240723_marscode-agent-dev\\all_preds.jsonl: [Errno 2] No such file or directory: './experiments/evaluation/lite/20240723_marscode-agent-dev\\\\all_preds.jsonl'\n",
      "Error reading file ./experiments/evaluation/lite/20240723_marscode-agent-dev\\all_preds.jsonl from experiment 20240723_marscode-agent-dev\n"
     ]
    },
    {
     "data": {
      "text/html": [
       "<div><style>\n",
       ".dataframe > thead > tr,\n",
       ".dataframe > tbody > tr {\n",
       "  text-align: right;\n",
       "  white-space: pre-wrap;\n",
       "}\n",
       "</style>\n",
       "<small>shape: (15_580, 5)</small><table border=\"1\" class=\"dataframe\"><thead><tr><th>model_name_or_path</th><th>instance_id</th><th>file_changed</th><th>model_patch</th><th>resolved</th></tr><tr><td>str</td><td>str</td><td>str</td><td>str</td><td>bool</td></tr></thead><tbody><tr><td>&quot;20231010_rag_claude2&quot;</td><td>&quot;matplotlib__matplotlib-24334&quot;</td><td>&quot;lib/matplotlib/axis.py&quot;</td><td>&quot;--- a/lib/matplotlib/axis.py\n",
       "+…</td><td>false</td></tr><tr><td>&quot;20231010_rag_claude2&quot;</td><td>&quot;sympy__sympy-18087&quot;</td><td>&quot;sympy/simplify/simplify.py&quot;</td><td>&quot;--- a/sympy/simplify/simplify.…</td><td>false</td></tr><tr><td>&quot;20231010_rag_claude2&quot;</td><td>&quot;sympy__sympy-12419&quot;</td><td>&quot;sympy/matrices/expressions/mat…</td><td>&quot; Here is a patch file that fix…</td><td>false</td></tr><tr><td>&quot;20231010_rag_claude2&quot;</td><td>&quot;sympy__sympy-20212&quot;</td><td>&quot;sympy/core/power.py&quot;</td><td>&quot;--- a/sympy/core/power.py\n",
       "+++ …</td><td>false</td></tr><tr><td>&quot;20231010_rag_claude2&quot;</td><td>&quot;sympy__sympy-18698&quot;</td><td>&quot;sympy/polys/polytools.py&quot;</td><td>&quot;--- a/sympy/polys/polytools.py…</td><td>false</td></tr><tr><td>&hellip;</td><td>&hellip;</td><td>&hellip;</td><td>&hellip;</td><td>&hellip;</td></tr><tr><td>&quot;20241122_devlo&quot;</td><td>&quot;sympy__sympy-13471&quot;</td><td>&quot;sympy/core/numbers.py&quot;</td><td>&quot;diff --git a/sympy/core/number…</td><td>true</td></tr><tr><td>&quot;20241122_devlo&quot;</td><td>&quot;sympy__sympy-16792&quot;</td><td>&quot;sympy/utilities/autowrap.py&quot;</td><td>&quot;diff --git a/sympy/utilities/a…</td><td>true</td></tr><tr><td>&quot;20241122_devlo&quot;</td><td>&quot;sympy__sympy-17655&quot;</td><td>&quot;sympy/geometry/point.py&quot;</td><td>&quot;diff --git a/sympy/geometry/po…</td><td>true</td></tr><tr><td>&quot;20241122_devlo&quot;</td><td>&quot;django__django-12470&quot;</td><td>&quot;django/db/models/sql/compiler.…</td><td>&quot;diff --git a/django/db/models/…</td><td>false</td></tr><tr><td>&quot;20241122_devlo&quot;</td><td>&quot;sympy__sympy-18057&quot;</td><td>&quot;sympy/core/basic.py&quot;</td><td>&quot;diff --git a/sympy/core/basic.…</td><td>false</td></tr></tbody></table></div>"
      ],
      "text/plain": [
       "shape: (15_580, 5)\n",
       "┌─────────────────────┬─────────────────────┬─────────────────────┬─────────────────────┬──────────┐\n",
       "│ model_name_or_path  ┆ instance_id         ┆ file_changed        ┆ model_patch         ┆ resolved │\n",
       "│ ---                 ┆ ---                 ┆ ---                 ┆ ---                 ┆ ---      │\n",
       "│ str                 ┆ str                 ┆ str                 ┆ str                 ┆ bool     │\n",
       "╞═════════════════════╪═════════════════════╪═════════════════════╪═════════════════════╪══════════╡\n",
       "│ 20231010_rag_claude ┆ matplotlib__matplot ┆ lib/matplotlib/axis ┆ --- a/lib/matplotli ┆ false    │\n",
       "│ 2                   ┆ lib-24334           ┆ .py                 ┆ b/axis.py           ┆          │\n",
       "│                     ┆                     ┆                     ┆ +…                  ┆          │\n",
       "│ 20231010_rag_claude ┆ sympy__sympy-18087  ┆ sympy/simplify/simp ┆ --- a/sympy/simplif ┆ false    │\n",
       "│ 2                   ┆                     ┆ lify.py             ┆ y/simplify.…        ┆          │\n",
       "│ 20231010_rag_claude ┆ sympy__sympy-12419  ┆ sympy/matrices/expr ┆ Here is a patch     ┆ false    │\n",
       "│ 2                   ┆                     ┆ essions/mat…        ┆ file that fix…      ┆          │\n",
       "│ 20231010_rag_claude ┆ sympy__sympy-20212  ┆ sympy/core/power.py ┆ --- a/sympy/core/po ┆ false    │\n",
       "│ 2                   ┆                     ┆                     ┆ wer.py              ┆          │\n",
       "│                     ┆                     ┆                     ┆ +++ …               ┆          │\n",
       "│ 20231010_rag_claude ┆ sympy__sympy-18698  ┆ sympy/polys/polytoo ┆ --- a/sympy/polys/p ┆ false    │\n",
       "│ 2                   ┆                     ┆ ls.py               ┆ olytools.py…        ┆          │\n",
       "│ …                   ┆ …                   ┆ …                   ┆ …                   ┆ …        │\n",
       "│ 20241122_devlo      ┆ sympy__sympy-13471  ┆ sympy/core/numbers. ┆ diff --git a/sympy/ ┆ true     │\n",
       "│                     ┆                     ┆ py                  ┆ core/number…        ┆          │\n",
       "│ 20241122_devlo      ┆ sympy__sympy-16792  ┆ sympy/utilities/aut ┆ diff --git a/sympy/ ┆ true     │\n",
       "│                     ┆                     ┆ owrap.py            ┆ utilities/a…        ┆          │\n",
       "│ 20241122_devlo      ┆ sympy__sympy-17655  ┆ sympy/geometry/poin ┆ diff --git a/sympy/ ┆ true     │\n",
       "│                     ┆                     ┆ t.py                ┆ geometry/po…        ┆          │\n",
       "│ 20241122_devlo      ┆ django__django-1247 ┆ django/db/models/sq ┆ diff --git a/django ┆ false    │\n",
       "│                     ┆ 0                   ┆ l/compiler.…        ┆ /db/models/…        ┆          │\n",
       "│ 20241122_devlo      ┆ sympy__sympy-18057  ┆ sympy/core/basic.py ┆ diff --git a/sympy/ ┆ false    │\n",
       "│                     ┆                     ┆                     ┆ core/basic.…        ┆          │\n",
       "└─────────────────────┴─────────────────────┴─────────────────────┴─────────────────────┴──────────┘"
      ]
     },
     "execution_count": 28,
     "metadata": {},
     "output_type": "execute_result"
    }
   ],
   "source": [
    "lite_dir = './experiments/evaluation/lite/'\n",
    "\n",
    "lite_experiments = os.listdir(lite_dir)\n",
    "print(lite_experiments)\n",
    "\n",
    "lite_bench_df = process_experiments(lite_experiments, lite_dir)\n",
    "lite_bench_df"
   ]
  },
  {
   "cell_type": "code",
   "execution_count": 29,
   "metadata": {},
   "outputs": [
    {
     "name": "stdout",
     "output_type": "stream",
     "text": [
      "Overall Statistics:\n",
      "Number of instances where 'file_changed' == 'true_patch_file': 8267\n",
      "Total number of instances: 13641\n",
      "Percentage of matches: 60.60%\n",
      "\n",
      "Resolved Instances:\n",
      "Number of instances where 'file_changed' == 'true_patch_file': 3186\n",
      "Total number of instances: 3594\n",
      "Percentage of matches: 88.65%\n",
      "\n",
      "Not Resolved Instances:\n",
      "Number of instances where 'file_changed' == 'true_patch_file': 5081\n",
      "Total number of instances: 10047\n",
      "Percentage of matches: 50.57%\n",
      "\n",
      "Model Statistics by Resolved Status:\n",
      "shape: (46, 5)\n",
      "┌───────────────────────────────┬──────────┬─────────────────┬────────────────┬────────────────────┐\n",
      "│ model_name_or_path            ┆ resolved ┆ total_instances ┆ num_same_files ┆ percentage_matches │\n",
      "│ ---                           ┆ ---      ┆ ---             ┆ ---            ┆ ---                │\n",
      "│ str                           ┆ bool     ┆ u32             ┆ u32            ┆ f64                │\n",
      "╞═══════════════════════════════╪══════════╪═════════════════╪════════════════╪════════════════════╡\n",
      "│ 20240725_opendevin_codeact_v1 ┆ false    ┆ 220             ┆ 5              ┆ 2.272727           │\n",
      "│ .…                            ┆          ┆                 ┆                ┆                    │\n",
      "│ 20231010_rag_swellama7b       ┆ false    ┆ 293             ┆ 35             ┆ 11.945392          │\n",
      "│ 20231010_rag_swellama13b      ┆ false    ┆ 287             ┆ 36             ┆ 12.543554          │\n",
      "│ 20231010_rag_gpt35            ┆ false    ┆ 299             ┆ 80             ┆ 26.755853          │\n",
      "│ 20240402_sweagent_claude3opus ┆ false    ┆ 265             ┆ 81             ┆ 30.566038          │\n",
      "│ …                             ┆ …        ┆ …               ┆ …              ┆ …                  │\n",
      "│ 20240706_sima_gpt4o           ┆ false    ┆ 217             ┆ 151            ┆ 69.585253          │\n",
      "│ 20241030_composio_swekit      ┆ false    ┆ 176             ┆ 123            ┆ 69.886364          │\n",
      "│ 20240623_moatless_claude35son ┆ false    ┆ 220             ┆ 154            ┆ 70.0               │\n",
      "│ n…                            ┆          ┆                 ┆                ┆                    │\n",
      "│ 20240612_MASAI_gpt4o          ┆ false    ┆ 205             ┆ 144            ┆ 70.243902          │\n",
      "│ 20240524_opencsg_starship_gpt ┆ false    ┆ 229             ┆ 199            ┆ 86.899563          │\n",
      "│ 4                             ┆          ┆                 ┆                ┆                    │\n",
      "└───────────────────────────────┴──────────┴─────────────────┴────────────────┴────────────────────┘\n"
     ]
    }
   ],
   "source": [
    "swe_bench_lite_df = swe_bench_lite_df.with_columns(\n",
    "    pl.col('patch').str.extract(pattern, 1).alias('true_patch_file')\n",
    ")\n",
    "swe_df_small = swe_bench_lite_df.select(['instance_id', 'true_patch_file'])\n",
    "\n",
    "lite_merged_df, lite_model_stats = analyze_bench(lite_bench_df, swe_df_small)"
   ]
  },
  {
   "cell_type": "code",
   "execution_count": 30,
   "metadata": {},
   "outputs": [
    {
     "data": {
      "text/plain": [
       "51.944920796965064"
      ]
     },
     "execution_count": 30,
     "metadata": {},
     "output_type": "execute_result"
    }
   ],
   "source": [
    "lite_model_stats.filter(pl.col('resolved') == False)['percentage_matches'].mean()"
   ]
  },
  {
   "cell_type": "markdown",
   "metadata": {},
   "source": [
    "# Full bench"
   ]
  },
  {
   "cell_type": "code",
   "execution_count": 31,
   "metadata": {},
   "outputs": [],
   "source": [
    "full_dir = './experiments/evaluation/test/'\n",
    "\n",
    "full_experiments = os.listdir(full_dir)\n",
    "\n",
    "full_bench_df = process_experiments(full_experiments, full_dir)"
   ]
  },
  {
   "cell_type": "code",
   "execution_count": 32,
   "metadata": {},
   "outputs": [
    {
     "name": "stdout",
     "output_type": "stream",
     "text": [
      "Overall Statistics:\n",
      "Number of instances where 'file_changed' == 'true_patch_file': 16076\n",
      "Total number of instances: 36549\n",
      "Percentage of matches: 43.98%\n",
      "\n",
      "Resolved Instances:\n",
      "Number of instances where 'file_changed' == 'true_patch_file': 3293\n",
      "Total number of instances: 3901\n",
      "Percentage of matches: 84.41%\n",
      "\n",
      "Not Resolved Instances:\n",
      "Number of instances where 'file_changed' == 'true_patch_file': 12783\n",
      "Total number of instances: 32648\n",
      "Percentage of matches: 39.15%\n",
      "\n",
      "Model Statistics by Resolved Status:\n",
      "shape: (16, 5)\n",
      "┌───────────────────────────────┬──────────┬─────────────────┬────────────────┬────────────────────┐\n",
      "│ model_name_or_path            ┆ resolved ┆ total_instances ┆ num_same_files ┆ percentage_matches │\n",
      "│ ---                           ┆ ---      ┆ ---             ┆ ---            ┆ ---                │\n",
      "│ str                           ┆ bool     ┆ u32             ┆ u32            ┆ f64                │\n",
      "╞═══════════════════════════════╪══════════╪═════════════════╪════════════════╪════════════════════╡\n",
      "│ 20231010_rag_swellama7b       ┆ false    ┆ 2268            ┆ 280            ┆ 12.345679          │\n",
      "│ 20231010_rag_swellama13b      ┆ false    ┆ 2207            ┆ 273            ┆ 12.369733          │\n",
      "│ 20231010_rag_gpt35            ┆ false    ┆ 2290            ┆ 643            ┆ 28.078603          │\n",
      "│ 20240402_sweagent_claude3opus ┆ false    ┆ 2335            ┆ 681            ┆ 29.164882          │\n",
      "│ 20240620_sweagent_claude3.5so ┆ false    ┆ 1858            ┆ 600            ┆ 32.292788          │\n",
      "│ n…                            ┆          ┆                 ┆                ┆                    │\n",
      "│ …                             ┆ …        ┆ …               ┆ …              ┆ …                  │\n",
      "│ 20240820_honeycomb            ┆ false    ┆ 1730            ┆ 801            ┆ 46.300578          │\n",
      "│ 20240721_amazon-q-developer-a ┆ false    ┆ 1840            ┆ 1026           ┆ 55.76087           │\n",
      "│ g…                            ┆          ┆                 ┆                ┆                    │\n",
      "│ 20240628_autocoderover-v20240 ┆ false    ┆ 1809            ┆ 1044           ┆ 57.711443          │\n",
      "│ 6…                            ┆          ┆                 ┆                ┆                    │\n",
      "│ 20240509_amazon-q-developer-a ┆ false    ┆ 1977            ┆ 1165           ┆ 58.927668          │\n",
      "│ g…                            ┆          ┆                 ┆                ┆                    │\n",
      "│ 20240617_factory_code_droid   ┆ false    ┆ 1842            ┆ 1115           ┆ 60.53203           │\n",
      "└───────────────────────────────┴──────────┴─────────────────┴────────────────┴────────────────────┘\n"
     ]
    }
   ],
   "source": [
    "swe_df = swe_df.with_columns(\n",
    "    pl.col('patch').str.extract(pattern, 1).alias('true_patch_file')\n",
    ")\n",
    "swe_df_small = swe_df.select(['instance_id', 'true_patch_file'])\n",
    "\n",
    "full_merged_df, full_model_stats = analyze_bench(full_bench_df, swe_df_small)"
   ]
  },
  {
   "cell_type": "code",
   "execution_count": 33,
   "metadata": {},
   "outputs": [
    {
     "data": {
      "text/plain": [
       "40.011310648201544"
      ]
     },
     "execution_count": 33,
     "metadata": {},
     "output_type": "execute_result"
    }
   ],
   "source": [
    "full_model_stats.filter(pl.col('resolved') == False)['percentage_matches'].mean()\n"
   ]
  },
  {
   "cell_type": "markdown",
   "metadata": {},
   "source": [
    "# Verified bench"
   ]
  },
  {
   "cell_type": "code",
   "execution_count": 34,
   "metadata": {},
   "outputs": [],
   "source": [
    "verified_dir = './experiments/evaluation/verified/'\n",
    "\n",
    "verified_experiments = os.listdir(verified_dir)\n",
    "verified_experiments.remove('20241028_solver') # Removed due json decode error\n",
    "verified_experiments.remove('20240620_sweagent_claude3.5sonnet') # Removed due missing results file\n",
    "\n",
    "verified_df = process_experiments(verified_experiments, verified_dir)"
   ]
  },
  {
   "cell_type": "code",
   "execution_count": 35,
   "metadata": {},
   "outputs": [
    {
     "name": "stdout",
     "output_type": "stream",
     "text": [
      "Overall Statistics:\n",
      "Number of instances where 'file_changed' == 'true_patch_file': 12609\n",
      "Total number of instances: 20435\n",
      "Percentage of matches: 61.70%\n",
      "\n",
      "Resolved Instances:\n",
      "Number of instances where 'file_changed' == 'true_patch_file': 5611\n",
      "Total number of instances: 6401\n",
      "Percentage of matches: 87.66%\n",
      "\n",
      "Not Resolved Instances:\n",
      "Number of instances where 'file_changed' == 'true_patch_file': 6998\n",
      "Total number of instances: 14034\n",
      "Percentage of matches: 49.86%\n",
      "\n",
      "Model Statistics by Resolved Status:\n",
      "shape: (41, 5)\n",
      "┌───────────────────────────────┬──────────┬─────────────────┬────────────────┬────────────────────┐\n",
      "│ model_name_or_path            ┆ resolved ┆ total_instances ┆ num_same_files ┆ percentage_matches │\n",
      "│ ---                           ┆ ---      ┆ ---             ┆ ---            ┆ ---                │\n",
      "│ str                           ┆ bool     ┆ u32             ┆ u32            ┆ f64                │\n",
      "╞═══════════════════════════════╪══════════╪═════════════════╪════════════════╪════════════════════╡\n",
      "│ 20231010_rag_swellama7b       ┆ false    ┆ 489             ┆ 70             ┆ 14.314928          │\n",
      "│ 20231010_rag_swellama13b      ┆ false    ┆ 475             ┆ 68             ┆ 14.315789          │\n",
      "│ 20240402_sweagent_claude3opus ┆ false    ┆ 493             ┆ 145            ┆ 29.411765          │\n",
      "│ 20241022_tools_claude-3-5-hai ┆ false    ┆ 291             ┆ 95             ┆ 32.646048          │\n",
      "│ k…                            ┆          ┆                 ┆                ┆                    │\n",
      "│ 20231010_rag_gpt35            ┆ false    ┆ 498             ┆ 163            ┆ 32.730924          │\n",
      "│ …                             ┆ …        ┆ …               ┆ …              ┆ …                  │\n",
      "│ 20241120_artemis_agent        ┆ false    ┆ 340             ┆ 215            ┆ 63.235294          │\n",
      "│ 20241029_epam-ai-run-claude-3 ┆ false    ┆ 302             ┆ 191            ┆ 63.245033          │\n",
      "│ -…                            ┆          ┆                 ┆                ┆                    │\n",
      "│ 20241105_nfactorial           ┆ false    ┆ 251             ┆ 159            ┆ 63.346614          │\n",
      "│ 20240617_factory_code_droid   ┆ false    ┆ 315             ┆ 201            ┆ 63.809524          │\n",
      "│ 20241030_nfactorial           ┆ false    ┆ 290             ┆ 195            ┆ 67.241379          │\n",
      "└───────────────────────────────┴──────────┴─────────────────┴────────────────┴────────────────────┘\n"
     ]
    }
   ],
   "source": [
    "swe_bench_verified_df = swe_bench_verified_df.with_columns(\n",
    "    pl.col('patch').str.extract(pattern, 1).alias('true_patch_file')\n",
    ")\n",
    "swe_df_verified = swe_bench_verified_df.select(['instance_id', 'true_patch_file'])\n",
    "\n",
    "verified_merged_df, verified_model_stats = analyze_bench(verified_df, swe_df_verified)"
   ]
  },
  {
   "cell_type": "code",
   "execution_count": 36,
   "metadata": {},
   "outputs": [
    {
     "data": {
      "text/plain": [
       "51.53731628562242"
      ]
     },
     "execution_count": 36,
     "metadata": {},
     "output_type": "execute_result"
    }
   ],
   "source": [
    "verified_model_stats.filter(pl.col('resolved') == False)['percentage_matches'].mean()"
   ]
  }
 ],
 "metadata": {
  "kernelspec": {
   "display_name": "venv",
   "language": "python",
   "name": "python3"
  },
  "language_info": {
   "codemirror_mode": {
    "name": "ipython",
    "version": 3
   },
   "file_extension": ".py",
   "mimetype": "text/x-python",
   "name": "python",
   "nbconvert_exporter": "python",
   "pygments_lexer": "ipython3",
   "version": "3.11.5"
  }
 },
 "nbformat": 4,
 "nbformat_minor": 2
}
