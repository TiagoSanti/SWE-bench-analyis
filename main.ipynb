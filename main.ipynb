{
 "cells": [
  {
   "cell_type": "code",
   "execution_count": 4,
   "metadata": {},
   "outputs": [],
   "source": [
    "import polars as pl\n",
    "import pandas as pd\n",
    "import json\n",
    "import os\n",
    "import re"
   ]
  },
  {
   "cell_type": "code",
   "execution_count": 12,
   "metadata": {},
   "outputs": [],
   "source": [
    "pattern = r'(?:diff --git a/.+? b/|--- a/)(.+)'"
   ]
  },
  {
   "cell_type": "code",
   "execution_count": null,
   "metadata": {},
   "outputs": [],
   "source": [
    "def read_jsonl_file_line_by_line(file_path):\n",
    "    data = []\n",
    "    try:\n",
    "        with open(file_path, 'r', encoding='utf-8') as f:\n",
    "            for line in f:\n",
    "                try:\n",
    "                    data.append(json.loads(line))\n",
    "                except json.JSONDecodeError as e:\n",
    "                    print(f\"JSON decode error in {file_path}: {e}\")\n",
    "                    return None\n",
    "        return data\n",
    "    except Exception as e:\n",
    "        print(f\"Error opening {file_path}: {e}\")\n",
    "        return None"
   ]
  },
  {
   "cell_type": "code",
   "execution_count": 25,
   "metadata": {},
   "outputs": [],
   "source": [
    "def process_experiments(experiments, base_dir):\n",
    "    all_preds = {}\n",
    "\n",
    "    for exp in experiments:\n",
    "        file_path = os.path.join(base_dir, exp, 'all_preds.jsonl')\n",
    "        results_file_path = os.path.join(base_dir, exp, 'results', 'results.json')\n",
    "        \n",
    "        try:\n",
    "            if not os.path.exists(results_file_path):\n",
    "                print(f\"Results file for experiment {exp} does not exist\")\n",
    "                continue\n",
    "            \n",
    "            with open(results_file_path, 'r', encoding='utf-8') as f:\n",
    "                results_data = json.load(f)\n",
    "                resolved_list = results_data.get('resolved', [])\n",
    "        except Exception as e:\n",
    "            print(f\"Error reading results file for experiment {exp}: {e}\")\n",
    "            resolved_list = []\n",
    "\n",
    "        df_data = read_jsonl_file_line_by_line(file_path)\n",
    "        \n",
    "        if df_data is None:\n",
    "            print(f\"Error reading file {file_path} from experiment {exp}\")\n",
    "            continue\n",
    "\n",
    "        df = pl.DataFrame(df_data)\n",
    "\n",
    "        df = df.with_columns(\n",
    "            pl.lit(exp).alias('model_name_or_path')\n",
    "        )\n",
    "\n",
    "        if 'model_patch' in df.columns:\n",
    "            df = df.with_columns(\n",
    "                pl.col('model_patch').str.extract(pattern, 1).alias('file_changed')\n",
    "            )\n",
    "        \n",
    "        df = df.with_columns(\n",
    "            pl.col('instance_id').is_in(resolved_list).alias('resolved')\n",
    "        )\n",
    "        \n",
    "        df = df.select(['model_name_or_path', 'instance_id', 'file_changed', 'model_patch', 'resolved'])\n",
    "        all_preds[exp] = df\n",
    "\n",
    "    combined_df = pl.concat(list(all_preds.values()))\n",
    "    return combined_df"
   ]
  },
  {
   "cell_type": "code",
   "execution_count": 26,
   "metadata": {},
   "outputs": [],
   "source": [
    "def analyze_bench(bench_df, swe_df_small):\n",
    "    merged_df = bench_df.join(swe_df_small, on='instance_id', how='inner')\n",
    "\n",
    "    merged_df = merged_df.with_columns([\n",
    "        pl.col('file_changed').str.strip_chars().str.replace_all(r'\\\\', '/').alias('file_changed_norm'),\n",
    "        pl.col('true_patch_file').str.strip_chars().str.replace_all(r'\\\\', '/').alias('true_patch_file_norm')\n",
    "    ])\n",
    "\n",
    "    merged_df = merged_df.with_columns(\n",
    "        (pl.col('file_changed_norm') == pl.col('true_patch_file_norm')).alias('is_same_file')\n",
    "    )\n",
    "\n",
    "    num_same_files = merged_df['is_same_file'].sum()\n",
    "    total_instances = merged_df.shape[0]\n",
    "    percentage = (num_same_files / total_instances) * 100 if total_instances > 0 else 0\n",
    "\n",
    "    print(f\"Overall Statistics:\")\n",
    "    print(f\"Number of instances where 'file_changed' == 'true_patch_file': {num_same_files}\")\n",
    "    print(f\"Total number of instances: {total_instances}\")\n",
    "    print(f\"Percentage of matches: {percentage:.2f}%\\n\")\n",
    "\n",
    "    for resolved_status in [True, False]:\n",
    "        status_df = merged_df.filter(pl.col('resolved') == resolved_status)\n",
    "        num_same_files = status_df['is_same_file'].sum()\n",
    "        total_instances = status_df.shape[0]\n",
    "        percentage = (num_same_files / total_instances) * 100 if total_instances > 0 else 0\n",
    "\n",
    "        status = \"Resolved\" if resolved_status else \"Not Resolved\"\n",
    "        print(f\"{status} Instances:\")\n",
    "        print(f\"Number of instances where 'file_changed' == 'true_patch_file': {num_same_files}\")\n",
    "        print(f\"Total number of instances: {total_instances}\")\n",
    "        print(f\"Percentage of matches: {percentage:.2f}%\\n\")\n",
    "\n",
    "    model_stats = merged_df.group_by(['model_name_or_path', 'resolved']).agg([\n",
    "        pl.len().alias('total_instances'),\n",
    "        pl.col('is_same_file').sum().alias('num_same_files'),\n",
    "        (pl.col('is_same_file').sum() / pl.len() * 100).alias('percentage_matches')\n",
    "    ])\n",
    "\n",
    "    print(\"Model Statistics by Resolved Status:\")\n",
    "    print(model_stats.filter(pl.col('resolved') == False).sort('percentage_matches'))\n",
    "    return merged_df, model_stats\n"
   ]
  },
  {
   "cell_type": "code",
   "execution_count": 27,
   "metadata": {},
   "outputs": [],
   "source": [
    "swe_df = pl.read_parquet('hf://datasets/princeton-nlp/SWE-bench/data/test-00000-of-00001.parquet')\n",
    "swe_bench_lite_df = pl.read_parquet('hf://datasets/princeton-nlp/SWE-bench_Lite/data/test-00000-of-00001.parquet')\n",
    "swe_bench_verified_df = pl.read_parquet('hf://datasets/princeton-nlp/SWE-bench_Verified/data/test-00000-of-00001.parquet')"
   ]
  },
  {
   "cell_type": "markdown",
   "metadata": {},
   "source": [
    "# Lite bench\n",
    "\n",
    "## Experiments (6 best)\n",
    "\n",
    "- 20240702_codestory_aide_mixed\n",
    "- 20240820_honeycomb\n",
    "- 20240627_abanteai_mentatbot_gpt4o\n",
    "- 20240811_gru\n",
    "- 20240829_Isoform\n",
    "- 20240806_SuperCoder2"
   ]
  },
  {
   "cell_type": "code",
   "execution_count": 28,
   "metadata": {},
   "outputs": [
    {
     "data": {
      "text/html": [
       "<div><style>\n",
       ".dataframe > thead > tr,\n",
       ".dataframe > tbody > tr {\n",
       "  text-align: right;\n",
       "  white-space: pre-wrap;\n",
       "}\n",
       "</style>\n",
       "<small>shape: (3_736, 5)</small><table border=\"1\" class=\"dataframe\"><thead><tr><th>model_name_or_path</th><th>instance_id</th><th>file_changed</th><th>model_patch</th><th>resolved</th></tr><tr><td>str</td><td>str</td><td>str</td><td>str</td><td>bool</td></tr></thead><tbody><tr><td>&quot;20240702_codestory_aide_mixed&quot;</td><td>&quot;matplotlib__matplotlib-25433&quot;</td><td>&quot;lib/matplotlib/widgets.py&quot;</td><td>&quot;diff --git a/lib/matplotlib/wi…</td><td>false</td></tr><tr><td>&quot;20240702_codestory_aide_mixed&quot;</td><td>&quot;django__django-16820&quot;</td><td>&quot;django/db/migrations/autodetec…</td><td>&quot;diff --git a/django/db/migrati…</td><td>false</td></tr><tr><td>&quot;20240702_codestory_aide_mixed&quot;</td><td>&quot;django__django-15781&quot;</td><td>&quot;django/core/management/base.py&quot;</td><td>&quot;diff --git a/django/core/manag…</td><td>false</td></tr><tr><td>&quot;20240702_codestory_aide_mixed&quot;</td><td>&quot;sympy__sympy-18087&quot;</td><td>&quot;sympy/simplify/trigsimp.py&quot;</td><td>&quot;diff --git a/sympy/simplify/tr…</td><td>false</td></tr><tr><td>&quot;20240702_codestory_aide_mixed&quot;</td><td>&quot;pytest-dev__pytest-5495&quot;</td><td>&quot;src/_pytest/_code/code.py&quot;</td><td>&quot;diff --git a/src/_pytest/_code…</td><td>false</td></tr><tr><td>&hellip;</td><td>&hellip;</td><td>&hellip;</td><td>&hellip;</td><td>&hellip;</td></tr><tr><td>&quot;20240806_SuperCoder2.0&quot;</td><td>&quot;scikit-learn__scikit-learn-255…</td><td>&quot;sklearn/compose/_column_transf…</td><td>&quot;diff --git a/sklearn/compose/_…</td><td>false</td></tr><tr><td>&quot;20240806_SuperCoder2.0&quot;</td><td>&quot;sphinx-doc__sphinx-8801&quot;</td><td>&quot;sphinx/ext/autodoc/__init__.py&quot;</td><td>&quot;diff --git a/sphinx/ext/autodo…</td><td>false</td></tr><tr><td>&quot;20240806_SuperCoder2.0&quot;</td><td>&quot;sympy__sympy-14396&quot;</td><td>&quot;sympy/polys/polyoptions.py&quot;</td><td>&quot;diff --git a/sympy/polys/polyo…</td><td>false</td></tr><tr><td>&quot;20240806_SuperCoder2.0&quot;</td><td>&quot;django__django-11905&quot;</td><td>&quot;django/db/models/lookups.py&quot;</td><td>&quot;diff --git a/django/db/models/…</td><td>false</td></tr><tr><td>&quot;20240806_SuperCoder2.0&quot;</td><td>&quot;sympy__sympy-21627&quot;</td><td>&quot;sympy/functions/elementary/hyp…</td><td>&quot;diff --git a/sympy/functions/e…</td><td>false</td></tr></tbody></table></div>"
      ],
      "text/plain": [
       "shape: (3_736, 5)\n",
       "┌─────────────────────┬─────────────────────┬─────────────────────┬─────────────────────┬──────────┐\n",
       "│ model_name_or_path  ┆ instance_id         ┆ file_changed        ┆ model_patch         ┆ resolved │\n",
       "│ ---                 ┆ ---                 ┆ ---                 ┆ ---                 ┆ ---      │\n",
       "│ str                 ┆ str                 ┆ str                 ┆ str                 ┆ bool     │\n",
       "╞═════════════════════╪═════════════════════╪═════════════════════╪═════════════════════╪══════════╡\n",
       "│ 20240702_codestory_ ┆ matplotlib__matplot ┆ lib/matplotlib/widg ┆ diff --git a/lib/ma ┆ false    │\n",
       "│ aide_mixed          ┆ lib-25433           ┆ ets.py              ┆ tplotlib/wi…        ┆          │\n",
       "│ 20240702_codestory_ ┆ django__django-1682 ┆ django/db/migration ┆ diff --git a/django ┆ false    │\n",
       "│ aide_mixed          ┆ 0                   ┆ s/autodetec…        ┆ /db/migrati…        ┆          │\n",
       "│ 20240702_codestory_ ┆ django__django-1578 ┆ django/core/managem ┆ diff --git a/django ┆ false    │\n",
       "│ aide_mixed          ┆ 1                   ┆ ent/base.py         ┆ /core/manag…        ┆          │\n",
       "│ 20240702_codestory_ ┆ sympy__sympy-18087  ┆ sympy/simplify/trig ┆ diff --git a/sympy/ ┆ false    │\n",
       "│ aide_mixed          ┆                     ┆ simp.py             ┆ simplify/tr…        ┆          │\n",
       "│ 20240702_codestory_ ┆ pytest-dev__pytest- ┆ src/_pytest/_code/c ┆ diff --git a/src/_p ┆ false    │\n",
       "│ aide_mixed          ┆ 5495                ┆ ode.py              ┆ ytest/_code…        ┆          │\n",
       "│ …                   ┆ …                   ┆ …                   ┆ …                   ┆ …        │\n",
       "│ 20240806_SuperCoder ┆ scikit-learn__sciki ┆ sklearn/compose/_co ┆ diff --git a/sklear ┆ false    │\n",
       "│ 2.0                 ┆ t-learn-255…        ┆ lumn_transf…        ┆ n/compose/_…        ┆          │\n",
       "│ 20240806_SuperCoder ┆ sphinx-doc__sphinx- ┆ sphinx/ext/autodoc/ ┆ diff --git a/sphinx ┆ false    │\n",
       "│ 2.0                 ┆ 8801                ┆ __init__.py         ┆ /ext/autodo…        ┆          │\n",
       "│ 20240806_SuperCoder ┆ sympy__sympy-14396  ┆ sympy/polys/polyopt ┆ diff --git a/sympy/ ┆ false    │\n",
       "│ 2.0                 ┆                     ┆ ions.py             ┆ polys/polyo…        ┆          │\n",
       "│ 20240806_SuperCoder ┆ django__django-1190 ┆ django/db/models/lo ┆ diff --git a/django ┆ false    │\n",
       "│ 2.0                 ┆ 5                   ┆ okups.py            ┆ /db/models/…        ┆          │\n",
       "│ 20240806_SuperCoder ┆ sympy__sympy-21627  ┆ sympy/functions/ele ┆ diff --git a/sympy/ ┆ false    │\n",
       "│ 2.0                 ┆                     ┆ mentary/hyp…        ┆ functions/e…        ┆          │\n",
       "└─────────────────────┴─────────────────────┴─────────────────────┴─────────────────────┴──────────┘"
      ]
     },
     "execution_count": 28,
     "metadata": {},
     "output_type": "execute_result"
    }
   ],
   "source": [
    "lite_experiments = [\n",
    "    '20240702_codestory_aide_mixed',\n",
    "    '20240820_honeycomb',\n",
    "    '20240627_abanteai_mentatbot_gpt4o',\n",
    "    '20240811_gru',\n",
    "    '20240829_Isoform',\n",
    "    '20240806_SuperCoder2.0',\n",
    "]\n",
    "\n",
    "lite_dir = './experiments/evaluation/lite/'\n",
    "\n",
    "lite_bench_df = process_experiments(lite_experiments, lite_dir)\n",
    "lite_bench_df"
   ]
  },
  {
   "cell_type": "code",
   "execution_count": 29,
   "metadata": {},
   "outputs": [
    {
     "name": "stdout",
     "output_type": "stream",
     "text": [
      "Overall Statistics:\n",
      "Number of instances where 'file_changed' == 'true_patch_file': 1196\n",
      "Total number of instances: 1797\n",
      "Percentage of matches: 66.56%\n",
      "\n",
      "Resolved Instances:\n",
      "Number of instances where 'file_changed' == 'true_patch_file': 612\n",
      "Total number of instances: 672\n",
      "Percentage of matches: 91.07%\n",
      "\n",
      "Not Resolved Instances:\n",
      "Number of instances where 'file_changed' == 'true_patch_file': 584\n",
      "Total number of instances: 1125\n",
      "Percentage of matches: 51.91%\n",
      "\n",
      "Model Statistics by Resolved Status:\n",
      "shape: (6, 5)\n",
      "┌───────────────────────────────┬──────────┬─────────────────┬────────────────┬────────────────────┐\n",
      "│ model_name_or_path            ┆ resolved ┆ total_instances ┆ num_same_files ┆ percentage_matches │\n",
      "│ ---                           ┆ ---      ┆ ---             ┆ ---            ┆ ---                │\n",
      "│ str                           ┆ bool     ┆ u32             ┆ u32            ┆ f64                │\n",
      "╞═══════════════════════════════╪══════════╪═════════════════╪════════════════╪════════════════════╡\n",
      "│ 20240820_honeycomb            ┆ false    ┆ 182             ┆ 79             ┆ 43.406593          │\n",
      "│ 20240627_abanteai_mentatbot_g ┆ false    ┆ 186             ┆ 84             ┆ 45.16129           │\n",
      "│ p…                            ┆          ┆                 ┆                ┆                    │\n",
      "│ 20240806_SuperCoder2.0        ┆ false    ┆ 198             ┆ 100            ┆ 50.505051          │\n",
      "│ 20240702_codestory_aide_mixed ┆ false    ┆ 171             ┆ 89             ┆ 52.046784          │\n",
      "│ 20240811_gru                  ┆ false    ┆ 193             ┆ 115            ┆ 59.585492          │\n",
      "│ 20240829_Isoform              ┆ false    ┆ 195             ┆ 117            ┆ 60.0               │\n",
      "└───────────────────────────────┴──────────┴─────────────────┴────────────────┴────────────────────┘\n"
     ]
    }
   ],
   "source": [
    "swe_bench_lite_df = swe_bench_lite_df.with_columns(\n",
    "    pl.col('patch').str.extract(pattern, 1).alias('true_patch_file')\n",
    ")\n",
    "swe_df_small = swe_bench_lite_df.select(['instance_id', 'true_patch_file'])\n",
    "\n",
    "lite_merged_df, lite_model_stats = analyze_bench(lite_bench_df, swe_df_small)"
   ]
  },
  {
   "cell_type": "markdown",
   "metadata": {},
   "source": [
    "# Full bench\n",
    "\n",
    "## Experiments (5 best)\n",
    "\n",
    "- 20240820_honeycomb\n",
    "- 20240509_amazon-q-developer-agent-20240430-dev\n",
    "- 20240617_factory_code_droid\n",
    "- 20240628_autocoderover-v20240620\n",
    "- 20240620_sweagent_claude3.5sonnet"
   ]
  },
  {
   "cell_type": "code",
   "execution_count": 30,
   "metadata": {},
   "outputs": [],
   "source": [
    "full_experiments = [\n",
    "    '20240820_honeycomb',\n",
    "    '20240509_amazon-q-developer-agent-20240430-dev',\n",
    "    '20240617_factory_code_droid',\n",
    "    '20240628_autocoderover-v20240620',\n",
    "    '20240620_sweagent_claude3.5sonnet',\n",
    "]\n",
    "\n",
    "full_dir = './experiments/evaluation/test/'\n",
    "\n",
    "full_bench_df = process_experiments(full_experiments, full_dir)"
   ]
  },
  {
   "cell_type": "code",
   "execution_count": 31,
   "metadata": {},
   "outputs": [
    {
     "name": "stdout",
     "output_type": "stream",
     "text": [
      "Overall Statistics:\n",
      "Number of instances where 'file_changed' == 'true_patch_file': 6490\n",
      "Total number of instances: 11329\n",
      "Percentage of matches: 57.29%\n",
      "\n",
      "Resolved Instances:\n",
      "Number of instances where 'file_changed' == 'true_patch_file': 1765\n",
      "Total number of instances: 2113\n",
      "Percentage of matches: 83.53%\n",
      "\n",
      "Not Resolved Instances:\n",
      "Number of instances where 'file_changed' == 'true_patch_file': 4725\n",
      "Total number of instances: 9216\n",
      "Percentage of matches: 51.27%\n",
      "\n",
      "Model Statistics by Resolved Status:\n",
      "shape: (5, 5)\n",
      "┌───────────────────────────────┬──────────┬─────────────────┬────────────────┬────────────────────┐\n",
      "│ model_name_or_path            ┆ resolved ┆ total_instances ┆ num_same_files ┆ percentage_matches │\n",
      "│ ---                           ┆ ---      ┆ ---             ┆ ---            ┆ ---                │\n",
      "│ str                           ┆ bool     ┆ u32             ┆ u32            ┆ f64                │\n",
      "╞═══════════════════════════════╪══════════╪═════════════════╪════════════════╪════════════════════╡\n",
      "│ 20240620_sweagent_claude3.5so ┆ false    ┆ 1858            ┆ 600            ┆ 32.292788          │\n",
      "│ n…                            ┆          ┆                 ┆                ┆                    │\n",
      "│ 20240820_honeycomb            ┆ false    ┆ 1730            ┆ 801            ┆ 46.300578          │\n",
      "│ 20240628_autocoderover-v20240 ┆ false    ┆ 1809            ┆ 1044           ┆ 57.711443          │\n",
      "│ 6…                            ┆          ┆                 ┆                ┆                    │\n",
      "│ 20240509_amazon-q-developer-a ┆ false    ┆ 1977            ┆ 1165           ┆ 58.927668          │\n",
      "│ g…                            ┆          ┆                 ┆                ┆                    │\n",
      "│ 20240617_factory_code_droid   ┆ false    ┆ 1842            ┆ 1115           ┆ 60.53203           │\n",
      "└───────────────────────────────┴──────────┴─────────────────┴────────────────┴────────────────────┘\n"
     ]
    }
   ],
   "source": [
    "swe_df = swe_df.with_columns(\n",
    "    pl.col('patch').str.extract(pattern, 1).alias('true_patch_file')\n",
    ")\n",
    "swe_df_small = swe_df.select(['instance_id', 'true_patch_file'])\n",
    "\n",
    "full_merged_df, full_model_stats = analyze_bench(full_bench_df, swe_df_small)"
   ]
  },
  {
   "cell_type": "markdown",
   "metadata": {},
   "source": [
    "# Verified bench\n",
    "## Experiments (All)"
   ]
  },
  {
   "cell_type": "code",
   "execution_count": 36,
   "metadata": {},
   "outputs": [
    {
     "data": {
      "text/plain": [
       "['20231010_rag_claude2',\n",
       " '20231010_rag_gpt35',\n",
       " '20231010_rag_swellama13b',\n",
       " '20231010_rag_swellama7b',\n",
       " '20240402_rag_claude3opus',\n",
       " '20240402_rag_gpt4',\n",
       " '20240402_sweagent_claude3opus',\n",
       " '20240402_sweagent_gpt4',\n",
       " '20240509_amazon-q-developer-agent-20240430-dev',\n",
       " '20240615_appmap-navie_gpt4o',\n",
       " '20240617_factory_code_droid',\n",
       " '20240628_autocoderover-v20240620',\n",
       " '20240721_amazon-q-developer-agent-20240719-dev',\n",
       " '20240728_sweagent_gpt4o',\n",
       " '20240820_epam-ai-run-gpt-4o',\n",
       " '20240820_honeycomb',\n",
       " '20240824_gru',\n",
       " '20240918_lingma-agent_lingma-swe-gpt-72b',\n",
       " '20240918_lingma-agent_lingma-swe-gpt-7b',\n",
       " '20240920_solver',\n",
       " '20240924_solver',\n",
       " '20241001_nfactorial',\n",
       " '20241002_lingma-agent_lingma-swe-gpt-72b',\n",
       " '20241002_lingma-agent_lingma-swe-gpt-7b',\n",
       " '20241007_nfactorial',\n",
       " '20241016_composio_swekit',\n",
       " '20241016_epam-ai-run-gpt-4o',\n",
       " '20241022_tools_claude-3-5-haiku',\n",
       " '20241022_tools_claude-3-5-sonnet-updated',\n",
       " '20241023_emergent',\n",
       " '20241025_composio_swekit',\n",
       " '20241028_agentless-1.5_gpt4o',\n",
       " '20241029_epam-ai-run-claude-3-5-sonnet',\n",
       " '20241029_OpenHands-CodeAct-2.1-sonnet-20241022',\n",
       " '20241030_nfactorial',\n",
       " '20241105_nfactorial',\n",
       " '20241106_navie-2-gpt4o-sonnet',\n",
       " '20241108_autocoderover-v2.0-claude-3-5-sonnet-20241022',\n",
       " '20241108_devlo',\n",
       " '20241113_nebius-search-open-weight-models-11-24',\n",
       " '20241120_artemis_agent']"
      ]
     },
     "execution_count": 36,
     "metadata": {},
     "output_type": "execute_result"
    }
   ],
   "source": [
    "verified_dir = './experiments/evaluation/verified/'\n",
    "\n",
    "verified_experiments = os.listdir(verified_dir)\n",
    "verified_experiments.remove('20241028_solver')\n",
    "verified_experiments.remove('20240620_sweagent_claude3.5sonnet')\n",
    "verified_experiments"
   ]
  },
  {
   "cell_type": "code",
   "execution_count": 37,
   "metadata": {},
   "outputs": [
    {
     "data": {
      "text/html": [
       "<div><style>\n",
       ".dataframe > thead > tr,\n",
       ".dataframe > tbody > tr {\n",
       "  text-align: right;\n",
       "  white-space: pre-wrap;\n",
       "}\n",
       "</style>\n",
       "<small>shape: (22_178, 5)</small><table border=\"1\" class=\"dataframe\"><thead><tr><th>model_name_or_path</th><th>instance_id</th><th>file_changed</th><th>model_patch</th><th>resolved</th></tr><tr><td>str</td><td>str</td><td>str</td><td>str</td><td>bool</td></tr></thead><tbody><tr><td>&quot;20231010_rag_claude2&quot;</td><td>&quot;sympy__sympy-12419&quot;</td><td>&quot;sympy/matrices/expressions/mat…</td><td>&quot; Here is a patch file that fix…</td><td>false</td></tr><tr><td>&quot;20231010_rag_claude2&quot;</td><td>&quot;sympy__sympy-18698&quot;</td><td>&quot;sympy/polys/polytools.py&quot;</td><td>&quot;--- a/sympy/polys/polytools.py…</td><td>false</td></tr><tr><td>&quot;20231010_rag_claude2&quot;</td><td>&quot;sympy__sympy-15599&quot;</td><td>&quot;sympy/core/mod.py&quot;</td><td>&quot;--- a/sympy/core/mod.py\n",
       "+++ b/…</td><td>false</td></tr><tr><td>&quot;20231010_rag_claude2&quot;</td><td>&quot;astropy__astropy-14539&quot;</td><td>&quot;astropy/io/fits/diff.py&quot;</td><td>&quot;--- a/astropy/io/fits/diff.py\n",
       "…</td><td>false</td></tr><tr><td>&quot;20231010_rag_claude2&quot;</td><td>&quot;sympy__sympy-16450&quot;</td><td>&quot;sympy/assumptions/posify.py&quot;</td><td>&quot;--- a/sympy/assumptions/posify…</td><td>false</td></tr><tr><td>&hellip;</td><td>&hellip;</td><td>&hellip;</td><td>&hellip;</td><td>&hellip;</td></tr><tr><td>&quot;20241120_artemis_agent&quot;</td><td>&quot;sympy__sympy-24213&quot;</td><td>&quot;sympy/physics/units/unitsystem…</td><td>&quot;diff --git a/sympy/physics/uni…</td><td>true</td></tr><tr><td>&quot;20241120_artemis_agent&quot;</td><td>&quot;sympy__sympy-24443&quot;</td><td>&quot;sympy/combinatorics/homomorphi…</td><td>&quot;diff --git a/sympy/combinatori…</td><td>true</td></tr><tr><td>&quot;20241120_artemis_agent&quot;</td><td>&quot;sympy__sympy-24539&quot;</td><td>&quot;sympy/polys/rings.py&quot;</td><td>&quot;diff --git a/sympy/polys/rings…</td><td>true</td></tr><tr><td>&quot;20241120_artemis_agent&quot;</td><td>&quot;sympy__sympy-24562&quot;</td><td>&quot;sympy/core/numbers.py&quot;</td><td>&quot;diff --git a/sympy/core/number…</td><td>false</td></tr><tr><td>&quot;20241120_artemis_agent&quot;</td><td>&quot;sympy__sympy-24661&quot;</td><td>&quot;sympy/parsing/sympy_parser.py&quot;</td><td>&quot;diff --git a/sympy/parsing/sym…</td><td>true</td></tr></tbody></table></div>"
      ],
      "text/plain": [
       "shape: (22_178, 5)\n",
       "┌─────────────────────┬─────────────────────┬─────────────────────┬─────────────────────┬──────────┐\n",
       "│ model_name_or_path  ┆ instance_id         ┆ file_changed        ┆ model_patch         ┆ resolved │\n",
       "│ ---                 ┆ ---                 ┆ ---                 ┆ ---                 ┆ ---      │\n",
       "│ str                 ┆ str                 ┆ str                 ┆ str                 ┆ bool     │\n",
       "╞═════════════════════╪═════════════════════╪═════════════════════╪═════════════════════╪══════════╡\n",
       "│ 20231010_rag_claude ┆ sympy__sympy-12419  ┆ sympy/matrices/expr ┆ Here is a patch     ┆ false    │\n",
       "│ 2                   ┆                     ┆ essions/mat…        ┆ file that fix…      ┆          │\n",
       "│ 20231010_rag_claude ┆ sympy__sympy-18698  ┆ sympy/polys/polytoo ┆ --- a/sympy/polys/p ┆ false    │\n",
       "│ 2                   ┆                     ┆ ls.py               ┆ olytools.py…        ┆          │\n",
       "│ 20231010_rag_claude ┆ sympy__sympy-15599  ┆ sympy/core/mod.py   ┆ ---                 ┆ false    │\n",
       "│ 2                   ┆                     ┆                     ┆ a/sympy/core/mod.py ┆          │\n",
       "│                     ┆                     ┆                     ┆ +++ b/…             ┆          │\n",
       "│ 20231010_rag_claude ┆ astropy__astropy-14 ┆ astropy/io/fits/dif ┆ --- a/astropy/io/fi ┆ false    │\n",
       "│ 2                   ┆ 539                 ┆ f.py                ┆ ts/diff.py          ┆          │\n",
       "│                     ┆                     ┆                     ┆ …                   ┆          │\n",
       "│ 20231010_rag_claude ┆ sympy__sympy-16450  ┆ sympy/assumptions/p ┆ --- a/sympy/assumpt ┆ false    │\n",
       "│ 2                   ┆                     ┆ osify.py            ┆ ions/posify…        ┆          │\n",
       "│ …                   ┆ …                   ┆ …                   ┆ …                   ┆ …        │\n",
       "│ 20241120_artemis_ag ┆ sympy__sympy-24213  ┆ sympy/physics/units ┆ diff --git a/sympy/ ┆ true     │\n",
       "│ ent                 ┆                     ┆ /unitsystem…        ┆ physics/uni…        ┆          │\n",
       "│ 20241120_artemis_ag ┆ sympy__sympy-24443  ┆ sympy/combinatorics ┆ diff --git a/sympy/ ┆ true     │\n",
       "│ ent                 ┆                     ┆ /homomorphi…        ┆ combinatori…        ┆          │\n",
       "│ 20241120_artemis_ag ┆ sympy__sympy-24539  ┆ sympy/polys/rings.p ┆ diff --git a/sympy/ ┆ true     │\n",
       "│ ent                 ┆                     ┆ y                   ┆ polys/rings…        ┆          │\n",
       "│ 20241120_artemis_ag ┆ sympy__sympy-24562  ┆ sympy/core/numbers. ┆ diff --git a/sympy/ ┆ false    │\n",
       "│ ent                 ┆                     ┆ py                  ┆ core/number…        ┆          │\n",
       "│ 20241120_artemis_ag ┆ sympy__sympy-24661  ┆ sympy/parsing/sympy ┆ diff --git a/sympy/ ┆ true     │\n",
       "│ ent                 ┆                     ┆ _parser.py          ┆ parsing/sym…        ┆          │\n",
       "└─────────────────────┴─────────────────────┴─────────────────────┴─────────────────────┴──────────┘"
      ]
     },
     "execution_count": 37,
     "metadata": {},
     "output_type": "execute_result"
    }
   ],
   "source": [
    "verified_df = process_experiments(verified_experiments, verified_dir)\n",
    "verified_df"
   ]
  },
  {
   "cell_type": "code",
   "execution_count": 38,
   "metadata": {},
   "outputs": [
    {
     "name": "stdout",
     "output_type": "stream",
     "text": [
      "Overall Statistics:\n",
      "Number of instances where 'file_changed' == 'true_patch_file': 12609\n",
      "Total number of instances: 20435\n",
      "Percentage of matches: 61.70%\n",
      "\n",
      "Resolved Instances:\n",
      "Number of instances where 'file_changed' == 'true_patch_file': 5611\n",
      "Total number of instances: 6401\n",
      "Percentage of matches: 87.66%\n",
      "\n",
      "Not Resolved Instances:\n",
      "Number of instances where 'file_changed' == 'true_patch_file': 6998\n",
      "Total number of instances: 14034\n",
      "Percentage of matches: 49.86%\n",
      "\n",
      "Model Statistics by Resolved Status:\n",
      "shape: (41, 5)\n",
      "┌───────────────────────────────┬──────────┬─────────────────┬────────────────┬────────────────────┐\n",
      "│ model_name_or_path            ┆ resolved ┆ total_instances ┆ num_same_files ┆ percentage_matches │\n",
      "│ ---                           ┆ ---      ┆ ---             ┆ ---            ┆ ---                │\n",
      "│ str                           ┆ bool     ┆ u32             ┆ u32            ┆ f64                │\n",
      "╞═══════════════════════════════╪══════════╪═════════════════╪════════════════╪════════════════════╡\n",
      "│ 20231010_rag_swellama7b       ┆ false    ┆ 489             ┆ 70             ┆ 14.314928          │\n",
      "│ 20231010_rag_swellama13b      ┆ false    ┆ 475             ┆ 68             ┆ 14.315789          │\n",
      "│ 20240402_sweagent_claude3opus ┆ false    ┆ 493             ┆ 145            ┆ 29.411765          │\n",
      "│ 20241022_tools_claude-3-5-hai ┆ false    ┆ 291             ┆ 95             ┆ 32.646048          │\n",
      "│ k…                            ┆          ┆                 ┆                ┆                    │\n",
      "│ 20231010_rag_gpt35            ┆ false    ┆ 498             ┆ 163            ┆ 32.730924          │\n",
      "│ …                             ┆ …        ┆ …               ┆ …              ┆ …                  │\n",
      "│ 20241120_artemis_agent        ┆ false    ┆ 340             ┆ 215            ┆ 63.235294          │\n",
      "│ 20241029_epam-ai-run-claude-3 ┆ false    ┆ 302             ┆ 191            ┆ 63.245033          │\n",
      "│ -…                            ┆          ┆                 ┆                ┆                    │\n",
      "│ 20241105_nfactorial           ┆ false    ┆ 251             ┆ 159            ┆ 63.346614          │\n",
      "│ 20240617_factory_code_droid   ┆ false    ┆ 315             ┆ 201            ┆ 63.809524          │\n",
      "│ 20241030_nfactorial           ┆ false    ┆ 290             ┆ 195            ┆ 67.241379          │\n",
      "└───────────────────────────────┴──────────┴─────────────────┴────────────────┴────────────────────┘\n"
     ]
    }
   ],
   "source": [
    "swe_bench_verified_df = swe_bench_verified_df.with_columns(\n",
    "    pl.col('patch').str.extract(pattern, 1).alias('true_patch_file')\n",
    ")\n",
    "swe_df_verified = swe_bench_verified_df.select(['instance_id', 'true_patch_file'])\n",
    "\n",
    "verified_merged_df, verified_model_stats = analyze_bench(verified_df, swe_df_verified)"
   ]
  },
  {
   "cell_type": "code",
   "execution_count": null,
   "metadata": {},
   "outputs": [
    {
     "data": {
      "text/plain": [
       "polars.config.Config"
      ]
     },
     "execution_count": 44,
     "metadata": {},
     "output_type": "execute_result"
    }
   ],
   "source": [
    "pl.Config.set_tbl_rows(100)"
   ]
  },
  {
   "cell_type": "code",
   "execution_count": null,
   "metadata": {},
   "outputs": [
    {
     "data": {
      "text/html": [
       "<div><style>\n",
       ".dataframe > thead > tr,\n",
       ".dataframe > tbody > tr {\n",
       "  text-align: right;\n",
       "  white-space: pre-wrap;\n",
       "}\n",
       "</style>\n",
       "<small>shape: (17, 5)</small><table border=\"1\" class=\"dataframe\"><thead><tr><th>model_name_or_path</th><th>resolved</th><th>total_instances</th><th>num_same_files</th><th>percentage_matches</th></tr><tr><td>str</td><td>bool</td><td>u32</td><td>u32</td><td>f64</td></tr></thead><tbody><tr><td>&quot;20231010_rag_swellama7b&quot;</td><td>false</td><td>489</td><td>70</td><td>14.314928</td></tr><tr><td>&quot;20231010_rag_swellama13b&quot;</td><td>false</td><td>475</td><td>68</td><td>14.315789</td></tr><tr><td>&quot;20240402_sweagent_claude3opus&quot;</td><td>false</td><td>493</td><td>145</td><td>29.411765</td></tr><tr><td>&quot;20231010_rag_gpt35&quot;</td><td>false</td><td>498</td><td>163</td><td>32.730924</td></tr><tr><td>&quot;20240402_sweagent_gpt4&quot;</td><td>false</td><td>390</td><td>132</td><td>33.846154</td></tr><tr><td>&quot;20240728_sweagent_gpt4o&quot;</td><td>false</td><td>349</td><td>131</td><td>37.535817</td></tr><tr><td>&quot;20240615_appmap-navie_gpt4o&quot;</td><td>false</td><td>368</td><td>173</td><td>47.01087</td></tr><tr><td>&quot;20240402_rag_gpt4&quot;</td><td>false</td><td>486</td><td>229</td><td>47.119342</td></tr><tr><td>&quot;20231010_rag_claude2&quot;</td><td>false</td><td>478</td><td>234</td><td>48.953975</td></tr><tr><td>&quot;20240820_honeycomb&quot;</td><td>false</td><td>290</td><td>145</td><td>50.0</td></tr><tr><td>&quot;20240402_rag_claude3opus&quot;</td><td>false</td><td>465</td><td>236</td><td>50.752688</td></tr><tr><td>&quot;20240824_gru&quot;</td><td>false</td><td>274</td><td>152</td><td>55.474453</td></tr><tr><td>&quot;20240721_amazon-q-developer-agent-20240719-dev&quot;</td><td>false</td><td>306</td><td>180</td><td>58.823529</td></tr><tr><td>&quot;20240509_amazon-q-developer-agent-20240430-dev&quot;</td><td>false</td><td>372</td><td>220</td><td>59.139785</td></tr><tr><td>&quot;20240820_epam-ai-run-gpt-4o&quot;</td><td>false</td><td>380</td><td>226</td><td>59.473684</td></tr><tr><td>&quot;20240628_autocoderover-v20240620&quot;</td><td>false</td><td>300</td><td>183</td><td>61.0</td></tr><tr><td>&quot;20240617_factory_code_droid&quot;</td><td>false</td><td>315</td><td>201</td><td>63.809524</td></tr></tbody></table></div>"
      ],
      "text/plain": [
       "shape: (17, 5)\n",
       "┌───────────────────────────────┬──────────┬─────────────────┬────────────────┬────────────────────┐\n",
       "│ model_name_or_path            ┆ resolved ┆ total_instances ┆ num_same_files ┆ percentage_matches │\n",
       "│ ---                           ┆ ---      ┆ ---             ┆ ---            ┆ ---                │\n",
       "│ str                           ┆ bool     ┆ u32             ┆ u32            ┆ f64                │\n",
       "╞═══════════════════════════════╪══════════╪═════════════════╪════════════════╪════════════════════╡\n",
       "│ 20231010_rag_swellama7b       ┆ false    ┆ 489             ┆ 70             ┆ 14.314928          │\n",
       "│ 20231010_rag_swellama13b      ┆ false    ┆ 475             ┆ 68             ┆ 14.315789          │\n",
       "│ 20240402_sweagent_claude3opus ┆ false    ┆ 493             ┆ 145            ┆ 29.411765          │\n",
       "│ 20231010_rag_gpt35            ┆ false    ┆ 498             ┆ 163            ┆ 32.730924          │\n",
       "│ 20240402_sweagent_gpt4        ┆ false    ┆ 390             ┆ 132            ┆ 33.846154          │\n",
       "│ 20240728_sweagent_gpt4o       ┆ false    ┆ 349             ┆ 131            ┆ 37.535817          │\n",
       "│ 20240615_appmap-navie_gpt4o   ┆ false    ┆ 368             ┆ 173            ┆ 47.01087           │\n",
       "│ 20240402_rag_gpt4             ┆ false    ┆ 486             ┆ 229            ┆ 47.119342          │\n",
       "│ 20231010_rag_claude2          ┆ false    ┆ 478             ┆ 234            ┆ 48.953975          │\n",
       "│ 20240820_honeycomb            ┆ false    ┆ 290             ┆ 145            ┆ 50.0               │\n",
       "│ 20240402_rag_claude3opus      ┆ false    ┆ 465             ┆ 236            ┆ 50.752688          │\n",
       "│ 20240824_gru                  ┆ false    ┆ 274             ┆ 152            ┆ 55.474453          │\n",
       "│ 20240721_amazon-q-developer-a ┆ false    ┆ 306             ┆ 180            ┆ 58.823529          │\n",
       "│ gent-20240719-dev             ┆          ┆                 ┆                ┆                    │\n",
       "│ 20240509_amazon-q-developer-a ┆ false    ┆ 372             ┆ 220            ┆ 59.139785          │\n",
       "│ gent-20240430-dev             ┆          ┆                 ┆                ┆                    │\n",
       "│ 20240820_epam-ai-run-gpt-4o   ┆ false    ┆ 380             ┆ 226            ┆ 59.473684          │\n",
       "│ 20240628_autocoderover-v20240 ┆ false    ┆ 300             ┆ 183            ┆ 61.0               │\n",
       "│ 620                           ┆          ┆                 ┆                ┆                    │\n",
       "│ 20240617_factory_code_droid   ┆ false    ┆ 315             ┆ 201            ┆ 63.809524          │\n",
       "└───────────────────────────────┴──────────┴─────────────────┴────────────────┴────────────────────┘"
      ]
     },
     "execution_count": 49,
     "metadata": {},
     "output_type": "execute_result"
    }
   ],
   "source": [
    "verified_model_stats.filter(pl.col('resolved') == False).sort('percentage_matches')"
   ]
  },
  {
   "cell_type": "code",
   "execution_count": null,
   "metadata": {},
   "outputs": [],
   "source": []
  }
 ],
 "metadata": {
  "kernelspec": {
   "display_name": "venv",
   "language": "python",
   "name": "python3"
  },
  "language_info": {
   "codemirror_mode": {
    "name": "ipython",
    "version": 3
   },
   "file_extension": ".py",
   "mimetype": "text/x-python",
   "name": "python",
   "nbconvert_exporter": "python",
   "pygments_lexer": "ipython3",
   "version": "3.11.5"
  }
 },
 "nbformat": 4,
 "nbformat_minor": 2
}
